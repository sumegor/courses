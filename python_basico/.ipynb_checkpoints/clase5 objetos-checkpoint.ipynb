{
 "cells": [
  {
   "cell_type": "markdown",
   "metadata": {},
   "source": [
    "# Python Orientado a Objetos"
   ]
  },
  {
   "cell_type": "markdown",
   "metadata": {},
   "source": [
    "## Clase"
   ]
  },
  {
   "cell_type": "code",
   "execution_count": 86,
   "metadata": {},
   "outputs": [],
   "source": [
    "class clase1era:\n",
    "    ## Atributos estaticos\n",
    "    atributo1=0\n",
    "    a='a'\n",
    "    nombre_clase='beta'\n",
    "    falso=False\n",
    "    cant_clases=0\n",
    "    \n",
    "    ##print(a)\n",
    "    \n",
    "    ##Metodos\n",
    "    ##------> constructor\n",
    "    def __init__(self, nuevoNombre=\"Clase\"):\n",
    "        self.atributo1=self.atributo1+1\n",
    "        self.nombre_clase= nuevoNombre\n",
    "        clase1era.cant_clases=clase1era.cant_clases+1 ## estatico\n",
    "    \n",
    "    def print_clase(self):\n",
    "        mensaje= \"Hola! \"+ \"Esta es la clase # \"+ str(self.atributo1)\n",
    "        print(mensaje)\n",
    "        return mensaje\n",
    "    \n",
    "    def print_nombre(self):\n",
    "        print(\"El nombre de la clase es: \", self.nombre_clase)\n",
    "        \n",
    "    def get_cant_clases(self):\n",
    "        return clase1era.cant_clases ## estatico\n"
   ]
  },
  {
   "cell_type": "markdown",
   "metadata": {},
   "source": [
    "## Objetos"
   ]
  },
  {
   "cell_type": "code",
   "execution_count": 87,
   "metadata": {},
   "outputs": [],
   "source": [
    "obj1= clase1era()\n",
    "obj2= clase1era(\"Clase # 2\")\n",
    "obj3= clase1era(\"clase tres\")"
   ]
  },
  {
   "cell_type": "code",
   "execution_count": 88,
   "metadata": {},
   "outputs": [
    {
     "data": {
      "text/plain": [
       "'clase tres'"
      ]
     },
     "execution_count": 88,
     "metadata": {},
     "output_type": "execute_result"
    }
   ],
   "source": [
    "## consultar atributos\n",
    "\n",
    "obj1.a\n",
    "obj1.atributo1\n",
    "obj2.atributo1\n",
    "obj2.nombre_clase\n",
    "obj3.nombre_clase"
   ]
  },
  {
   "cell_type": "code",
   "execution_count": 89,
   "metadata": {},
   "outputs": [
    {
     "name": "stdout",
     "output_type": "stream",
     "text": [
      "Hola! Esta es la clase # 1\n"
     ]
    },
    {
     "data": {
      "text/plain": [
       "'Hola! Esta es la clase # 1'"
      ]
     },
     "execution_count": 89,
     "metadata": {},
     "output_type": "execute_result"
    }
   ],
   "source": [
    "## llamando metodos de una clase\n",
    "obj1.print_clase()\n"
   ]
  },
  {
   "cell_type": "code",
   "execution_count": 90,
   "metadata": {},
   "outputs": [
    {
     "name": "stdout",
     "output_type": "stream",
     "text": [
      "Hola! Esta es la clase # 1\n"
     ]
    },
    {
     "data": {
      "text/plain": [
       "'Hola! Esta es la clase # 1'"
      ]
     },
     "execution_count": 90,
     "metadata": {},
     "output_type": "execute_result"
    }
   ],
   "source": [
    "obj2.print_clase()"
   ]
  },
  {
   "cell_type": "code",
   "execution_count": 91,
   "metadata": {},
   "outputs": [
    {
     "name": "stdout",
     "output_type": "stream",
     "text": [
      "Hola! Esta es la clase # 1\n"
     ]
    },
    {
     "data": {
      "text/plain": [
       "'Hola! Esta es la clase # 1'"
      ]
     },
     "execution_count": 91,
     "metadata": {},
     "output_type": "execute_result"
    }
   ],
   "source": [
    "obj3.print_clase()"
   ]
  },
  {
   "cell_type": "code",
   "execution_count": 92,
   "metadata": {},
   "outputs": [
    {
     "data": {
      "text/plain": [
       "3"
      ]
     },
     "execution_count": 92,
     "metadata": {},
     "output_type": "execute_result"
    }
   ],
   "source": [
    "obj1.get_cant_clases()"
   ]
  },
  {
   "cell_type": "code",
   "execution_count": 93,
   "metadata": {},
   "outputs": [
    {
     "data": {
      "text/plain": [
       "3"
      ]
     },
     "execution_count": 93,
     "metadata": {},
     "output_type": "execute_result"
    }
   ],
   "source": [
    "obj3.get_cant_clases()"
   ]
  },
  {
   "cell_type": "code",
   "execution_count": 94,
   "metadata": {},
   "outputs": [],
   "source": [
    "obj4 = clase1era(\"4\")"
   ]
  },
  {
   "cell_type": "code",
   "execution_count": 95,
   "metadata": {},
   "outputs": [
    {
     "data": {
      "text/plain": [
       "4"
      ]
     },
     "execution_count": 95,
     "metadata": {},
     "output_type": "execute_result"
    }
   ],
   "source": [
    "obj4.get_cant_clases()"
   ]
  },
  {
   "cell_type": "code",
   "execution_count": 96,
   "metadata": {},
   "outputs": [],
   "source": [
    "## Objetos\n",
    "\n",
    "lista1=list()\n",
    "lista1.append(obj1)"
   ]
  },
  {
   "cell_type": "code",
   "execution_count": 102,
   "metadata": {},
   "outputs": [
    {
     "data": {
      "text/plain": [
       "1"
      ]
     },
     "execution_count": 102,
     "metadata": {},
     "output_type": "execute_result"
    }
   ],
   "source": [
    "len(lista1)"
   ]
  },
  {
   "cell_type": "code",
   "execution_count": 103,
   "metadata": {},
   "outputs": [
    {
     "data": {
      "text/plain": [
       "__main__.clase1era"
      ]
     },
     "execution_count": 103,
     "metadata": {},
     "output_type": "execute_result"
    }
   ],
   "source": [
    "type(lista1[0])"
   ]
  },
  {
   "cell_type": "code",
   "execution_count": 104,
   "metadata": {},
   "outputs": [],
   "source": [
    "lista1.append(obj2)\n",
    "lista1.append(obj3)\n",
    "lista1.append(obj4)"
   ]
  },
  {
   "cell_type": "code",
   "execution_count": 106,
   "metadata": {},
   "outputs": [
    {
     "name": "stdout",
     "output_type": "stream",
     "text": [
      "El nombre de la clase es:  Clase\n",
      "El nombre de la clase es:  Clase # 2\n",
      "El nombre de la clase es:  clase tres\n",
      "El nombre de la clase es:  4\n"
     ]
    }
   ],
   "source": [
    "for objeto in lista1:\n",
    "    objeto.print_nombre()"
   ]
  },
  {
   "cell_type": "code",
   "execution_count": 107,
   "metadata": {},
   "outputs": [
    {
     "name": "stdout",
     "output_type": "stream",
     "text": [
      "El nombre de la clase es:  Clase\n",
      "El nombre de la clase es:  Clase # 2\n",
      "El nombre de la clase es:  clase tres\n",
      "El nombre de la clase es:  4\n"
     ]
    }
   ],
   "source": [
    "for indice in range(0,len(lista1)):\n",
    "    lista1[indice].print_nombre()"
   ]
  },
  {
   "cell_type": "markdown",
   "metadata": {},
   "source": [
    "# Herencia"
   ]
  },
  {
   "cell_type": "code",
   "execution_count": 109,
   "metadata": {},
   "outputs": [],
   "source": [
    "class Madre():\n",
    "    nombreM=\"madre\"\n",
    "    \n",
    "    def __init__(self, nombreM=\"Mother\",edad=100):\n",
    "        self.nombreM= nombreM\n",
    "    \n",
    "    def get_nombreM(self):\n",
    "        print(\"Nombre de la madre: \",self.nombreM)\n",
    "        return self.nombreM\n",
    "        \n",
    "    def set_nombreM(self, nuevoNombre):\n",
    "        self.nombreM=nuevoNombre\n",
    "        print(\"El nuevo nombre de la clase Madre es\", self.nombreM)     "
   ]
  },
  {
   "cell_type": "code",
   "execution_count": 115,
   "metadata": {},
   "outputs": [],
   "source": [
    "class Hija(Madre):\n",
    "    nombreH=\"hija\"\n",
    "    edadH=1\n",
    "    def __init__(self,nombreH=\"hija\", edadH=1, nombreM=\"madre\", edad=1000):\n",
    "        super().__init__(nombreM, edad)\n",
    "        self.nombreH=nombreH\n",
    "        self.edadH=edadH\n",
    "        \n",
    "    def get_nombreH(self):\n",
    "        print(self.nombreH)\n",
    "        return self.nombreH\n",
    "    \n",
    "    def set_nombreH(self, nuevoNombre):\n",
    "        self.nombreH=nuevoNombre\n",
    "        print(self.nombreH)\n"
   ]
  },
  {
   "cell_type": "code",
   "execution_count": 116,
   "metadata": {},
   "outputs": [],
   "source": [
    "##Objetos clase madre\n",
    "m1= Madre()\n",
    "m2= Madre(\"Mutti\", 50)\n",
    "m3= Madre(\"Mom\", 40)"
   ]
  },
  {
   "cell_type": "code",
   "execution_count": 117,
   "metadata": {},
   "outputs": [],
   "source": [
    "##Objetos clase hija\n",
    "h1 = Hija()\n",
    "h2 = Hija(\"hija2\", 20,\"Mutti\", 50 )\n",
    "h3 = Hija(\"hija3\", 30,\"Mom\", 60 )"
   ]
  },
  {
   "cell_type": "code",
   "execution_count": 118,
   "metadata": {},
   "outputs": [
    {
     "name": "stdout",
     "output_type": "stream",
     "text": [
      "Nombre de la madre:  Mother\n"
     ]
    },
    {
     "data": {
      "text/plain": [
       "'Mother'"
      ]
     },
     "execution_count": 118,
     "metadata": {},
     "output_type": "execute_result"
    }
   ],
   "source": [
    "m1.get_nombreM()"
   ]
  },
  {
   "cell_type": "code",
   "execution_count": 119,
   "metadata": {},
   "outputs": [
    {
     "name": "stdout",
     "output_type": "stream",
     "text": [
      "Nombre de la madre:  Mutti\n"
     ]
    },
    {
     "data": {
      "text/plain": [
       "'Mutti'"
      ]
     },
     "execution_count": 119,
     "metadata": {},
     "output_type": "execute_result"
    }
   ],
   "source": [
    "m2.get_nombreM()"
   ]
  },
  {
   "cell_type": "code",
   "execution_count": 120,
   "metadata": {},
   "outputs": [
    {
     "name": "stdout",
     "output_type": "stream",
     "text": [
      "hija\n"
     ]
    },
    {
     "data": {
      "text/plain": [
       "'hija'"
      ]
     },
     "execution_count": 120,
     "metadata": {},
     "output_type": "execute_result"
    }
   ],
   "source": [
    "h1.get_nombreH()"
   ]
  },
  {
   "cell_type": "code",
   "execution_count": 121,
   "metadata": {},
   "outputs": [
    {
     "name": "stdout",
     "output_type": "stream",
     "text": [
      "Nombre de la madre:  madre\n"
     ]
    },
    {
     "data": {
      "text/plain": [
       "'madre'"
      ]
     },
     "execution_count": 121,
     "metadata": {},
     "output_type": "execute_result"
    }
   ],
   "source": [
    "h1.get_nombreM()"
   ]
  },
  {
   "cell_type": "code",
   "execution_count": 122,
   "metadata": {},
   "outputs": [
    {
     "name": "stdout",
     "output_type": "stream",
     "text": [
      "Nombre de la madre:  Mutti\n"
     ]
    },
    {
     "data": {
      "text/plain": [
       "'Mutti'"
      ]
     },
     "execution_count": 122,
     "metadata": {},
     "output_type": "execute_result"
    }
   ],
   "source": [
    "h2.get_nombreM()"
   ]
  },
  {
   "cell_type": "code",
   "execution_count": 123,
   "metadata": {},
   "outputs": [
    {
     "name": "stdout",
     "output_type": "stream",
     "text": [
      "Nombre de la madre:  Mom\n"
     ]
    },
    {
     "data": {
      "text/plain": [
       "'Mom'"
      ]
     },
     "execution_count": 123,
     "metadata": {},
     "output_type": "execute_result"
    }
   ],
   "source": [
    "h3.get_nombreM()"
   ]
  },
  {
   "cell_type": "code",
   "execution_count": null,
   "metadata": {},
   "outputs": [],
   "source": []
  }
 ],
 "metadata": {
  "kernelspec": {
   "display_name": "Python 3",
   "language": "python",
   "name": "python3"
  },
  "language_info": {
   "codemirror_mode": {
    "name": "ipython",
    "version": 3
   },
   "file_extension": ".py",
   "mimetype": "text/x-python",
   "name": "python",
   "nbconvert_exporter": "python",
   "pygments_lexer": "ipython3",
   "version": "3.8.3"
  }
 },
 "nbformat": 4,
 "nbformat_minor": 4
}
