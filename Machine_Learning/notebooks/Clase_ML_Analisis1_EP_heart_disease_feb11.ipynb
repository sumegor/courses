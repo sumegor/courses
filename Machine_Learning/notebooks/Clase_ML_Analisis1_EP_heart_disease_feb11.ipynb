{
  "nbformat": 4,
  "nbformat_minor": 0,
  "metadata": {
    "colab": {
      "provenance": [],
      "toc_visible": true
    },
    "kernelspec": {
      "name": "python3",
      "display_name": "Python 3"
    },
    "language_info": {
      "name": "python"
    }
  },
  "cells": [
    {
      "cell_type": "markdown",
      "source": [
        "**NOMBRE COMPLETO:**\n",
        "\n"
      ],
      "metadata": {
        "id": "tUfQ8miVY6C0"
      }
    },
    {
      "cell_type": "markdown",
      "source": [
        "# Ejercicio de Análisis Exploratorio de Datos\n",
        "\n",
        "Use el archivo de `heart.csv `con datos sobre **pacientes con enfermedades cardiacas** 💔 🏥 📈.\n",
        "\n",
        "* Puede ver el archivo CSV aquí 🔍 :\n",
        "https://github.com/sumegor/courses/blob/main/datasets/heart.csv\n",
        "\n",
        "* Para **descargar** use este enlace ▶: https://raw.githubusercontent.com/sumegor/courses/refs/heads/main/datasets/heart.csv\n",
        "\n",
        "* Lectura 🤓 recomendada de **contextualización** 📚: https://medlineplus.gov/spanish/heartdiseases.html\n",
        "\n",
        "\n"
      ],
      "metadata": {
        "id": "lJqtc1IxYtqb"
      }
    },
    {
      "cell_type": "markdown",
      "source": [
        "## Actividades del ejercicio práctico\n",
        "\n",
        "Debe analizar de manera ordenada **3 variables del conjunto de datos**.\n",
        "\n",
        "Debe incluir como parte de su análisis gráficas de:\n",
        "* Barras\n",
        "* Histogramas\n",
        "* Diagramas de densidad.\n",
        "\n",
        "Use las secciones de los bloques de texto y los bloques de código de manera organizada para mostrar su análisis exploratorio de datos (EDA)."
      ],
      "metadata": {
        "id": "4zP2RspXb6fP"
      }
    },
    {
      "cell_type": "markdown",
      "source": [
        "Cargue las librería necesarias:"
      ],
      "metadata": {
        "id": "25lDIP04aCkC"
      }
    },
    {
      "cell_type": "code",
      "execution_count": null,
      "metadata": {
        "id": "-O0RG7BrYdCn"
      },
      "outputs": [],
      "source": [
        "# cargar librerías"
      ]
    },
    {
      "cell_type": "markdown",
      "source": [
        "## Cargue el archivo"
      ],
      "metadata": {
        "id": "dBHpNzwrZ_gl"
      }
    },
    {
      "cell_type": "code",
      "source": [
        "# cargar archivo aquí"
      ],
      "metadata": {
        "id": "JJMxEhb7aAUZ"
      },
      "execution_count": null,
      "outputs": []
    },
    {
      "cell_type": "markdown",
      "source": [
        "## Análisis Variable 1:"
      ],
      "metadata": {
        "id": "JKQhV3LoaAdC"
      }
    },
    {
      "cell_type": "code",
      "source": [
        "#código"
      ],
      "metadata": {
        "id": "8FUxpTT8aAkj"
      },
      "execution_count": null,
      "outputs": []
    },
    {
      "cell_type": "markdown",
      "source": [
        "## Análisis Variable 2:"
      ],
      "metadata": {
        "id": "QQPsqpH4aAsQ"
      }
    },
    {
      "cell_type": "code",
      "source": [
        "#código"
      ],
      "metadata": {
        "id": "CTUTIwRAalsa"
      },
      "execution_count": null,
      "outputs": []
    },
    {
      "cell_type": "markdown",
      "source": [
        "## Análisis Variable 3:"
      ],
      "metadata": {
        "id": "fJ5GBQ3cal0e"
      }
    },
    {
      "cell_type": "code",
      "source": [
        "#código"
      ],
      "metadata": {
        "id": "tckk3V1UbFbI"
      },
      "execution_count": null,
      "outputs": []
    },
    {
      "cell_type": "markdown",
      "source": [
        "# Conclusiones\n",
        "\n",
        "\n",
        "1.   Encontró algo interesante en los datos?\n",
        "2.   Encontró algo extraño en los datos?\n",
        "3.   Cuál sería la afirmación más interesante sobre estos datos según su análisis?\n",
        "\n"
      ],
      "metadata": {
        "id": "AFwIwiThaoS0"
      }
    }
  ]
}