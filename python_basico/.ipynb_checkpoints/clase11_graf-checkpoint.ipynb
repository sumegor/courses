{
 "cells": [
  {
   "cell_type": "markdown",
   "metadata": {},
   "source": [
    "# Análisis y Visualización de Datos de Ventas\n",
    "\n",
    "Archivo:sales_data_dirty.xlxs"
   ]
  },
  {
   "cell_type": "code",
   "execution_count": 94,
   "metadata": {},
   "outputs": [],
   "source": [
    "import pandas as pd\n",
    "import matplotlib.pyplot as plt \n",
    "import seaborn as sns"
   ]
  },
  {
   "cell_type": "markdown",
   "metadata": {},
   "source": [
    "Cargar el archivo el local:"
   ]
  },
  {
   "cell_type": "code",
   "execution_count": 96,
   "metadata": {},
   "outputs": [],
   "source": [
    "datosU= pd.ExcelFile(\"sales_data_dirty.xlsx\")"
   ]
  },
  {
   "cell_type": "markdown",
   "metadata": {},
   "source": [
    "Cargar el archivo desde una URL:"
   ]
  },
  {
   "cell_type": "code",
   "execution_count": 97,
   "metadata": {},
   "outputs": [],
   "source": [
    "datos= pd.ExcelFile(\"https://github.com/adelnehme/python-for-excel-users-webinar/blob/master/sales_data_dirty.xlsx?raw=true\")"
   ]
  },
  {
   "cell_type": "code",
   "execution_count": 98,
   "metadata": {},
   "outputs": [
    {
     "data": {
      "text/plain": [
       "['sales', 'customers', 'dates', 'employees']"
      ]
     },
     "execution_count": 98,
     "metadata": {},
     "output_type": "execute_result"
    }
   ],
   "source": [
    "datosU.sheet_names"
   ]
  },
  {
   "cell_type": "code",
   "execution_count": 99,
   "metadata": {},
   "outputs": [
    {
     "data": {
      "text/plain": [
       "['sales', 'customers', 'dates', 'employees']"
      ]
     },
     "execution_count": 99,
     "metadata": {},
     "output_type": "execute_result"
    }
   ],
   "source": [
    "datos.sheet_names"
   ]
  },
  {
   "cell_type": "code",
   "execution_count": 100,
   "metadata": {},
   "outputs": [
    {
     "data": {
      "text/plain": [
       "list"
      ]
     },
     "execution_count": 100,
     "metadata": {},
     "output_type": "execute_result"
    }
   ],
   "source": [
    "type(datos.sheet_names)"
   ]
  },
  {
   "cell_type": "code",
   "execution_count": 101,
   "metadata": {},
   "outputs": [
    {
     "data": {
      "text/plain": [
       "'sales'"
      ]
     },
     "execution_count": 101,
     "metadata": {},
     "output_type": "execute_result"
    }
   ],
   "source": [
    "datos.sheet_names[0]"
   ]
  },
  {
   "cell_type": "code",
   "execution_count": 102,
   "metadata": {},
   "outputs": [],
   "source": [
    "## DataFrames\n",
    "sales=datos.parse(\"sales\")\n",
    "customers=datos.parse(\"customers\")\n",
    "dates=datos.parse(\"dates\")\n",
    "employees=datos.parse(\"employees\")"
   ]
  },
  {
   "cell_type": "markdown",
   "metadata": {},
   "source": [
    "## Datos de ventas: sales"
   ]
  },
  {
   "cell_type": "code",
   "execution_count": 103,
   "metadata": {},
   "outputs": [
    {
     "data": {
      "text/plain": [
       "(31465, 5)"
      ]
     },
     "execution_count": 103,
     "metadata": {},
     "output_type": "execute_result"
    }
   ],
   "source": [
    "sales.shape"
   ]
  },
  {
   "cell_type": "code",
   "execution_count": 104,
   "metadata": {},
   "outputs": [
    {
     "data": {
      "text/html": [
       "<div>\n",
       "<style scoped>\n",
       "    .dataframe tbody tr th:only-of-type {\n",
       "        vertical-align: middle;\n",
       "    }\n",
       "\n",
       "    .dataframe tbody tr th {\n",
       "        vertical-align: top;\n",
       "    }\n",
       "\n",
       "    .dataframe thead th {\n",
       "        text-align: right;\n",
       "    }\n",
       "</style>\n",
       "<table border=\"1\" class=\"dataframe\">\n",
       "  <thead>\n",
       "    <tr style=\"text-align: right;\">\n",
       "      <th></th>\n",
       "      <th>SalesOrderID</th>\n",
       "      <th>TotalDue</th>\n",
       "      <th>NumberofItems</th>\n",
       "      <th>OnlineOrderFlag</th>\n",
       "      <th>Status</th>\n",
       "    </tr>\n",
       "  </thead>\n",
       "  <tbody>\n",
       "    <tr>\n",
       "      <th>0</th>\n",
       "      <td>43659</td>\n",
       "      <td>23153.2339</td>\n",
       "      <td>12</td>\n",
       "      <td>0</td>\n",
       "      <td>5</td>\n",
       "    </tr>\n",
       "    <tr>\n",
       "      <th>1</th>\n",
       "      <td>43660</td>\n",
       "      <td>1457.3288</td>\n",
       "      <td>2</td>\n",
       "      <td>0</td>\n",
       "      <td>5</td>\n",
       "    </tr>\n",
       "    <tr>\n",
       "      <th>2</th>\n",
       "      <td>43661</td>\n",
       "      <td>36865.8012</td>\n",
       "      <td>15</td>\n",
       "      <td>0</td>\n",
       "      <td>5</td>\n",
       "    </tr>\n",
       "    <tr>\n",
       "      <th>3</th>\n",
       "      <td>43662</td>\n",
       "      <td>32474.9324</td>\n",
       "      <td>22</td>\n",
       "      <td>0</td>\n",
       "      <td>5</td>\n",
       "    </tr>\n",
       "    <tr>\n",
       "      <th>4</th>\n",
       "      <td>43663</td>\n",
       "      <td>472.3108</td>\n",
       "      <td>1</td>\n",
       "      <td>0</td>\n",
       "      <td>5</td>\n",
       "    </tr>\n",
       "  </tbody>\n",
       "</table>\n",
       "</div>"
      ],
      "text/plain": [
       "   SalesOrderID    TotalDue  NumberofItems  OnlineOrderFlag  Status\n",
       "0         43659  23153.2339             12                0       5\n",
       "1         43660   1457.3288              2                0       5\n",
       "2         43661  36865.8012             15                0       5\n",
       "3         43662  32474.9324             22                0       5\n",
       "4         43663    472.3108              1                0       5"
      ]
     },
     "execution_count": 104,
     "metadata": {},
     "output_type": "execute_result"
    }
   ],
   "source": [
    "sales.head()"
   ]
  },
  {
   "cell_type": "code",
   "execution_count": 105,
   "metadata": {},
   "outputs": [
    {
     "data": {
      "text/html": [
       "<div>\n",
       "<style scoped>\n",
       "    .dataframe tbody tr th:only-of-type {\n",
       "        vertical-align: middle;\n",
       "    }\n",
       "\n",
       "    .dataframe tbody tr th {\n",
       "        vertical-align: top;\n",
       "    }\n",
       "\n",
       "    .dataframe thead th {\n",
       "        text-align: right;\n",
       "    }\n",
       "</style>\n",
       "<table border=\"1\" class=\"dataframe\">\n",
       "  <thead>\n",
       "    <tr style=\"text-align: right;\">\n",
       "      <th></th>\n",
       "      <th>SalesOrderID</th>\n",
       "      <th>TotalDue</th>\n",
       "      <th>NumberofItems</th>\n",
       "      <th>OnlineOrderFlag</th>\n",
       "      <th>Status</th>\n",
       "    </tr>\n",
       "  </thead>\n",
       "  <tbody>\n",
       "    <tr>\n",
       "      <th>31460</th>\n",
       "      <td>75119</td>\n",
       "      <td>46.7194</td>\n",
       "      <td>3</td>\n",
       "      <td>1</td>\n",
       "      <td>5</td>\n",
       "    </tr>\n",
       "    <tr>\n",
       "      <th>31461</th>\n",
       "      <td>75120</td>\n",
       "      <td>93.8808</td>\n",
       "      <td>3</td>\n",
       "      <td>1</td>\n",
       "      <td>5</td>\n",
       "    </tr>\n",
       "    <tr>\n",
       "      <th>31462</th>\n",
       "      <td>75121</td>\n",
       "      <td>82.8529</td>\n",
       "      <td>3</td>\n",
       "      <td>1</td>\n",
       "      <td>5</td>\n",
       "    </tr>\n",
       "    <tr>\n",
       "      <th>31463</th>\n",
       "      <td>75122</td>\n",
       "      <td>34.2219</td>\n",
       "      <td>2</td>\n",
       "      <td>1</td>\n",
       "      <td>5</td>\n",
       "    </tr>\n",
       "    <tr>\n",
       "      <th>31464</th>\n",
       "      <td>75123</td>\n",
       "      <td>209.9169</td>\n",
       "      <td>3</td>\n",
       "      <td>1</td>\n",
       "      <td>5</td>\n",
       "    </tr>\n",
       "  </tbody>\n",
       "</table>\n",
       "</div>"
      ],
      "text/plain": [
       "       SalesOrderID  TotalDue  NumberofItems  OnlineOrderFlag  Status\n",
       "31460         75119   46.7194              3                1       5\n",
       "31461         75120   93.8808              3                1       5\n",
       "31462         75121   82.8529              3                1       5\n",
       "31463         75122   34.2219              2                1       5\n",
       "31464         75123  209.9169              3                1       5"
      ]
     },
     "execution_count": 105,
     "metadata": {},
     "output_type": "execute_result"
    }
   ],
   "source": [
    "sales.tail()"
   ]
  },
  {
   "cell_type": "code",
   "execution_count": 106,
   "metadata": {},
   "outputs": [
    {
     "data": {
      "text/html": [
       "<div>\n",
       "<style scoped>\n",
       "    .dataframe tbody tr th:only-of-type {\n",
       "        vertical-align: middle;\n",
       "    }\n",
       "\n",
       "    .dataframe tbody tr th {\n",
       "        vertical-align: top;\n",
       "    }\n",
       "\n",
       "    .dataframe thead th {\n",
       "        text-align: right;\n",
       "    }\n",
       "</style>\n",
       "<table border=\"1\" class=\"dataframe\">\n",
       "  <thead>\n",
       "    <tr style=\"text-align: right;\">\n",
       "      <th></th>\n",
       "      <th>SalesOrderID</th>\n",
       "      <th>TotalDue</th>\n",
       "      <th>NumberofItems</th>\n",
       "      <th>OnlineOrderFlag</th>\n",
       "      <th>Status</th>\n",
       "    </tr>\n",
       "  </thead>\n",
       "  <tbody>\n",
       "    <tr>\n",
       "      <th>21312</th>\n",
       "      <td>64971</td>\n",
       "      <td>33.1279</td>\n",
       "      <td>2</td>\n",
       "      <td>1</td>\n",
       "      <td>5</td>\n",
       "    </tr>\n",
       "    <tr>\n",
       "      <th>27157</th>\n",
       "      <td>70816</td>\n",
       "      <td>1238.1415</td>\n",
       "      <td>1</td>\n",
       "      <td>1</td>\n",
       "      <td>5</td>\n",
       "    </tr>\n",
       "    <tr>\n",
       "      <th>4992</th>\n",
       "      <td>48651</td>\n",
       "      <td>2410.6266</td>\n",
       "      <td>1</td>\n",
       "      <td>1</td>\n",
       "      <td>5</td>\n",
       "    </tr>\n",
       "    <tr>\n",
       "      <th>18860</th>\n",
       "      <td>62519</td>\n",
       "      <td>1303.8669</td>\n",
       "      <td>3</td>\n",
       "      <td>1</td>\n",
       "      <td>5</td>\n",
       "    </tr>\n",
       "    <tr>\n",
       "      <th>28630</th>\n",
       "      <td>72289</td>\n",
       "      <td>30.1444</td>\n",
       "      <td>2</td>\n",
       "      <td>1</td>\n",
       "      <td>5</td>\n",
       "    </tr>\n",
       "    <tr>\n",
       "      <th>186</th>\n",
       "      <td>43845</td>\n",
       "      <td>9661.1367</td>\n",
       "      <td>10</td>\n",
       "      <td>0</td>\n",
       "      <td>5</td>\n",
       "    </tr>\n",
       "    <tr>\n",
       "      <th>25266</th>\n",
       "      <td>68925</td>\n",
       "      <td>2602.2640</td>\n",
       "      <td>2</td>\n",
       "      <td>1</td>\n",
       "      <td>5</td>\n",
       "    </tr>\n",
       "    <tr>\n",
       "      <th>7773</th>\n",
       "      <td>51432</td>\n",
       "      <td>2587.8769</td>\n",
       "      <td>2</td>\n",
       "      <td>1</td>\n",
       "      <td>5</td>\n",
       "    </tr>\n",
       "    <tr>\n",
       "      <th>2275</th>\n",
       "      <td>45934</td>\n",
       "      <td>3953.9884</td>\n",
       "      <td>1</td>\n",
       "      <td>1</td>\n",
       "      <td>5</td>\n",
       "    </tr>\n",
       "    <tr>\n",
       "      <th>7520</th>\n",
       "      <td>51179</td>\n",
       "      <td>2916.0287</td>\n",
       "      <td>4</td>\n",
       "      <td>1</td>\n",
       "      <td>5</td>\n",
       "    </tr>\n",
       "  </tbody>\n",
       "</table>\n",
       "</div>"
      ],
      "text/plain": [
       "       SalesOrderID   TotalDue  NumberofItems  OnlineOrderFlag  Status\n",
       "21312         64971    33.1279              2                1       5\n",
       "27157         70816  1238.1415              1                1       5\n",
       "4992          48651  2410.6266              1                1       5\n",
       "18860         62519  1303.8669              3                1       5\n",
       "28630         72289    30.1444              2                1       5\n",
       "186           43845  9661.1367             10                0       5\n",
       "25266         68925  2602.2640              2                1       5\n",
       "7773          51432  2587.8769              2                1       5\n",
       "2275          45934  3953.9884              1                1       5\n",
       "7520          51179  2916.0287              4                1       5"
      ]
     },
     "execution_count": 106,
     "metadata": {},
     "output_type": "execute_result"
    }
   ],
   "source": [
    "sales.sample(10)"
   ]
  },
  {
   "cell_type": "code",
   "execution_count": 107,
   "metadata": {},
   "outputs": [
    {
     "name": "stdout",
     "output_type": "stream",
     "text": [
      "<class 'pandas.core.frame.DataFrame'>\n",
      "RangeIndex: 31465 entries, 0 to 31464\n",
      "Data columns (total 5 columns):\n",
      " #   Column           Non-Null Count  Dtype  \n",
      "---  ------           --------------  -----  \n",
      " 0   SalesOrderID     31465 non-null  int64  \n",
      " 1   TotalDue         31465 non-null  float64\n",
      " 2   NumberofItems    31465 non-null  int64  \n",
      " 3   OnlineOrderFlag  31465 non-null  int64  \n",
      " 4   Status           31465 non-null  int64  \n",
      "dtypes: float64(1), int64(4)\n",
      "memory usage: 1.2 MB\n"
     ]
    }
   ],
   "source": [
    "sales.info()"
   ]
  },
  {
   "cell_type": "code",
   "execution_count": 108,
   "metadata": {},
   "outputs": [
    {
     "data": {
      "text/html": [
       "<div>\n",
       "<style scoped>\n",
       "    .dataframe tbody tr th:only-of-type {\n",
       "        vertical-align: middle;\n",
       "    }\n",
       "\n",
       "    .dataframe tbody tr th {\n",
       "        vertical-align: top;\n",
       "    }\n",
       "\n",
       "    .dataframe thead th {\n",
       "        text-align: right;\n",
       "    }\n",
       "</style>\n",
       "<table border=\"1\" class=\"dataframe\">\n",
       "  <thead>\n",
       "    <tr style=\"text-align: right;\">\n",
       "      <th></th>\n",
       "      <th>SalesOrderID</th>\n",
       "      <th>TotalDue</th>\n",
       "      <th>NumberofItems</th>\n",
       "      <th>OnlineOrderFlag</th>\n",
       "      <th>Status</th>\n",
       "    </tr>\n",
       "  </thead>\n",
       "  <tbody>\n",
       "    <tr>\n",
       "      <th>count</th>\n",
       "      <td>31465.000000</td>\n",
       "      <td>31465.000000</td>\n",
       "      <td>31465.000000</td>\n",
       "      <td>31465.000000</td>\n",
       "      <td>31465.0</td>\n",
       "    </tr>\n",
       "    <tr>\n",
       "      <th>mean</th>\n",
       "      <td>59391.000000</td>\n",
       "      <td>3915.995109</td>\n",
       "      <td>3.855617</td>\n",
       "      <td>0.879040</td>\n",
       "      <td>5.0</td>\n",
       "    </tr>\n",
       "    <tr>\n",
       "      <th>std</th>\n",
       "      <td>9083.307446</td>\n",
       "      <td>12515.462713</td>\n",
       "      <td>7.214877</td>\n",
       "      <td>0.326086</td>\n",
       "      <td>0.0</td>\n",
       "    </tr>\n",
       "    <tr>\n",
       "      <th>min</th>\n",
       "      <td>43659.000000</td>\n",
       "      <td>1.518300</td>\n",
       "      <td>1.000000</td>\n",
       "      <td>0.000000</td>\n",
       "      <td>5.0</td>\n",
       "    </tr>\n",
       "    <tr>\n",
       "      <th>25%</th>\n",
       "      <td>51525.000000</td>\n",
       "      <td>62.951900</td>\n",
       "      <td>1.000000</td>\n",
       "      <td>1.000000</td>\n",
       "      <td>5.0</td>\n",
       "    </tr>\n",
       "    <tr>\n",
       "      <th>50%</th>\n",
       "      <td>59391.000000</td>\n",
       "      <td>865.204000</td>\n",
       "      <td>2.000000</td>\n",
       "      <td>1.000000</td>\n",
       "      <td>5.0</td>\n",
       "    </tr>\n",
       "    <tr>\n",
       "      <th>75%</th>\n",
       "      <td>67257.000000</td>\n",
       "      <td>2615.490800</td>\n",
       "      <td>3.000000</td>\n",
       "      <td>1.000000</td>\n",
       "      <td>5.0</td>\n",
       "    </tr>\n",
       "    <tr>\n",
       "      <th>max</th>\n",
       "      <td>75123.000000</td>\n",
       "      <td>187487.825000</td>\n",
       "      <td>72.000000</td>\n",
       "      <td>1.000000</td>\n",
       "      <td>5.0</td>\n",
       "    </tr>\n",
       "  </tbody>\n",
       "</table>\n",
       "</div>"
      ],
      "text/plain": [
       "       SalesOrderID       TotalDue  NumberofItems  OnlineOrderFlag   Status\n",
       "count  31465.000000   31465.000000   31465.000000     31465.000000  31465.0\n",
       "mean   59391.000000    3915.995109       3.855617         0.879040      5.0\n",
       "std     9083.307446   12515.462713       7.214877         0.326086      0.0\n",
       "min    43659.000000       1.518300       1.000000         0.000000      5.0\n",
       "25%    51525.000000      62.951900       1.000000         1.000000      5.0\n",
       "50%    59391.000000     865.204000       2.000000         1.000000      5.0\n",
       "75%    67257.000000    2615.490800       3.000000         1.000000      5.0\n",
       "max    75123.000000  187487.825000      72.000000         1.000000      5.0"
      ]
     },
     "execution_count": 108,
     "metadata": {},
     "output_type": "execute_result"
    }
   ],
   "source": [
    "sales.describe()"
   ]
  },
  {
   "cell_type": "markdown",
   "metadata": {},
   "source": [
    "## Datos de clientes: customers"
   ]
  },
  {
   "cell_type": "code",
   "execution_count": 109,
   "metadata": {},
   "outputs": [
    {
     "data": {
      "text/plain": [
       "(31465, 6)"
      ]
     },
     "execution_count": 109,
     "metadata": {},
     "output_type": "execute_result"
    }
   ],
   "source": [
    "customers.shape"
   ]
  },
  {
   "cell_type": "code",
   "execution_count": 110,
   "metadata": {},
   "outputs": [
    {
     "data": {
      "text/html": [
       "<div>\n",
       "<style scoped>\n",
       "    .dataframe tbody tr th:only-of-type {\n",
       "        vertical-align: middle;\n",
       "    }\n",
       "\n",
       "    .dataframe tbody tr th {\n",
       "        vertical-align: top;\n",
       "    }\n",
       "\n",
       "    .dataframe thead th {\n",
       "        text-align: right;\n",
       "    }\n",
       "</style>\n",
       "<table border=\"1\" class=\"dataframe\">\n",
       "  <thead>\n",
       "    <tr style=\"text-align: right;\">\n",
       "      <th></th>\n",
       "      <th>SalesOrderID</th>\n",
       "      <th>CustomerFirstName</th>\n",
       "      <th>CustomerLastName</th>\n",
       "      <th>EmployeeFirstName</th>\n",
       "      <th>EmployeeLastName</th>\n",
       "      <th>ChannelType</th>\n",
       "    </tr>\n",
       "  </thead>\n",
       "  <tbody>\n",
       "    <tr>\n",
       "      <th>0</th>\n",
       "      <td>43659</td>\n",
       "      <td>NaN</td>\n",
       "      <td>NaN</td>\n",
       "      <td>Tsvi</td>\n",
       "      <td>Reiter</td>\n",
       "      <td>NaN</td>\n",
       "    </tr>\n",
       "    <tr>\n",
       "      <th>1</th>\n",
       "      <td>43660</td>\n",
       "      <td>NaN</td>\n",
       "      <td>NaN</td>\n",
       "      <td>Tsvi</td>\n",
       "      <td>Reiter</td>\n",
       "      <td>NaN</td>\n",
       "    </tr>\n",
       "    <tr>\n",
       "      <th>2</th>\n",
       "      <td>43661</td>\n",
       "      <td>NaN</td>\n",
       "      <td>NaN</td>\n",
       "      <td>José</td>\n",
       "      <td>Saraiva</td>\n",
       "      <td>NaN</td>\n",
       "    </tr>\n",
       "    <tr>\n",
       "      <th>3</th>\n",
       "      <td>43662</td>\n",
       "      <td>NaN</td>\n",
       "      <td>NaN</td>\n",
       "      <td>José</td>\n",
       "      <td>Saraiva</td>\n",
       "      <td>NaN</td>\n",
       "    </tr>\n",
       "    <tr>\n",
       "      <th>4</th>\n",
       "      <td>43663</td>\n",
       "      <td>NaN</td>\n",
       "      <td>NaN</td>\n",
       "      <td>Linda</td>\n",
       "      <td>Mitchell</td>\n",
       "      <td>NaN</td>\n",
       "    </tr>\n",
       "  </tbody>\n",
       "</table>\n",
       "</div>"
      ],
      "text/plain": [
       "   SalesOrderID CustomerFirstName CustomerLastName EmployeeFirstName  \\\n",
       "0         43659               NaN              NaN              Tsvi   \n",
       "1         43660               NaN              NaN              Tsvi   \n",
       "2         43661               NaN              NaN              José   \n",
       "3         43662               NaN              NaN              José   \n",
       "4         43663               NaN              NaN             Linda   \n",
       "\n",
       "  EmployeeLastName ChannelType  \n",
       "0           Reiter         NaN  \n",
       "1           Reiter         NaN  \n",
       "2          Saraiva         NaN  \n",
       "3          Saraiva         NaN  \n",
       "4         Mitchell         NaN  "
      ]
     },
     "execution_count": 110,
     "metadata": {},
     "output_type": "execute_result"
    }
   ],
   "source": [
    "customers.head()"
   ]
  },
  {
   "cell_type": "code",
   "execution_count": 111,
   "metadata": {},
   "outputs": [
    {
     "data": {
      "text/html": [
       "<div>\n",
       "<style scoped>\n",
       "    .dataframe tbody tr th:only-of-type {\n",
       "        vertical-align: middle;\n",
       "    }\n",
       "\n",
       "    .dataframe tbody tr th {\n",
       "        vertical-align: top;\n",
       "    }\n",
       "\n",
       "    .dataframe thead th {\n",
       "        text-align: right;\n",
       "    }\n",
       "</style>\n",
       "<table border=\"1\" class=\"dataframe\">\n",
       "  <thead>\n",
       "    <tr style=\"text-align: right;\">\n",
       "      <th></th>\n",
       "      <th>SalesOrderID</th>\n",
       "      <th>CustomerFirstName</th>\n",
       "      <th>CustomerLastName</th>\n",
       "      <th>EmployeeFirstName</th>\n",
       "      <th>EmployeeLastName</th>\n",
       "      <th>ChannelType</th>\n",
       "    </tr>\n",
       "  </thead>\n",
       "  <tbody>\n",
       "    <tr>\n",
       "      <th>31460</th>\n",
       "      <td>75119</td>\n",
       "      <td>Alisha</td>\n",
       "      <td>Hu</td>\n",
       "      <td>NaN</td>\n",
       "      <td>NaN</td>\n",
       "      <td>B2C</td>\n",
       "    </tr>\n",
       "    <tr>\n",
       "      <th>31461</th>\n",
       "      <td>75120</td>\n",
       "      <td>Natasha</td>\n",
       "      <td>Romero</td>\n",
       "      <td>NaN</td>\n",
       "      <td>NaN</td>\n",
       "      <td>B2C</td>\n",
       "    </tr>\n",
       "    <tr>\n",
       "      <th>31462</th>\n",
       "      <td>75121</td>\n",
       "      <td>Timothy</td>\n",
       "      <td>Sanchez</td>\n",
       "      <td>NaN</td>\n",
       "      <td>NaN</td>\n",
       "      <td>B2C</td>\n",
       "    </tr>\n",
       "    <tr>\n",
       "      <th>31463</th>\n",
       "      <td>75122</td>\n",
       "      <td>José</td>\n",
       "      <td>Perez</td>\n",
       "      <td>NaN</td>\n",
       "      <td>NaN</td>\n",
       "      <td>B2C</td>\n",
       "    </tr>\n",
       "    <tr>\n",
       "      <th>31464</th>\n",
       "      <td>75123</td>\n",
       "      <td>Joshua</td>\n",
       "      <td>Johnson</td>\n",
       "      <td>NaN</td>\n",
       "      <td>NaN</td>\n",
       "      <td>B2C</td>\n",
       "    </tr>\n",
       "  </tbody>\n",
       "</table>\n",
       "</div>"
      ],
      "text/plain": [
       "       SalesOrderID CustomerFirstName CustomerLastName EmployeeFirstName  \\\n",
       "31460         75119            Alisha               Hu               NaN   \n",
       "31461         75120           Natasha           Romero               NaN   \n",
       "31462         75121           Timothy          Sanchez               NaN   \n",
       "31463         75122              José            Perez               NaN   \n",
       "31464         75123            Joshua          Johnson               NaN   \n",
       "\n",
       "      EmployeeLastName ChannelType  \n",
       "31460              NaN         B2C  \n",
       "31461              NaN         B2C  \n",
       "31462              NaN         B2C  \n",
       "31463              NaN         B2C  \n",
       "31464              NaN         B2C  "
      ]
     },
     "execution_count": 111,
     "metadata": {},
     "output_type": "execute_result"
    }
   ],
   "source": [
    "customers.tail()"
   ]
  },
  {
   "cell_type": "code",
   "execution_count": 112,
   "metadata": {},
   "outputs": [
    {
     "data": {
      "text/html": [
       "<div>\n",
       "<style scoped>\n",
       "    .dataframe tbody tr th:only-of-type {\n",
       "        vertical-align: middle;\n",
       "    }\n",
       "\n",
       "    .dataframe tbody tr th {\n",
       "        vertical-align: top;\n",
       "    }\n",
       "\n",
       "    .dataframe thead th {\n",
       "        text-align: right;\n",
       "    }\n",
       "</style>\n",
       "<table border=\"1\" class=\"dataframe\">\n",
       "  <thead>\n",
       "    <tr style=\"text-align: right;\">\n",
       "      <th></th>\n",
       "      <th>SalesOrderID</th>\n",
       "      <th>CustomerFirstName</th>\n",
       "      <th>CustomerLastName</th>\n",
       "      <th>EmployeeFirstName</th>\n",
       "      <th>EmployeeLastName</th>\n",
       "      <th>ChannelType</th>\n",
       "    </tr>\n",
       "  </thead>\n",
       "  <tbody>\n",
       "    <tr>\n",
       "      <th>28752</th>\n",
       "      <td>72411</td>\n",
       "      <td>Raymond</td>\n",
       "      <td>Fernandez</td>\n",
       "      <td>NaN</td>\n",
       "      <td>NaN</td>\n",
       "      <td>B2C</td>\n",
       "    </tr>\n",
       "    <tr>\n",
       "      <th>807</th>\n",
       "      <td>44466</td>\n",
       "      <td>NaN</td>\n",
       "      <td>NaN</td>\n",
       "      <td>NaN</td>\n",
       "      <td>NaN</td>\n",
       "      <td>NaN</td>\n",
       "    </tr>\n",
       "    <tr>\n",
       "      <th>7896</th>\n",
       "      <td>51555</td>\n",
       "      <td>Joe</td>\n",
       "      <td>Gomez</td>\n",
       "      <td>NaN</td>\n",
       "      <td>NaN</td>\n",
       "      <td>B2C</td>\n",
       "    </tr>\n",
       "    <tr>\n",
       "      <th>16932</th>\n",
       "      <td>60591</td>\n",
       "      <td>Kelvin</td>\n",
       "      <td>Gao</td>\n",
       "      <td>NaN</td>\n",
       "      <td>NaN</td>\n",
       "      <td>B2C</td>\n",
       "    </tr>\n",
       "    <tr>\n",
       "      <th>19858</th>\n",
       "      <td>63517</td>\n",
       "      <td>NaN</td>\n",
       "      <td>NaN</td>\n",
       "      <td>NaN</td>\n",
       "      <td>NaN</td>\n",
       "      <td>NaN</td>\n",
       "    </tr>\n",
       "    <tr>\n",
       "      <th>19264</th>\n",
       "      <td>62923</td>\n",
       "      <td>Jessica</td>\n",
       "      <td>Martinez</td>\n",
       "      <td>NaN</td>\n",
       "      <td>NaN</td>\n",
       "      <td>B2C</td>\n",
       "    </tr>\n",
       "    <tr>\n",
       "      <th>12987</th>\n",
       "      <td>56646</td>\n",
       "      <td>NaN</td>\n",
       "      <td>NaN</td>\n",
       "      <td>NaN</td>\n",
       "      <td>NaN</td>\n",
       "      <td>NaN</td>\n",
       "    </tr>\n",
       "    <tr>\n",
       "      <th>18123</th>\n",
       "      <td>61782</td>\n",
       "      <td>NaN</td>\n",
       "      <td>NaN</td>\n",
       "      <td>NaN</td>\n",
       "      <td>NaN</td>\n",
       "      <td>NaN</td>\n",
       "    </tr>\n",
       "    <tr>\n",
       "      <th>30268</th>\n",
       "      <td>73927</td>\n",
       "      <td>NaN</td>\n",
       "      <td>NaN</td>\n",
       "      <td>NaN</td>\n",
       "      <td>NaN</td>\n",
       "      <td>NaN</td>\n",
       "    </tr>\n",
       "    <tr>\n",
       "      <th>19294</th>\n",
       "      <td>62953</td>\n",
       "      <td>Donald</td>\n",
       "      <td>Garcia</td>\n",
       "      <td>NaN</td>\n",
       "      <td>NaN</td>\n",
       "      <td>B2C</td>\n",
       "    </tr>\n",
       "  </tbody>\n",
       "</table>\n",
       "</div>"
      ],
      "text/plain": [
       "       SalesOrderID CustomerFirstName CustomerLastName EmployeeFirstName  \\\n",
       "28752         72411           Raymond        Fernandez               NaN   \n",
       "807           44466               NaN              NaN               NaN   \n",
       "7896          51555               Joe            Gomez               NaN   \n",
       "16932         60591            Kelvin              Gao               NaN   \n",
       "19858         63517               NaN              NaN               NaN   \n",
       "19264         62923           Jessica         Martinez               NaN   \n",
       "12987         56646               NaN              NaN               NaN   \n",
       "18123         61782               NaN              NaN               NaN   \n",
       "30268         73927               NaN              NaN               NaN   \n",
       "19294         62953            Donald           Garcia               NaN   \n",
       "\n",
       "      EmployeeLastName ChannelType  \n",
       "28752              NaN         B2C  \n",
       "807                NaN         NaN  \n",
       "7896               NaN         B2C  \n",
       "16932              NaN         B2C  \n",
       "19858              NaN         NaN  \n",
       "19264              NaN         B2C  \n",
       "12987              NaN         NaN  \n",
       "18123              NaN         NaN  \n",
       "30268              NaN         NaN  \n",
       "19294              NaN         B2C  "
      ]
     },
     "execution_count": 112,
     "metadata": {},
     "output_type": "execute_result"
    }
   ],
   "source": [
    "customers.sample(10)"
   ]
  },
  {
   "cell_type": "code",
   "execution_count": 113,
   "metadata": {},
   "outputs": [
    {
     "data": {
      "text/plain": [
       "pandas.core.frame.DataFrame"
      ]
     },
     "execution_count": 113,
     "metadata": {},
     "output_type": "execute_result"
    }
   ],
   "source": [
    "type(sales)"
   ]
  },
  {
   "cell_type": "code",
   "execution_count": 114,
   "metadata": {},
   "outputs": [
    {
     "data": {
      "text/html": [
       "<div>\n",
       "<style scoped>\n",
       "    .dataframe tbody tr th:only-of-type {\n",
       "        vertical-align: middle;\n",
       "    }\n",
       "\n",
       "    .dataframe tbody tr th {\n",
       "        vertical-align: top;\n",
       "    }\n",
       "\n",
       "    .dataframe thead th {\n",
       "        text-align: right;\n",
       "    }\n",
       "</style>\n",
       "<table border=\"1\" class=\"dataframe\">\n",
       "  <thead>\n",
       "    <tr style=\"text-align: right;\">\n",
       "      <th></th>\n",
       "      <th>SalesOrderID</th>\n",
       "      <th>TotalDue</th>\n",
       "      <th>NumberofItems</th>\n",
       "      <th>OnlineOrderFlag</th>\n",
       "      <th>Status</th>\n",
       "    </tr>\n",
       "  </thead>\n",
       "  <tbody>\n",
       "    <tr>\n",
       "      <th>3971</th>\n",
       "      <td>47630</td>\n",
       "      <td>2288.9187</td>\n",
       "      <td>1</td>\n",
       "      <td>1</td>\n",
       "      <td>5</td>\n",
       "    </tr>\n",
       "  </tbody>\n",
       "</table>\n",
       "</div>"
      ],
      "text/plain": [
       "      SalesOrderID   TotalDue  NumberofItems  OnlineOrderFlag  Status\n",
       "3971         47630  2288.9187              1                1       5"
      ]
     },
     "execution_count": 114,
     "metadata": {},
     "output_type": "execute_result"
    }
   ],
   "source": [
    "sales[sales[\"SalesOrderID\"]==47630]"
   ]
  },
  {
   "cell_type": "code",
   "execution_count": 115,
   "metadata": {},
   "outputs": [
    {
     "data": {
      "text/html": [
       "<div>\n",
       "<style scoped>\n",
       "    .dataframe tbody tr th:only-of-type {\n",
       "        vertical-align: middle;\n",
       "    }\n",
       "\n",
       "    .dataframe tbody tr th {\n",
       "        vertical-align: top;\n",
       "    }\n",
       "\n",
       "    .dataframe thead th {\n",
       "        text-align: right;\n",
       "    }\n",
       "</style>\n",
       "<table border=\"1\" class=\"dataframe\">\n",
       "  <thead>\n",
       "    <tr style=\"text-align: right;\">\n",
       "      <th></th>\n",
       "      <th>SalesOrderID</th>\n",
       "      <th>TotalDue</th>\n",
       "      <th>NumberofItems</th>\n",
       "      <th>OnlineOrderFlag</th>\n",
       "      <th>Status</th>\n",
       "    </tr>\n",
       "  </thead>\n",
       "  <tbody>\n",
       "    <tr>\n",
       "      <th>26752</th>\n",
       "      <td>70411</td>\n",
       "      <td>43.0729</td>\n",
       "      <td>2</td>\n",
       "      <td>1</td>\n",
       "      <td>5</td>\n",
       "    </tr>\n",
       "  </tbody>\n",
       "</table>\n",
       "</div>"
      ],
      "text/plain": [
       "       SalesOrderID  TotalDue  NumberofItems  OnlineOrderFlag  Status\n",
       "26752         70411   43.0729              2                1       5"
      ]
     },
     "execution_count": 115,
     "metadata": {},
     "output_type": "execute_result"
    }
   ],
   "source": [
    "sales[sales[\"SalesOrderID\"]==70411]"
   ]
  },
  {
   "cell_type": "code",
   "execution_count": 116,
   "metadata": {},
   "outputs": [
    {
     "data": {
      "text/html": [
       "<div>\n",
       "<style scoped>\n",
       "    .dataframe tbody tr th:only-of-type {\n",
       "        vertical-align: middle;\n",
       "    }\n",
       "\n",
       "    .dataframe tbody tr th {\n",
       "        vertical-align: top;\n",
       "    }\n",
       "\n",
       "    .dataframe thead th {\n",
       "        text-align: right;\n",
       "    }\n",
       "</style>\n",
       "<table border=\"1\" class=\"dataframe\">\n",
       "  <thead>\n",
       "    <tr style=\"text-align: right;\">\n",
       "      <th></th>\n",
       "      <th>SalesOrderID</th>\n",
       "      <th>CustomerFirstName</th>\n",
       "      <th>CustomerLastName</th>\n",
       "      <th>EmployeeFirstName</th>\n",
       "      <th>EmployeeLastName</th>\n",
       "      <th>ChannelType</th>\n",
       "    </tr>\n",
       "  </thead>\n",
       "  <tbody>\n",
       "    <tr>\n",
       "      <th>12327</th>\n",
       "      <td>55986</td>\n",
       "      <td>NaN</td>\n",
       "      <td>NaN</td>\n",
       "      <td>NaN</td>\n",
       "      <td>NaN</td>\n",
       "      <td>NaN</td>\n",
       "    </tr>\n",
       "    <tr>\n",
       "      <th>12767</th>\n",
       "      <td>56426</td>\n",
       "      <td>NaN</td>\n",
       "      <td>NaN</td>\n",
       "      <td>NaN</td>\n",
       "      <td>NaN</td>\n",
       "      <td>NaN</td>\n",
       "    </tr>\n",
       "    <tr>\n",
       "      <th>13364</th>\n",
       "      <td>57023</td>\n",
       "      <td>NaN</td>\n",
       "      <td>NaN</td>\n",
       "      <td>Garrett</td>\n",
       "      <td>Vargas</td>\n",
       "      <td>NaN</td>\n",
       "    </tr>\n",
       "    <tr>\n",
       "      <th>22801</th>\n",
       "      <td>66460</td>\n",
       "      <td>Dalton</td>\n",
       "      <td>Flores</td>\n",
       "      <td>NaN</td>\n",
       "      <td>NaN</td>\n",
       "      <td>B2C</td>\n",
       "    </tr>\n",
       "    <tr>\n",
       "      <th>26608</th>\n",
       "      <td>70267</td>\n",
       "      <td>NaN</td>\n",
       "      <td>NaN</td>\n",
       "      <td>NaN</td>\n",
       "      <td>NaN</td>\n",
       "      <td>NaN</td>\n",
       "    </tr>\n",
       "    <tr>\n",
       "      <th>275</th>\n",
       "      <td>43934</td>\n",
       "      <td>Joe</td>\n",
       "      <td>Perez</td>\n",
       "      <td>NaN</td>\n",
       "      <td>NaN</td>\n",
       "      <td>B2C</td>\n",
       "    </tr>\n",
       "    <tr>\n",
       "      <th>19865</th>\n",
       "      <td>63524</td>\n",
       "      <td>NaN</td>\n",
       "      <td>NaN</td>\n",
       "      <td>NaN</td>\n",
       "      <td>NaN</td>\n",
       "      <td>NaN</td>\n",
       "    </tr>\n",
       "    <tr>\n",
       "      <th>21877</th>\n",
       "      <td>65536</td>\n",
       "      <td>NaN</td>\n",
       "      <td>NaN</td>\n",
       "      <td>NaN</td>\n",
       "      <td>NaN</td>\n",
       "      <td>NaN</td>\n",
       "    </tr>\n",
       "    <tr>\n",
       "      <th>283</th>\n",
       "      <td>43942</td>\n",
       "      <td>Mason</td>\n",
       "      <td>Hernandez</td>\n",
       "      <td>NaN</td>\n",
       "      <td>NaN</td>\n",
       "      <td>B2C</td>\n",
       "    </tr>\n",
       "    <tr>\n",
       "      <th>17467</th>\n",
       "      <td>61126</td>\n",
       "      <td>Destiny</td>\n",
       "      <td>Hall</td>\n",
       "      <td>NaN</td>\n",
       "      <td>NaN</td>\n",
       "      <td>B2C</td>\n",
       "    </tr>\n",
       "  </tbody>\n",
       "</table>\n",
       "</div>"
      ],
      "text/plain": [
       "       SalesOrderID CustomerFirstName CustomerLastName EmployeeFirstName  \\\n",
       "12327         55986               NaN              NaN               NaN   \n",
       "12767         56426               NaN              NaN               NaN   \n",
       "13364         57023               NaN              NaN           Garrett   \n",
       "22801         66460            Dalton           Flores               NaN   \n",
       "26608         70267               NaN              NaN               NaN   \n",
       "275           43934               Joe            Perez               NaN   \n",
       "19865         63524               NaN              NaN               NaN   \n",
       "21877         65536               NaN              NaN               NaN   \n",
       "283           43942             Mason        Hernandez               NaN   \n",
       "17467         61126           Destiny             Hall               NaN   \n",
       "\n",
       "      EmployeeLastName ChannelType  \n",
       "12327              NaN         NaN  \n",
       "12767              NaN         NaN  \n",
       "13364           Vargas         NaN  \n",
       "22801              NaN         B2C  \n",
       "26608              NaN         NaN  \n",
       "275                NaN         B2C  \n",
       "19865              NaN         NaN  \n",
       "21877              NaN         NaN  \n",
       "283                NaN         B2C  \n",
       "17467              NaN         B2C  "
      ]
     },
     "execution_count": 116,
     "metadata": {},
     "output_type": "execute_result"
    }
   ],
   "source": [
    "customers.sample(10)"
   ]
  },
  {
   "cell_type": "code",
   "execution_count": 117,
   "metadata": {},
   "outputs": [
    {
     "data": {
      "text/html": [
       "<div>\n",
       "<style scoped>\n",
       "    .dataframe tbody tr th:only-of-type {\n",
       "        vertical-align: middle;\n",
       "    }\n",
       "\n",
       "    .dataframe tbody tr th {\n",
       "        vertical-align: top;\n",
       "    }\n",
       "\n",
       "    .dataframe thead th {\n",
       "        text-align: right;\n",
       "    }\n",
       "</style>\n",
       "<table border=\"1\" class=\"dataframe\">\n",
       "  <thead>\n",
       "    <tr style=\"text-align: right;\">\n",
       "      <th></th>\n",
       "      <th>SalesOrderID</th>\n",
       "      <th>TotalDue</th>\n",
       "      <th>NumberofItems</th>\n",
       "      <th>OnlineOrderFlag</th>\n",
       "      <th>Status</th>\n",
       "    </tr>\n",
       "  </thead>\n",
       "  <tbody>\n",
       "    <tr>\n",
       "      <th>14460</th>\n",
       "      <td>58119</td>\n",
       "      <td>1381.0732</td>\n",
       "      <td>2</td>\n",
       "      <td>1</td>\n",
       "      <td>5</td>\n",
       "    </tr>\n",
       "  </tbody>\n",
       "</table>\n",
       "</div>"
      ],
      "text/plain": [
       "       SalesOrderID   TotalDue  NumberofItems  OnlineOrderFlag  Status\n",
       "14460         58119  1381.0732              2                1       5"
      ]
     },
     "execution_count": 117,
     "metadata": {},
     "output_type": "execute_result"
    }
   ],
   "source": [
    "sales[sales[\"SalesOrderID\"]==58119]"
   ]
  },
  {
   "cell_type": "code",
   "execution_count": 118,
   "metadata": {},
   "outputs": [
    {
     "data": {
      "text/html": [
       "<div>\n",
       "<style scoped>\n",
       "    .dataframe tbody tr th:only-of-type {\n",
       "        vertical-align: middle;\n",
       "    }\n",
       "\n",
       "    .dataframe tbody tr th {\n",
       "        vertical-align: top;\n",
       "    }\n",
       "\n",
       "    .dataframe thead th {\n",
       "        text-align: right;\n",
       "    }\n",
       "</style>\n",
       "<table border=\"1\" class=\"dataframe\">\n",
       "  <thead>\n",
       "    <tr style=\"text-align: right;\">\n",
       "      <th></th>\n",
       "      <th>SalesOrderID</th>\n",
       "      <th>TotalDue</th>\n",
       "      <th>NumberofItems</th>\n",
       "      <th>OnlineOrderFlag</th>\n",
       "      <th>Status</th>\n",
       "    </tr>\n",
       "  </thead>\n",
       "  <tbody>\n",
       "    <tr>\n",
       "      <th>21622</th>\n",
       "      <td>65281</td>\n",
       "      <td>31835.8602</td>\n",
       "      <td>18</td>\n",
       "      <td>0</td>\n",
       "      <td>5</td>\n",
       "    </tr>\n",
       "  </tbody>\n",
       "</table>\n",
       "</div>"
      ],
      "text/plain": [
       "       SalesOrderID    TotalDue  NumberofItems  OnlineOrderFlag  Status\n",
       "21622         65281  31835.8602             18                0       5"
      ]
     },
     "execution_count": 118,
     "metadata": {},
     "output_type": "execute_result"
    }
   ],
   "source": [
    "sales[sales[\"SalesOrderID\"]==65281]"
   ]
  },
  {
   "cell_type": "markdown",
   "metadata": {},
   "source": [
    "## Datos de fechas: dates "
   ]
  },
  {
   "cell_type": "code",
   "execution_count": 119,
   "metadata": {},
   "outputs": [
    {
     "data": {
      "text/plain": [
       "(31465, 3)"
      ]
     },
     "execution_count": 119,
     "metadata": {},
     "output_type": "execute_result"
    }
   ],
   "source": [
    "dates.shape"
   ]
  },
  {
   "cell_type": "code",
   "execution_count": 120,
   "metadata": {},
   "outputs": [
    {
     "name": "stdout",
     "output_type": "stream",
     "text": [
      "<class 'pandas.core.frame.DataFrame'>\n",
      "RangeIndex: 31465 entries, 0 to 31464\n",
      "Data columns (total 3 columns):\n",
      " #   Column        Non-Null Count  Dtype \n",
      "---  ------        --------------  ----- \n",
      " 0   SalesOrderID  31465 non-null  int64 \n",
      " 1   OrderDate     31465 non-null  object\n",
      " 2   ShipDate      31465 non-null  object\n",
      "dtypes: int64(1), object(2)\n",
      "memory usage: 737.6+ KB\n"
     ]
    }
   ],
   "source": [
    "dates.info()"
   ]
  },
  {
   "cell_type": "code",
   "execution_count": 121,
   "metadata": {},
   "outputs": [
    {
     "data": {
      "text/html": [
       "<div>\n",
       "<style scoped>\n",
       "    .dataframe tbody tr th:only-of-type {\n",
       "        vertical-align: middle;\n",
       "    }\n",
       "\n",
       "    .dataframe tbody tr th {\n",
       "        vertical-align: top;\n",
       "    }\n",
       "\n",
       "    .dataframe thead th {\n",
       "        text-align: right;\n",
       "    }\n",
       "</style>\n",
       "<table border=\"1\" class=\"dataframe\">\n",
       "  <thead>\n",
       "    <tr style=\"text-align: right;\">\n",
       "      <th></th>\n",
       "      <th>SalesOrderID</th>\n",
       "    </tr>\n",
       "  </thead>\n",
       "  <tbody>\n",
       "    <tr>\n",
       "      <th>count</th>\n",
       "      <td>31465.000000</td>\n",
       "    </tr>\n",
       "    <tr>\n",
       "      <th>mean</th>\n",
       "      <td>59391.000000</td>\n",
       "    </tr>\n",
       "    <tr>\n",
       "      <th>std</th>\n",
       "      <td>9083.307446</td>\n",
       "    </tr>\n",
       "    <tr>\n",
       "      <th>min</th>\n",
       "      <td>43659.000000</td>\n",
       "    </tr>\n",
       "    <tr>\n",
       "      <th>25%</th>\n",
       "      <td>51525.000000</td>\n",
       "    </tr>\n",
       "    <tr>\n",
       "      <th>50%</th>\n",
       "      <td>59391.000000</td>\n",
       "    </tr>\n",
       "    <tr>\n",
       "      <th>75%</th>\n",
       "      <td>67257.000000</td>\n",
       "    </tr>\n",
       "    <tr>\n",
       "      <th>max</th>\n",
       "      <td>75123.000000</td>\n",
       "    </tr>\n",
       "  </tbody>\n",
       "</table>\n",
       "</div>"
      ],
      "text/plain": [
       "       SalesOrderID\n",
       "count  31465.000000\n",
       "mean   59391.000000\n",
       "std     9083.307446\n",
       "min    43659.000000\n",
       "25%    51525.000000\n",
       "50%    59391.000000\n",
       "75%    67257.000000\n",
       "max    75123.000000"
      ]
     },
     "execution_count": 121,
     "metadata": {},
     "output_type": "execute_result"
    }
   ],
   "source": [
    "dates.describe()"
   ]
  },
  {
   "cell_type": "code",
   "execution_count": 122,
   "metadata": {},
   "outputs": [
    {
     "data": {
      "text/html": [
       "<div>\n",
       "<style scoped>\n",
       "    .dataframe tbody tr th:only-of-type {\n",
       "        vertical-align: middle;\n",
       "    }\n",
       "\n",
       "    .dataframe tbody tr th {\n",
       "        vertical-align: top;\n",
       "    }\n",
       "\n",
       "    .dataframe thead th {\n",
       "        text-align: right;\n",
       "    }\n",
       "</style>\n",
       "<table border=\"1\" class=\"dataframe\">\n",
       "  <thead>\n",
       "    <tr style=\"text-align: right;\">\n",
       "      <th></th>\n",
       "      <th>SalesOrderID</th>\n",
       "      <th>OrderDate</th>\n",
       "      <th>ShipDate</th>\n",
       "    </tr>\n",
       "  </thead>\n",
       "  <tbody>\n",
       "    <tr>\n",
       "      <th>0</th>\n",
       "      <td>43659</td>\n",
       "      <td>2011-05-31 00:00:00</td>\n",
       "      <td>2011-06-07 00:00:00</td>\n",
       "    </tr>\n",
       "    <tr>\n",
       "      <th>1</th>\n",
       "      <td>43660</td>\n",
       "      <td>2011-05-31 00:00:00</td>\n",
       "      <td>2011-06-07 00:00:00</td>\n",
       "    </tr>\n",
       "    <tr>\n",
       "      <th>2</th>\n",
       "      <td>43661</td>\n",
       "      <td>2011-05-31 00:00:00</td>\n",
       "      <td>2011-06-07 00:00:00</td>\n",
       "    </tr>\n",
       "    <tr>\n",
       "      <th>3</th>\n",
       "      <td>43662</td>\n",
       "      <td>2011-05-31 00:00:00</td>\n",
       "      <td>2011-06-07 00:00:00</td>\n",
       "    </tr>\n",
       "    <tr>\n",
       "      <th>4</th>\n",
       "      <td>43663</td>\n",
       "      <td>2011-05-31 00:00:00</td>\n",
       "      <td>2011-06-07 00:00:00</td>\n",
       "    </tr>\n",
       "  </tbody>\n",
       "</table>\n",
       "</div>"
      ],
      "text/plain": [
       "   SalesOrderID            OrderDate             ShipDate\n",
       "0         43659  2011-05-31 00:00:00  2011-06-07 00:00:00\n",
       "1         43660  2011-05-31 00:00:00  2011-06-07 00:00:00\n",
       "2         43661  2011-05-31 00:00:00  2011-06-07 00:00:00\n",
       "3         43662  2011-05-31 00:00:00  2011-06-07 00:00:00\n",
       "4         43663  2011-05-31 00:00:00  2011-06-07 00:00:00"
      ]
     },
     "execution_count": 122,
     "metadata": {},
     "output_type": "execute_result"
    }
   ],
   "source": [
    "dates.head()"
   ]
  },
  {
   "cell_type": "code",
   "execution_count": 123,
   "metadata": {},
   "outputs": [
    {
     "data": {
      "text/html": [
       "<div>\n",
       "<style scoped>\n",
       "    .dataframe tbody tr th:only-of-type {\n",
       "        vertical-align: middle;\n",
       "    }\n",
       "\n",
       "    .dataframe tbody tr th {\n",
       "        vertical-align: top;\n",
       "    }\n",
       "\n",
       "    .dataframe thead th {\n",
       "        text-align: right;\n",
       "    }\n",
       "</style>\n",
       "<table border=\"1\" class=\"dataframe\">\n",
       "  <thead>\n",
       "    <tr style=\"text-align: right;\">\n",
       "      <th></th>\n",
       "      <th>SalesOrderID</th>\n",
       "      <th>OrderDate</th>\n",
       "      <th>ShipDate</th>\n",
       "    </tr>\n",
       "  </thead>\n",
       "  <tbody>\n",
       "    <tr>\n",
       "      <th>31460</th>\n",
       "      <td>75119</td>\n",
       "      <td>2014-06-30 00:00:00</td>\n",
       "      <td>2014-07-07 00:00:00</td>\n",
       "    </tr>\n",
       "    <tr>\n",
       "      <th>31461</th>\n",
       "      <td>75120</td>\n",
       "      <td>2014-06-30 00:00:00</td>\n",
       "      <td>2014-07-07 00:00:00</td>\n",
       "    </tr>\n",
       "    <tr>\n",
       "      <th>31462</th>\n",
       "      <td>75121</td>\n",
       "      <td>2014-06-30 00:00:00</td>\n",
       "      <td>2014-07-07 00:00:00</td>\n",
       "    </tr>\n",
       "    <tr>\n",
       "      <th>31463</th>\n",
       "      <td>75122</td>\n",
       "      <td>2014-06-30 00:00:00</td>\n",
       "      <td>2014-07-07 00:00:00</td>\n",
       "    </tr>\n",
       "    <tr>\n",
       "      <th>31464</th>\n",
       "      <td>75123</td>\n",
       "      <td>2014-06-30 00:00:00</td>\n",
       "      <td>2014-07-07 00:00:00</td>\n",
       "    </tr>\n",
       "  </tbody>\n",
       "</table>\n",
       "</div>"
      ],
      "text/plain": [
       "       SalesOrderID            OrderDate             ShipDate\n",
       "31460         75119  2014-06-30 00:00:00  2014-07-07 00:00:00\n",
       "31461         75120  2014-06-30 00:00:00  2014-07-07 00:00:00\n",
       "31462         75121  2014-06-30 00:00:00  2014-07-07 00:00:00\n",
       "31463         75122  2014-06-30 00:00:00  2014-07-07 00:00:00\n",
       "31464         75123  2014-06-30 00:00:00  2014-07-07 00:00:00"
      ]
     },
     "execution_count": 123,
     "metadata": {},
     "output_type": "execute_result"
    }
   ],
   "source": [
    "dates.tail()"
   ]
  },
  {
   "cell_type": "code",
   "execution_count": 124,
   "metadata": {},
   "outputs": [
    {
     "data": {
      "text/html": [
       "<div>\n",
       "<style scoped>\n",
       "    .dataframe tbody tr th:only-of-type {\n",
       "        vertical-align: middle;\n",
       "    }\n",
       "\n",
       "    .dataframe tbody tr th {\n",
       "        vertical-align: top;\n",
       "    }\n",
       "\n",
       "    .dataframe thead th {\n",
       "        text-align: right;\n",
       "    }\n",
       "</style>\n",
       "<table border=\"1\" class=\"dataframe\">\n",
       "  <thead>\n",
       "    <tr style=\"text-align: right;\">\n",
       "      <th></th>\n",
       "      <th>SalesOrderID</th>\n",
       "      <th>OrderDate</th>\n",
       "      <th>ShipDate</th>\n",
       "    </tr>\n",
       "  </thead>\n",
       "  <tbody>\n",
       "    <tr>\n",
       "      <th>6233</th>\n",
       "      <td>49892</td>\n",
       "      <td>2013-02-28 00:00:00</td>\n",
       "      <td>2013-03-07 00:00:00</td>\n",
       "    </tr>\n",
       "    <tr>\n",
       "      <th>8453</th>\n",
       "      <td>52112</td>\n",
       "      <td>2013-07-05 00:00:00</td>\n",
       "      <td>2013-07-12 00:00:00</td>\n",
       "    </tr>\n",
       "    <tr>\n",
       "      <th>6254</th>\n",
       "      <td>49913</td>\n",
       "      <td>2013-03-01 00:00:00</td>\n",
       "      <td>2013-03-08 00:00:00</td>\n",
       "    </tr>\n",
       "    <tr>\n",
       "      <th>16545</th>\n",
       "      <td>60204</td>\n",
       "      <td>2013-11-15 00:00:00</td>\n",
       "      <td>2013-11-22 00:00:00</td>\n",
       "    </tr>\n",
       "    <tr>\n",
       "      <th>5454</th>\n",
       "      <td>49113</td>\n",
       "      <td>2012-12-31 00:00:00</td>\n",
       "      <td>2013-01-07 00:00:00</td>\n",
       "    </tr>\n",
       "    <tr>\n",
       "      <th>14507</th>\n",
       "      <td>58166</td>\n",
       "      <td>2013-10-17 00:00:00</td>\n",
       "      <td>2013-10-24 00:00:00</td>\n",
       "    </tr>\n",
       "    <tr>\n",
       "      <th>27899</th>\n",
       "      <td>71558</td>\n",
       "      <td>2014-04-27 00:00:00</td>\n",
       "      <td>2014-05-04 00:00:00</td>\n",
       "    </tr>\n",
       "    <tr>\n",
       "      <th>25591</th>\n",
       "      <td>69250</td>\n",
       "      <td>2014-03-29 00:00:00</td>\n",
       "      <td>2014-04-05 00:00:00</td>\n",
       "    </tr>\n",
       "    <tr>\n",
       "      <th>4791</th>\n",
       "      <td>48450</td>\n",
       "      <td>2012-11-03 00:00:00</td>\n",
       "      <td>2012-11-10 00:00:00</td>\n",
       "    </tr>\n",
       "    <tr>\n",
       "      <th>5589</th>\n",
       "      <td>49248</td>\n",
       "      <td>2013-01-07 00:00:00</td>\n",
       "      <td>2013-01-14 00:00:00</td>\n",
       "    </tr>\n",
       "  </tbody>\n",
       "</table>\n",
       "</div>"
      ],
      "text/plain": [
       "       SalesOrderID            OrderDate             ShipDate\n",
       "6233          49892  2013-02-28 00:00:00  2013-03-07 00:00:00\n",
       "8453          52112  2013-07-05 00:00:00  2013-07-12 00:00:00\n",
       "6254          49913  2013-03-01 00:00:00  2013-03-08 00:00:00\n",
       "16545         60204  2013-11-15 00:00:00  2013-11-22 00:00:00\n",
       "5454          49113  2012-12-31 00:00:00  2013-01-07 00:00:00\n",
       "14507         58166  2013-10-17 00:00:00  2013-10-24 00:00:00\n",
       "27899         71558  2014-04-27 00:00:00  2014-05-04 00:00:00\n",
       "25591         69250  2014-03-29 00:00:00  2014-04-05 00:00:00\n",
       "4791          48450  2012-11-03 00:00:00  2012-11-10 00:00:00\n",
       "5589          49248  2013-01-07 00:00:00  2013-01-14 00:00:00"
      ]
     },
     "execution_count": 124,
     "metadata": {},
     "output_type": "execute_result"
    }
   ],
   "source": [
    "dates.sample(10)"
   ]
  },
  {
   "cell_type": "markdown",
   "metadata": {},
   "source": [
    "## Datos de empleados: employees "
   ]
  },
  {
   "cell_type": "code",
   "execution_count": 125,
   "metadata": {},
   "outputs": [
    {
     "data": {
      "text/plain": [
       "(17, 5)"
      ]
     },
     "execution_count": 125,
     "metadata": {},
     "output_type": "execute_result"
    }
   ],
   "source": [
    "employees.shape"
   ]
  },
  {
   "cell_type": "code",
   "execution_count": 126,
   "metadata": {},
   "outputs": [
    {
     "data": {
      "text/html": [
       "<div>\n",
       "<style scoped>\n",
       "    .dataframe tbody tr th:only-of-type {\n",
       "        vertical-align: middle;\n",
       "    }\n",
       "\n",
       "    .dataframe tbody tr th {\n",
       "        vertical-align: top;\n",
       "    }\n",
       "\n",
       "    .dataframe thead th {\n",
       "        text-align: right;\n",
       "    }\n",
       "</style>\n",
       "<table border=\"1\" class=\"dataframe\">\n",
       "  <thead>\n",
       "    <tr style=\"text-align: right;\">\n",
       "      <th></th>\n",
       "      <th>FirstName</th>\n",
       "      <th>LastName</th>\n",
       "      <th>CountryCode</th>\n",
       "      <th>RegionName</th>\n",
       "      <th>CommissionPct</th>\n",
       "    </tr>\n",
       "  </thead>\n",
       "  <tbody>\n",
       "    <tr>\n",
       "      <th>0</th>\n",
       "      <td>Amy</td>\n",
       "      <td>Alberts</td>\n",
       "      <td>GB</td>\n",
       "      <td>United Kingdom</td>\n",
       "      <td>0.000</td>\n",
       "    </tr>\n",
       "    <tr>\n",
       "      <th>1</th>\n",
       "      <td>David</td>\n",
       "      <td>Campbell</td>\n",
       "      <td>US</td>\n",
       "      <td>Northwest</td>\n",
       "      <td>0.012</td>\n",
       "    </tr>\n",
       "    <tr>\n",
       "      <th>2</th>\n",
       "      <td>Garrett</td>\n",
       "      <td>Vargas</td>\n",
       "      <td>CA</td>\n",
       "      <td>Canada</td>\n",
       "      <td>0.010</td>\n",
       "    </tr>\n",
       "    <tr>\n",
       "      <th>3</th>\n",
       "      <td>Jae</td>\n",
       "      <td>Pak</td>\n",
       "      <td>CA</td>\n",
       "      <td>Canada</td>\n",
       "      <td>0.020</td>\n",
       "    </tr>\n",
       "    <tr>\n",
       "      <th>4</th>\n",
       "      <td>Jillian</td>\n",
       "      <td>Carson</td>\n",
       "      <td>US</td>\n",
       "      <td>Southwest</td>\n",
       "      <td>0.015</td>\n",
       "    </tr>\n",
       "    <tr>\n",
       "      <th>5</th>\n",
       "      <td>José</td>\n",
       "      <td>Saraiva</td>\n",
       "      <td>GB</td>\n",
       "      <td>United Kingdom</td>\n",
       "      <td>0.015</td>\n",
       "    </tr>\n",
       "    <tr>\n",
       "      <th>6</th>\n",
       "      <td>Linda</td>\n",
       "      <td>Mitchell</td>\n",
       "      <td>US</td>\n",
       "      <td>Southwest</td>\n",
       "      <td>0.015</td>\n",
       "    </tr>\n",
       "    <tr>\n",
       "      <th>7</th>\n",
       "      <td>Lynn</td>\n",
       "      <td>Tsoflias</td>\n",
       "      <td>AU</td>\n",
       "      <td>Australia</td>\n",
       "      <td>0.018</td>\n",
       "    </tr>\n",
       "    <tr>\n",
       "      <th>8</th>\n",
       "      <td>Michael</td>\n",
       "      <td>Blythe</td>\n",
       "      <td>US</td>\n",
       "      <td>Southwest</td>\n",
       "      <td>0.012</td>\n",
       "    </tr>\n",
       "    <tr>\n",
       "      <th>9</th>\n",
       "      <td>Pamela</td>\n",
       "      <td>Ansman-Wolfe</td>\n",
       "      <td>US</td>\n",
       "      <td>Northwest</td>\n",
       "      <td>0.010</td>\n",
       "    </tr>\n",
       "    <tr>\n",
       "      <th>10</th>\n",
       "      <td>Rachel</td>\n",
       "      <td>Valdez</td>\n",
       "      <td>DE</td>\n",
       "      <td>Germany</td>\n",
       "      <td>0.018</td>\n",
       "    </tr>\n",
       "    <tr>\n",
       "      <th>11</th>\n",
       "      <td>Ranjit</td>\n",
       "      <td>Varkey Chudukatil</td>\n",
       "      <td>FR</td>\n",
       "      <td>France</td>\n",
       "      <td>0.016</td>\n",
       "    </tr>\n",
       "    <tr>\n",
       "      <th>12</th>\n",
       "      <td>Shu</td>\n",
       "      <td>Ito</td>\n",
       "      <td>US</td>\n",
       "      <td>Southwest</td>\n",
       "      <td>0.010</td>\n",
       "    </tr>\n",
       "    <tr>\n",
       "      <th>13</th>\n",
       "      <td>Stephen</td>\n",
       "      <td>Jiang</td>\n",
       "      <td>US</td>\n",
       "      <td>Southwest</td>\n",
       "      <td>0.000</td>\n",
       "    </tr>\n",
       "    <tr>\n",
       "      <th>14</th>\n",
       "      <td>Syed</td>\n",
       "      <td>Abbas</td>\n",
       "      <td>AU</td>\n",
       "      <td>Australia</td>\n",
       "      <td>0.000</td>\n",
       "    </tr>\n",
       "    <tr>\n",
       "      <th>15</th>\n",
       "      <td>Tete</td>\n",
       "      <td>Mensa-Annan</td>\n",
       "      <td>US</td>\n",
       "      <td>Northwest</td>\n",
       "      <td>0.019</td>\n",
       "    </tr>\n",
       "    <tr>\n",
       "      <th>16</th>\n",
       "      <td>Tsvi</td>\n",
       "      <td>Reiter</td>\n",
       "      <td>US</td>\n",
       "      <td>Southeast</td>\n",
       "      <td>0.010</td>\n",
       "    </tr>\n",
       "  </tbody>\n",
       "</table>\n",
       "</div>"
      ],
      "text/plain": [
       "   FirstName           LastName CountryCode      RegionName  CommissionPct\n",
       "0        Amy            Alberts          GB  United Kingdom          0.000\n",
       "1      David           Campbell          US       Northwest          0.012\n",
       "2    Garrett             Vargas          CA          Canada          0.010\n",
       "3        Jae                Pak          CA          Canada          0.020\n",
       "4    Jillian             Carson          US       Southwest          0.015\n",
       "5       José            Saraiva          GB  United Kingdom          0.015\n",
       "6      Linda           Mitchell          US       Southwest          0.015\n",
       "7       Lynn           Tsoflias          AU       Australia          0.018\n",
       "8    Michael             Blythe          US       Southwest          0.012\n",
       "9     Pamela       Ansman-Wolfe          US       Northwest          0.010\n",
       "10    Rachel             Valdez          DE         Germany          0.018\n",
       "11    Ranjit  Varkey Chudukatil          FR          France          0.016\n",
       "12       Shu                Ito          US       Southwest          0.010\n",
       "13   Stephen              Jiang          US       Southwest          0.000\n",
       "14      Syed              Abbas          AU       Australia          0.000\n",
       "15      Tete        Mensa-Annan          US       Northwest          0.019\n",
       "16      Tsvi             Reiter          US       Southeast          0.010"
      ]
     },
     "execution_count": 126,
     "metadata": {},
     "output_type": "execute_result"
    }
   ],
   "source": [
    "employees.head(17)"
   ]
  },
  {
   "cell_type": "code",
   "execution_count": 127,
   "metadata": {},
   "outputs": [
    {
     "name": "stdout",
     "output_type": "stream",
     "text": [
      "<class 'pandas.core.frame.DataFrame'>\n",
      "RangeIndex: 17 entries, 0 to 16\n",
      "Data columns (total 5 columns):\n",
      " #   Column         Non-Null Count  Dtype  \n",
      "---  ------         --------------  -----  \n",
      " 0   FirstName      17 non-null     object \n",
      " 1   LastName       17 non-null     object \n",
      " 2   CountryCode    17 non-null     object \n",
      " 3   RegionName     17 non-null     object \n",
      " 4   CommissionPct  17 non-null     float64\n",
      "dtypes: float64(1), object(4)\n",
      "memory usage: 808.0+ bytes\n"
     ]
    }
   ],
   "source": [
    "employees.info()"
   ]
  },
  {
   "cell_type": "code",
   "execution_count": 128,
   "metadata": {},
   "outputs": [
    {
     "data": {
      "text/html": [
       "<div>\n",
       "<style scoped>\n",
       "    .dataframe tbody tr th:only-of-type {\n",
       "        vertical-align: middle;\n",
       "    }\n",
       "\n",
       "    .dataframe tbody tr th {\n",
       "        vertical-align: top;\n",
       "    }\n",
       "\n",
       "    .dataframe thead th {\n",
       "        text-align: right;\n",
       "    }\n",
       "</style>\n",
       "<table border=\"1\" class=\"dataframe\">\n",
       "  <thead>\n",
       "    <tr style=\"text-align: right;\">\n",
       "      <th></th>\n",
       "      <th>CommissionPct</th>\n",
       "    </tr>\n",
       "  </thead>\n",
       "  <tbody>\n",
       "    <tr>\n",
       "      <th>count</th>\n",
       "      <td>17.000000</td>\n",
       "    </tr>\n",
       "    <tr>\n",
       "      <th>mean</th>\n",
       "      <td>0.011765</td>\n",
       "    </tr>\n",
       "    <tr>\n",
       "      <th>std</th>\n",
       "      <td>0.006495</td>\n",
       "    </tr>\n",
       "    <tr>\n",
       "      <th>min</th>\n",
       "      <td>0.000000</td>\n",
       "    </tr>\n",
       "    <tr>\n",
       "      <th>25%</th>\n",
       "      <td>0.010000</td>\n",
       "    </tr>\n",
       "    <tr>\n",
       "      <th>50%</th>\n",
       "      <td>0.012000</td>\n",
       "    </tr>\n",
       "    <tr>\n",
       "      <th>75%</th>\n",
       "      <td>0.016000</td>\n",
       "    </tr>\n",
       "    <tr>\n",
       "      <th>max</th>\n",
       "      <td>0.020000</td>\n",
       "    </tr>\n",
       "  </tbody>\n",
       "</table>\n",
       "</div>"
      ],
      "text/plain": [
       "       CommissionPct\n",
       "count      17.000000\n",
       "mean        0.011765\n",
       "std         0.006495\n",
       "min         0.000000\n",
       "25%         0.010000\n",
       "50%         0.012000\n",
       "75%         0.016000\n",
       "max         0.020000"
      ]
     },
     "execution_count": 128,
     "metadata": {},
     "output_type": "execute_result"
    }
   ],
   "source": [
    "employees.describe()"
   ]
  },
  {
   "cell_type": "markdown",
   "metadata": {},
   "source": [
    "### Análisis general"
   ]
  },
  {
   "cell_type": "markdown",
   "metadata": {},
   "source": [
    "Revisión de valores únicos."
   ]
  },
  {
   "cell_type": "code",
   "execution_count": 129,
   "metadata": {},
   "outputs": [
    {
     "data": {
      "text/html": [
       "<div>\n",
       "<style scoped>\n",
       "    .dataframe tbody tr th:only-of-type {\n",
       "        vertical-align: middle;\n",
       "    }\n",
       "\n",
       "    .dataframe tbody tr th {\n",
       "        vertical-align: top;\n",
       "    }\n",
       "\n",
       "    .dataframe thead th {\n",
       "        text-align: right;\n",
       "    }\n",
       "</style>\n",
       "<table border=\"1\" class=\"dataframe\">\n",
       "  <thead>\n",
       "    <tr style=\"text-align: right;\">\n",
       "      <th></th>\n",
       "      <th>SalesOrderID</th>\n",
       "      <th>TotalDue</th>\n",
       "      <th>NumberofItems</th>\n",
       "      <th>OnlineOrderFlag</th>\n",
       "      <th>Status</th>\n",
       "    </tr>\n",
       "  </thead>\n",
       "  <tbody>\n",
       "    <tr>\n",
       "      <th>18863</th>\n",
       "      <td>62522</td>\n",
       "      <td>820.2968</td>\n",
       "      <td>1</td>\n",
       "      <td>1</td>\n",
       "      <td>5</td>\n",
       "    </tr>\n",
       "    <tr>\n",
       "      <th>4332</th>\n",
       "      <td>47991</td>\n",
       "      <td>39748.1045</td>\n",
       "      <td>22</td>\n",
       "      <td>0</td>\n",
       "      <td>5</td>\n",
       "    </tr>\n",
       "    <tr>\n",
       "      <th>18719</th>\n",
       "      <td>62378</td>\n",
       "      <td>937.5594</td>\n",
       "      <td>3</td>\n",
       "      <td>1</td>\n",
       "      <td>5</td>\n",
       "    </tr>\n",
       "    <tr>\n",
       "      <th>29567</th>\n",
       "      <td>73226</td>\n",
       "      <td>2570.1858</td>\n",
       "      <td>3</td>\n",
       "      <td>1</td>\n",
       "      <td>5</td>\n",
       "    </tr>\n",
       "    <tr>\n",
       "      <th>8590</th>\n",
       "      <td>52249</td>\n",
       "      <td>62.9519</td>\n",
       "      <td>2</td>\n",
       "      <td>1</td>\n",
       "      <td>5</td>\n",
       "    </tr>\n",
       "  </tbody>\n",
       "</table>\n",
       "</div>"
      ],
      "text/plain": [
       "       SalesOrderID    TotalDue  NumberofItems  OnlineOrderFlag  Status\n",
       "18863         62522    820.2968              1                1       5\n",
       "4332          47991  39748.1045             22                0       5\n",
       "18719         62378    937.5594              3                1       5\n",
       "29567         73226   2570.1858              3                1       5\n",
       "8590          52249     62.9519              2                1       5"
      ]
     },
     "execution_count": 129,
     "metadata": {},
     "output_type": "execute_result"
    }
   ],
   "source": [
    "sales.sample(5)"
   ]
  },
  {
   "cell_type": "code",
   "execution_count": 130,
   "metadata": {},
   "outputs": [
    {
     "name": "stdout",
     "output_type": "stream",
     "text": [
      "[0 1]\n"
     ]
    }
   ],
   "source": [
    "print(sales[\"OnlineOrderFlag\"].unique())"
   ]
  },
  {
   "cell_type": "code",
   "execution_count": 131,
   "metadata": {},
   "outputs": [
    {
     "name": "stdout",
     "output_type": "stream",
     "text": [
      "[5]\n"
     ]
    }
   ],
   "source": [
    "print(sales[\"Status\"].unique())"
   ]
  },
  {
   "cell_type": "markdown",
   "metadata": {},
   "source": [
    "Revisión de valores faltantes (missing values):"
   ]
  },
  {
   "cell_type": "code",
   "execution_count": 132,
   "metadata": {},
   "outputs": [
    {
     "data": {
      "text/plain": [
       "SalesOrderID             0\n",
       "CustomerFirstName    14002\n",
       "CustomerLastName     14002\n",
       "EmployeeFirstName    27659\n",
       "EmployeeLastName     27659\n",
       "ChannelType          14002\n",
       "dtype: int64"
      ]
     },
     "execution_count": 132,
     "metadata": {},
     "output_type": "execute_result"
    }
   ],
   "source": [
    "customers.isna().sum()"
   ]
  },
  {
   "cell_type": "markdown",
   "metadata": {},
   "source": [
    "Reemplazar el OnlineOrderFlag:\n",
    "0 -: offline\n",
    "1 -: online"
   ]
  },
  {
   "cell_type": "code",
   "execution_count": 133,
   "metadata": {},
   "outputs": [],
   "source": [
    "sales[\"OnlineOrderFlag\"]= sales[\"OnlineOrderFlag\"].replace( {0: \"offline\", 1: \"online\"})"
   ]
  },
  {
   "cell_type": "code",
   "execution_count": 134,
   "metadata": {},
   "outputs": [
    {
     "data": {
      "text/html": [
       "<div>\n",
       "<style scoped>\n",
       "    .dataframe tbody tr th:only-of-type {\n",
       "        vertical-align: middle;\n",
       "    }\n",
       "\n",
       "    .dataframe tbody tr th {\n",
       "        vertical-align: top;\n",
       "    }\n",
       "\n",
       "    .dataframe thead th {\n",
       "        text-align: right;\n",
       "    }\n",
       "</style>\n",
       "<table border=\"1\" class=\"dataframe\">\n",
       "  <thead>\n",
       "    <tr style=\"text-align: right;\">\n",
       "      <th></th>\n",
       "      <th>SalesOrderID</th>\n",
       "      <th>TotalDue</th>\n",
       "      <th>NumberofItems</th>\n",
       "      <th>OnlineOrderFlag</th>\n",
       "      <th>Status</th>\n",
       "    </tr>\n",
       "  </thead>\n",
       "  <tbody>\n",
       "    <tr>\n",
       "      <th>9473</th>\n",
       "      <td>53132</td>\n",
       "      <td>2666.4313</td>\n",
       "      <td>2</td>\n",
       "      <td>online</td>\n",
       "      <td>5</td>\n",
       "    </tr>\n",
       "    <tr>\n",
       "      <th>20951</th>\n",
       "      <td>64610</td>\n",
       "      <td>1276.8054</td>\n",
       "      <td>2</td>\n",
       "      <td>online</td>\n",
       "      <td>5</td>\n",
       "    </tr>\n",
       "    <tr>\n",
       "      <th>11842</th>\n",
       "      <td>55501</td>\n",
       "      <td>596.6890</td>\n",
       "      <td>1</td>\n",
       "      <td>online</td>\n",
       "      <td>5</td>\n",
       "    </tr>\n",
       "  </tbody>\n",
       "</table>\n",
       "</div>"
      ],
      "text/plain": [
       "       SalesOrderID   TotalDue  NumberofItems OnlineOrderFlag  Status\n",
       "9473          53132  2666.4313              2          online       5\n",
       "20951         64610  1276.8054              2          online       5\n",
       "11842         55501   596.6890              1          online       5"
      ]
     },
     "execution_count": 134,
     "metadata": {},
     "output_type": "execute_result"
    }
   ],
   "source": [
    "sales.sample(3)"
   ]
  },
  {
   "cell_type": "code",
   "execution_count": 135,
   "metadata": {},
   "outputs": [
    {
     "data": {
      "text/plain": [
       "array(['offline', 'online'], dtype=object)"
      ]
     },
     "execution_count": 135,
     "metadata": {},
     "output_type": "execute_result"
    }
   ],
   "source": [
    "sales[\"OnlineOrderFlag\"].unique()"
   ]
  },
  {
   "cell_type": "code",
   "execution_count": 136,
   "metadata": {},
   "outputs": [
    {
     "data": {
      "text/plain": [
       "count      31465\n",
       "unique         2\n",
       "top       online\n",
       "freq       27659\n",
       "Name: OnlineOrderFlag, dtype: object"
      ]
     },
     "execution_count": 136,
     "metadata": {},
     "output_type": "execute_result"
    }
   ],
   "source": [
    "sales[\"OnlineOrderFlag\"].describe()"
   ]
  },
  {
   "cell_type": "markdown",
   "metadata": {},
   "source": [
    "Eliminar la columna Status de sales:"
   ]
  },
  {
   "cell_type": "code",
   "execution_count": 138,
   "metadata": {},
   "outputs": [
    {
     "name": "stdout",
     "output_type": "stream",
     "text": [
      "<class 'pandas.core.frame.DataFrame'>\n",
      "RangeIndex: 31465 entries, 0 to 31464\n",
      "Data columns (total 4 columns):\n",
      " #   Column           Non-Null Count  Dtype  \n",
      "---  ------           --------------  -----  \n",
      " 0   SalesOrderID     31465 non-null  int64  \n",
      " 1   TotalDue         31465 non-null  float64\n",
      " 2   NumberofItems    31465 non-null  int64  \n",
      " 3   OnlineOrderFlag  31465 non-null  object \n",
      "dtypes: float64(1), int64(2), object(1)\n",
      "memory usage: 983.4+ KB\n"
     ]
    }
   ],
   "source": [
    "sales.drop(\"Status\",axis=1, inplace=True)\n",
    "sales.info()"
   ]
  },
  {
   "cell_type": "markdown",
   "metadata": {},
   "source": [
    "Convertir las columnas de fechas (OrderDate y ShipDate) en formato de fecha (datetime) : Y - m - d"
   ]
  },
  {
   "cell_type": "code",
   "execution_count": 139,
   "metadata": {},
   "outputs": [],
   "source": [
    "dates[\"OrderDate\"] = pd.to_datetime(dates[\"OrderDate\"], format =\"%Y-%m-%d\" )   "
   ]
  },
  {
   "cell_type": "code",
   "execution_count": 140,
   "metadata": {},
   "outputs": [],
   "source": [
    "dates[\"ShipDate\"] = pd.to_datetime(dates[\"ShipDate\"], format =\"%Y-%m-%d\" )  "
   ]
  },
  {
   "cell_type": "code",
   "execution_count": 141,
   "metadata": {},
   "outputs": [
    {
     "name": "stdout",
     "output_type": "stream",
     "text": [
      "<class 'pandas.core.frame.DataFrame'>\n",
      "RangeIndex: 31465 entries, 0 to 31464\n",
      "Data columns (total 3 columns):\n",
      " #   Column        Non-Null Count  Dtype         \n",
      "---  ------        --------------  -----         \n",
      " 0   SalesOrderID  31465 non-null  int64         \n",
      " 1   OrderDate     31465 non-null  datetime64[ns]\n",
      " 2   ShipDate      31465 non-null  datetime64[ns]\n",
      "dtypes: datetime64[ns](2), int64(1)\n",
      "memory usage: 737.6 KB\n"
     ]
    }
   ],
   "source": [
    "dates.info()"
   ]
  },
  {
   "cell_type": "code",
   "execution_count": 142,
   "metadata": {},
   "outputs": [
    {
     "data": {
      "text/html": [
       "<div>\n",
       "<style scoped>\n",
       "    .dataframe tbody tr th:only-of-type {\n",
       "        vertical-align: middle;\n",
       "    }\n",
       "\n",
       "    .dataframe tbody tr th {\n",
       "        vertical-align: top;\n",
       "    }\n",
       "\n",
       "    .dataframe thead th {\n",
       "        text-align: right;\n",
       "    }\n",
       "</style>\n",
       "<table border=\"1\" class=\"dataframe\">\n",
       "  <thead>\n",
       "    <tr style=\"text-align: right;\">\n",
       "      <th></th>\n",
       "      <th>SalesOrderID</th>\n",
       "      <th>OrderDate</th>\n",
       "      <th>ShipDate</th>\n",
       "    </tr>\n",
       "  </thead>\n",
       "  <tbody>\n",
       "    <tr>\n",
       "      <th>29395</th>\n",
       "      <td>73054</td>\n",
       "      <td>2014-05-16</td>\n",
       "      <td>2014-05-23</td>\n",
       "    </tr>\n",
       "    <tr>\n",
       "      <th>9406</th>\n",
       "      <td>53065</td>\n",
       "      <td>2013-07-23</td>\n",
       "      <td>2013-07-30</td>\n",
       "    </tr>\n",
       "    <tr>\n",
       "      <th>24308</th>\n",
       "      <td>67967</td>\n",
       "      <td>2014-03-10</td>\n",
       "      <td>2014-03-17</td>\n",
       "    </tr>\n",
       "  </tbody>\n",
       "</table>\n",
       "</div>"
      ],
      "text/plain": [
       "       SalesOrderID  OrderDate   ShipDate\n",
       "29395         73054 2014-05-16 2014-05-23\n",
       "9406          53065 2013-07-23 2013-07-30\n",
       "24308         67967 2014-03-10 2014-03-17"
      ]
     },
     "execution_count": 142,
     "metadata": {},
     "output_type": "execute_result"
    }
   ],
   "source": [
    "dates.sample(3)"
   ]
  },
  {
   "cell_type": "markdown",
   "metadata": {},
   "source": [
    "Tratar de completar los datos de customers:"
   ]
  },
  {
   "cell_type": "code",
   "execution_count": 143,
   "metadata": {},
   "outputs": [
    {
     "data": {
      "text/html": [
       "<div>\n",
       "<style scoped>\n",
       "    .dataframe tbody tr th:only-of-type {\n",
       "        vertical-align: middle;\n",
       "    }\n",
       "\n",
       "    .dataframe tbody tr th {\n",
       "        vertical-align: top;\n",
       "    }\n",
       "\n",
       "    .dataframe thead th {\n",
       "        text-align: right;\n",
       "    }\n",
       "</style>\n",
       "<table border=\"1\" class=\"dataframe\">\n",
       "  <thead>\n",
       "    <tr style=\"text-align: right;\">\n",
       "      <th></th>\n",
       "      <th>SalesOrderID</th>\n",
       "      <th>CustomerFirstName</th>\n",
       "      <th>CustomerLastName</th>\n",
       "      <th>EmployeeFirstName</th>\n",
       "      <th>EmployeeLastName</th>\n",
       "      <th>ChannelType</th>\n",
       "    </tr>\n",
       "  </thead>\n",
       "  <tbody>\n",
       "    <tr>\n",
       "      <th>1172</th>\n",
       "      <td>44831</td>\n",
       "      <td>NaN</td>\n",
       "      <td>NaN</td>\n",
       "      <td>NaN</td>\n",
       "      <td>NaN</td>\n",
       "      <td>NaN</td>\n",
       "    </tr>\n",
       "    <tr>\n",
       "      <th>15690</th>\n",
       "      <td>59349</td>\n",
       "      <td>Emma</td>\n",
       "      <td>Williams</td>\n",
       "      <td>NaN</td>\n",
       "      <td>NaN</td>\n",
       "      <td>B2C</td>\n",
       "    </tr>\n",
       "    <tr>\n",
       "      <th>11635</th>\n",
       "      <td>55294</td>\n",
       "      <td>NaN</td>\n",
       "      <td>NaN</td>\n",
       "      <td>Jillian</td>\n",
       "      <td>Carson</td>\n",
       "      <td>NaN</td>\n",
       "    </tr>\n",
       "    <tr>\n",
       "      <th>4261</th>\n",
       "      <td>47920</td>\n",
       "      <td>Warren</td>\n",
       "      <td>She</td>\n",
       "      <td>NaN</td>\n",
       "      <td>NaN</td>\n",
       "      <td>B2C</td>\n",
       "    </tr>\n",
       "    <tr>\n",
       "      <th>19049</th>\n",
       "      <td>62708</td>\n",
       "      <td>NaN</td>\n",
       "      <td>NaN</td>\n",
       "      <td>NaN</td>\n",
       "      <td>NaN</td>\n",
       "      <td>NaN</td>\n",
       "    </tr>\n",
       "  </tbody>\n",
       "</table>\n",
       "</div>"
      ],
      "text/plain": [
       "       SalesOrderID CustomerFirstName CustomerLastName EmployeeFirstName  \\\n",
       "1172          44831               NaN              NaN               NaN   \n",
       "15690         59349              Emma         Williams               NaN   \n",
       "11635         55294               NaN              NaN           Jillian   \n",
       "4261          47920            Warren              She               NaN   \n",
       "19049         62708               NaN              NaN               NaN   \n",
       "\n",
       "      EmployeeLastName ChannelType  \n",
       "1172               NaN         NaN  \n",
       "15690              NaN         B2C  \n",
       "11635           Carson         NaN  \n",
       "4261               NaN         B2C  \n",
       "19049              NaN         NaN  "
      ]
     },
     "execution_count": 143,
     "metadata": {},
     "output_type": "execute_result"
    }
   ],
   "source": [
    "customers.sample(5)"
   ]
  },
  {
   "cell_type": "markdown",
   "metadata": {},
   "source": [
    "Hipótesis para completar Channel Type:\n",
    "\n",
    "1) Nombres de los empleados son nulos => B2C\n",
    "2) Nombres de los clientes nulos => B2B"
   ]
  },
  {
   "cell_type": "code",
   "execution_count": 144,
   "metadata": {},
   "outputs": [
    {
     "name": "stdout",
     "output_type": "stream",
     "text": [
      "<class 'pandas.core.frame.DataFrame'>\n",
      "RangeIndex: 31465 entries, 0 to 31464\n",
      "Data columns (total 6 columns):\n",
      " #   Column             Non-Null Count  Dtype \n",
      "---  ------             --------------  ----- \n",
      " 0   SalesOrderID       31465 non-null  int64 \n",
      " 1   CustomerFirstName  17463 non-null  object\n",
      " 2   CustomerLastName   17463 non-null  object\n",
      " 3   EmployeeFirstName  3806 non-null   object\n",
      " 4   EmployeeLastName   3806 non-null   object\n",
      " 5   ChannelType        31465 non-null  object\n",
      "dtypes: int64(1), object(5)\n",
      "memory usage: 1.4+ MB\n"
     ]
    }
   ],
   "source": [
    "customers.loc[ customers[\"EmployeeFirstName\"].isnull(), \"ChannelType\"] = \"B2C\"\n",
    "customers.loc[ customers[\"EmployeeFirstName\"].notnull(), \"ChannelType\"] = \"B2B\" ##  customers[\"CustomerFirstName\"].isnull()\n",
    "customers.info()"
   ]
  },
  {
   "cell_type": "code",
   "execution_count": 145,
   "metadata": {},
   "outputs": [
    {
     "data": {
      "text/html": [
       "<div>\n",
       "<style scoped>\n",
       "    .dataframe tbody tr th:only-of-type {\n",
       "        vertical-align: middle;\n",
       "    }\n",
       "\n",
       "    .dataframe tbody tr th {\n",
       "        vertical-align: top;\n",
       "    }\n",
       "\n",
       "    .dataframe thead th {\n",
       "        text-align: right;\n",
       "    }\n",
       "</style>\n",
       "<table border=\"1\" class=\"dataframe\">\n",
       "  <thead>\n",
       "    <tr style=\"text-align: right;\">\n",
       "      <th></th>\n",
       "      <th>SalesOrderID</th>\n",
       "      <th>CustomerFirstName</th>\n",
       "      <th>CustomerLastName</th>\n",
       "      <th>EmployeeFirstName</th>\n",
       "      <th>EmployeeLastName</th>\n",
       "      <th>ChannelType</th>\n",
       "    </tr>\n",
       "  </thead>\n",
       "  <tbody>\n",
       "    <tr>\n",
       "      <th>1403</th>\n",
       "      <td>45062</td>\n",
       "      <td>NaN</td>\n",
       "      <td>NaN</td>\n",
       "      <td>Tsvi</td>\n",
       "      <td>Reiter</td>\n",
       "      <td>B2B</td>\n",
       "    </tr>\n",
       "    <tr>\n",
       "      <th>16843</th>\n",
       "      <td>60502</td>\n",
       "      <td>Nicole</td>\n",
       "      <td>Flores</td>\n",
       "      <td>NaN</td>\n",
       "      <td>NaN</td>\n",
       "      <td>B2C</td>\n",
       "    </tr>\n",
       "    <tr>\n",
       "      <th>13912</th>\n",
       "      <td>57571</td>\n",
       "      <td>Devin</td>\n",
       "      <td>Powell</td>\n",
       "      <td>NaN</td>\n",
       "      <td>NaN</td>\n",
       "      <td>B2C</td>\n",
       "    </tr>\n",
       "    <tr>\n",
       "      <th>11374</th>\n",
       "      <td>55033</td>\n",
       "      <td>Jasmine</td>\n",
       "      <td>Hall</td>\n",
       "      <td>NaN</td>\n",
       "      <td>NaN</td>\n",
       "      <td>B2C</td>\n",
       "    </tr>\n",
       "    <tr>\n",
       "      <th>4929</th>\n",
       "      <td>48588</td>\n",
       "      <td>NaN</td>\n",
       "      <td>NaN</td>\n",
       "      <td>NaN</td>\n",
       "      <td>NaN</td>\n",
       "      <td>B2C</td>\n",
       "    </tr>\n",
       "  </tbody>\n",
       "</table>\n",
       "</div>"
      ],
      "text/plain": [
       "       SalesOrderID CustomerFirstName CustomerLastName EmployeeFirstName  \\\n",
       "1403          45062               NaN              NaN              Tsvi   \n",
       "16843         60502            Nicole           Flores               NaN   \n",
       "13912         57571             Devin           Powell               NaN   \n",
       "11374         55033           Jasmine             Hall               NaN   \n",
       "4929          48588               NaN              NaN               NaN   \n",
       "\n",
       "      EmployeeLastName ChannelType  \n",
       "1403            Reiter         B2B  \n",
       "16843              NaN         B2C  \n",
       "13912              NaN         B2C  \n",
       "11374              NaN         B2C  \n",
       "4929               NaN         B2C  "
      ]
     },
     "execution_count": 145,
     "metadata": {},
     "output_type": "execute_result"
    }
   ],
   "source": [
    "customers.sample(5)"
   ]
  },
  {
   "cell_type": "raw",
   "metadata": {},
   "source": [
    "Crear una sola columna para clientes y poner el nombre completo del empleado que hizo esa venta"
   ]
  },
  {
   "cell_type": "code",
   "execution_count": 146,
   "metadata": {},
   "outputs": [
    {
     "data": {
      "text/html": [
       "<div>\n",
       "<style scoped>\n",
       "    .dataframe tbody tr th:only-of-type {\n",
       "        vertical-align: middle;\n",
       "    }\n",
       "\n",
       "    .dataframe tbody tr th {\n",
       "        vertical-align: top;\n",
       "    }\n",
       "\n",
       "    .dataframe thead th {\n",
       "        text-align: right;\n",
       "    }\n",
       "</style>\n",
       "<table border=\"1\" class=\"dataframe\">\n",
       "  <thead>\n",
       "    <tr style=\"text-align: right;\">\n",
       "      <th></th>\n",
       "      <th>SalesOrderID</th>\n",
       "      <th>CustomerFirstName</th>\n",
       "      <th>CustomerLastName</th>\n",
       "      <th>EmployeeFirstName</th>\n",
       "      <th>EmployeeLastName</th>\n",
       "      <th>ChannelType</th>\n",
       "      <th>Fullname</th>\n",
       "    </tr>\n",
       "  </thead>\n",
       "  <tbody>\n",
       "    <tr>\n",
       "      <th>0</th>\n",
       "      <td>43659</td>\n",
       "      <td>NaN</td>\n",
       "      <td>NaN</td>\n",
       "      <td>Tsvi</td>\n",
       "      <td>Reiter</td>\n",
       "      <td>B2B</td>\n",
       "      <td>Tsvi Reiter</td>\n",
       "    </tr>\n",
       "    <tr>\n",
       "      <th>1</th>\n",
       "      <td>43660</td>\n",
       "      <td>NaN</td>\n",
       "      <td>NaN</td>\n",
       "      <td>Tsvi</td>\n",
       "      <td>Reiter</td>\n",
       "      <td>B2B</td>\n",
       "      <td>Tsvi Reiter</td>\n",
       "    </tr>\n",
       "    <tr>\n",
       "      <th>2</th>\n",
       "      <td>43661</td>\n",
       "      <td>NaN</td>\n",
       "      <td>NaN</td>\n",
       "      <td>José</td>\n",
       "      <td>Saraiva</td>\n",
       "      <td>B2B</td>\n",
       "      <td>José Saraiva</td>\n",
       "    </tr>\n",
       "    <tr>\n",
       "      <th>3</th>\n",
       "      <td>43662</td>\n",
       "      <td>NaN</td>\n",
       "      <td>NaN</td>\n",
       "      <td>José</td>\n",
       "      <td>Saraiva</td>\n",
       "      <td>B2B</td>\n",
       "      <td>José Saraiva</td>\n",
       "    </tr>\n",
       "    <tr>\n",
       "      <th>4</th>\n",
       "      <td>43663</td>\n",
       "      <td>NaN</td>\n",
       "      <td>NaN</td>\n",
       "      <td>Linda</td>\n",
       "      <td>Mitchell</td>\n",
       "      <td>B2B</td>\n",
       "      <td>Linda Mitchell</td>\n",
       "    </tr>\n",
       "  </tbody>\n",
       "</table>\n",
       "</div>"
      ],
      "text/plain": [
       "   SalesOrderID CustomerFirstName CustomerLastName EmployeeFirstName  \\\n",
       "0         43659               NaN              NaN              Tsvi   \n",
       "1         43660               NaN              NaN              Tsvi   \n",
       "2         43661               NaN              NaN              José   \n",
       "3         43662               NaN              NaN              José   \n",
       "4         43663               NaN              NaN             Linda   \n",
       "\n",
       "  EmployeeLastName ChannelType        Fullname  \n",
       "0           Reiter         B2B     Tsvi Reiter  \n",
       "1           Reiter         B2B     Tsvi Reiter  \n",
       "2          Saraiva         B2B    José Saraiva  \n",
       "3          Saraiva         B2B    José Saraiva  \n",
       "4         Mitchell         B2B  Linda Mitchell  "
      ]
     },
     "execution_count": 146,
     "metadata": {},
     "output_type": "execute_result"
    }
   ],
   "source": [
    "customers[\"Fullname\"] = customers[\"EmployeeFirstName\"] +\" \"+ customers[\"EmployeeLastName\"]\n",
    "customers.head()"
   ]
  },
  {
   "cell_type": "code",
   "execution_count": 147,
   "metadata": {},
   "outputs": [
    {
     "data": {
      "text/html": [
       "<div>\n",
       "<style scoped>\n",
       "    .dataframe tbody tr th:only-of-type {\n",
       "        vertical-align: middle;\n",
       "    }\n",
       "\n",
       "    .dataframe tbody tr th {\n",
       "        vertical-align: top;\n",
       "    }\n",
       "\n",
       "    .dataframe thead th {\n",
       "        text-align: right;\n",
       "    }\n",
       "</style>\n",
       "<table border=\"1\" class=\"dataframe\">\n",
       "  <thead>\n",
       "    <tr style=\"text-align: right;\">\n",
       "      <th></th>\n",
       "      <th>FirstName</th>\n",
       "      <th>LastName</th>\n",
       "      <th>CountryCode</th>\n",
       "      <th>RegionName</th>\n",
       "      <th>CommissionPct</th>\n",
       "      <th>Fullname</th>\n",
       "    </tr>\n",
       "  </thead>\n",
       "  <tbody>\n",
       "    <tr>\n",
       "      <th>0</th>\n",
       "      <td>Amy</td>\n",
       "      <td>Alberts</td>\n",
       "      <td>GB</td>\n",
       "      <td>United Kingdom</td>\n",
       "      <td>0.000</td>\n",
       "      <td>Amy Alberts</td>\n",
       "    </tr>\n",
       "    <tr>\n",
       "      <th>1</th>\n",
       "      <td>David</td>\n",
       "      <td>Campbell</td>\n",
       "      <td>US</td>\n",
       "      <td>Northwest</td>\n",
       "      <td>0.012</td>\n",
       "      <td>David Campbell</td>\n",
       "    </tr>\n",
       "    <tr>\n",
       "      <th>2</th>\n",
       "      <td>Garrett</td>\n",
       "      <td>Vargas</td>\n",
       "      <td>CA</td>\n",
       "      <td>Canada</td>\n",
       "      <td>0.010</td>\n",
       "      <td>Garrett Vargas</td>\n",
       "    </tr>\n",
       "    <tr>\n",
       "      <th>3</th>\n",
       "      <td>Jae</td>\n",
       "      <td>Pak</td>\n",
       "      <td>CA</td>\n",
       "      <td>Canada</td>\n",
       "      <td>0.020</td>\n",
       "      <td>Jae Pak</td>\n",
       "    </tr>\n",
       "    <tr>\n",
       "      <th>4</th>\n",
       "      <td>Jillian</td>\n",
       "      <td>Carson</td>\n",
       "      <td>US</td>\n",
       "      <td>Southwest</td>\n",
       "      <td>0.015</td>\n",
       "      <td>Jillian Carson</td>\n",
       "    </tr>\n",
       "  </tbody>\n",
       "</table>\n",
       "</div>"
      ],
      "text/plain": [
       "  FirstName  LastName CountryCode      RegionName  CommissionPct  \\\n",
       "0       Amy   Alberts          GB  United Kingdom          0.000   \n",
       "1     David  Campbell          US       Northwest          0.012   \n",
       "2   Garrett    Vargas          CA          Canada          0.010   \n",
       "3       Jae       Pak          CA          Canada          0.020   \n",
       "4   Jillian    Carson          US       Southwest          0.015   \n",
       "\n",
       "         Fullname  \n",
       "0     Amy Alberts  \n",
       "1  David Campbell  \n",
       "2  Garrett Vargas  \n",
       "3         Jae Pak  \n",
       "4  Jillian Carson  "
      ]
     },
     "execution_count": 147,
     "metadata": {},
     "output_type": "execute_result"
    }
   ],
   "source": [
    "employees[\"Fullname\"] = employees[\"FirstName\"] +\" \"+ employees[\"LastName\"]\n",
    "employees.head()"
   ]
  },
  {
   "cell_type": "markdown",
   "metadata": {},
   "source": [
    "### Pregunta: Cómo han cambiado las ganancias a través de los años? "
   ]
  },
  {
   "cell_type": "code",
   "execution_count": 148,
   "metadata": {},
   "outputs": [
    {
     "data": {
      "text/html": [
       "<div>\n",
       "<style scoped>\n",
       "    .dataframe tbody tr th:only-of-type {\n",
       "        vertical-align: middle;\n",
       "    }\n",
       "\n",
       "    .dataframe tbody tr th {\n",
       "        vertical-align: top;\n",
       "    }\n",
       "\n",
       "    .dataframe thead th {\n",
       "        text-align: right;\n",
       "    }\n",
       "</style>\n",
       "<table border=\"1\" class=\"dataframe\">\n",
       "  <thead>\n",
       "    <tr style=\"text-align: right;\">\n",
       "      <th></th>\n",
       "      <th>SalesOrderID</th>\n",
       "      <th>TotalDue</th>\n",
       "      <th>NumberofItems</th>\n",
       "      <th>OnlineOrderFlag</th>\n",
       "    </tr>\n",
       "  </thead>\n",
       "  <tbody>\n",
       "    <tr>\n",
       "      <th>0</th>\n",
       "      <td>43659</td>\n",
       "      <td>23153.2339</td>\n",
       "      <td>12</td>\n",
       "      <td>offline</td>\n",
       "    </tr>\n",
       "    <tr>\n",
       "      <th>1</th>\n",
       "      <td>43660</td>\n",
       "      <td>1457.3288</td>\n",
       "      <td>2</td>\n",
       "      <td>offline</td>\n",
       "    </tr>\n",
       "    <tr>\n",
       "      <th>2</th>\n",
       "      <td>43661</td>\n",
       "      <td>36865.8012</td>\n",
       "      <td>15</td>\n",
       "      <td>offline</td>\n",
       "    </tr>\n",
       "    <tr>\n",
       "      <th>3</th>\n",
       "      <td>43662</td>\n",
       "      <td>32474.9324</td>\n",
       "      <td>22</td>\n",
       "      <td>offline</td>\n",
       "    </tr>\n",
       "    <tr>\n",
       "      <th>4</th>\n",
       "      <td>43663</td>\n",
       "      <td>472.3108</td>\n",
       "      <td>1</td>\n",
       "      <td>offline</td>\n",
       "    </tr>\n",
       "  </tbody>\n",
       "</table>\n",
       "</div>"
      ],
      "text/plain": [
       "   SalesOrderID    TotalDue  NumberofItems OnlineOrderFlag\n",
       "0         43659  23153.2339             12         offline\n",
       "1         43660   1457.3288              2         offline\n",
       "2         43661  36865.8012             15         offline\n",
       "3         43662  32474.9324             22         offline\n",
       "4         43663    472.3108              1         offline"
      ]
     },
     "execution_count": 148,
     "metadata": {},
     "output_type": "execute_result"
    }
   ],
   "source": [
    "sales.head()"
   ]
  },
  {
   "cell_type": "code",
   "execution_count": 149,
   "metadata": {},
   "outputs": [
    {
     "data": {
      "text/html": [
       "<div>\n",
       "<style scoped>\n",
       "    .dataframe tbody tr th:only-of-type {\n",
       "        vertical-align: middle;\n",
       "    }\n",
       "\n",
       "    .dataframe tbody tr th {\n",
       "        vertical-align: top;\n",
       "    }\n",
       "\n",
       "    .dataframe thead th {\n",
       "        text-align: right;\n",
       "    }\n",
       "</style>\n",
       "<table border=\"1\" class=\"dataframe\">\n",
       "  <thead>\n",
       "    <tr style=\"text-align: right;\">\n",
       "      <th></th>\n",
       "      <th>SalesOrderID</th>\n",
       "      <th>TotalDue</th>\n",
       "      <th>NumberofItems</th>\n",
       "      <th>OnlineOrderFlag</th>\n",
       "      <th>OrderDate</th>\n",
       "      <th>ShipDate</th>\n",
       "    </tr>\n",
       "  </thead>\n",
       "  <tbody>\n",
       "    <tr>\n",
       "      <th>0</th>\n",
       "      <td>43659</td>\n",
       "      <td>23153.2339</td>\n",
       "      <td>12</td>\n",
       "      <td>offline</td>\n",
       "      <td>2011-05-31</td>\n",
       "      <td>2011-06-07</td>\n",
       "    </tr>\n",
       "    <tr>\n",
       "      <th>1</th>\n",
       "      <td>43660</td>\n",
       "      <td>1457.3288</td>\n",
       "      <td>2</td>\n",
       "      <td>offline</td>\n",
       "      <td>2011-05-31</td>\n",
       "      <td>2011-06-07</td>\n",
       "    </tr>\n",
       "    <tr>\n",
       "      <th>2</th>\n",
       "      <td>43661</td>\n",
       "      <td>36865.8012</td>\n",
       "      <td>15</td>\n",
       "      <td>offline</td>\n",
       "      <td>2011-05-31</td>\n",
       "      <td>2011-06-07</td>\n",
       "    </tr>\n",
       "    <tr>\n",
       "      <th>3</th>\n",
       "      <td>43662</td>\n",
       "      <td>32474.9324</td>\n",
       "      <td>22</td>\n",
       "      <td>offline</td>\n",
       "      <td>2011-05-31</td>\n",
       "      <td>2011-06-07</td>\n",
       "    </tr>\n",
       "    <tr>\n",
       "      <th>4</th>\n",
       "      <td>43663</td>\n",
       "      <td>472.3108</td>\n",
       "      <td>1</td>\n",
       "      <td>offline</td>\n",
       "      <td>2011-05-31</td>\n",
       "      <td>2011-06-07</td>\n",
       "    </tr>\n",
       "  </tbody>\n",
       "</table>\n",
       "</div>"
      ],
      "text/plain": [
       "   SalesOrderID    TotalDue  NumberofItems OnlineOrderFlag  OrderDate  \\\n",
       "0         43659  23153.2339             12         offline 2011-05-31   \n",
       "1         43660   1457.3288              2         offline 2011-05-31   \n",
       "2         43661  36865.8012             15         offline 2011-05-31   \n",
       "3         43662  32474.9324             22         offline 2011-05-31   \n",
       "4         43663    472.3108              1         offline 2011-05-31   \n",
       "\n",
       "    ShipDate  \n",
       "0 2011-06-07  \n",
       "1 2011-06-07  \n",
       "2 2011-06-07  \n",
       "3 2011-06-07  \n",
       "4 2011-06-07  "
      ]
     },
     "execution_count": 149,
     "metadata": {},
     "output_type": "execute_result"
    }
   ],
   "source": [
    "## merge: es un JOIN de SQL\n",
    "sales_date= sales.merge(dates, on=\"SalesOrderID\", how=\"left\")\n",
    "sales_date.head()"
   ]
  },
  {
   "cell_type": "markdown",
   "metadata": {},
   "source": [
    "Crear columnas de año y mes:"
   ]
  },
  {
   "cell_type": "code",
   "execution_count": 150,
   "metadata": {},
   "outputs": [
    {
     "data": {
      "text/html": [
       "<div>\n",
       "<style scoped>\n",
       "    .dataframe tbody tr th:only-of-type {\n",
       "        vertical-align: middle;\n",
       "    }\n",
       "\n",
       "    .dataframe tbody tr th {\n",
       "        vertical-align: top;\n",
       "    }\n",
       "\n",
       "    .dataframe thead th {\n",
       "        text-align: right;\n",
       "    }\n",
       "</style>\n",
       "<table border=\"1\" class=\"dataframe\">\n",
       "  <thead>\n",
       "    <tr style=\"text-align: right;\">\n",
       "      <th></th>\n",
       "      <th>SalesOrderID</th>\n",
       "      <th>TotalDue</th>\n",
       "      <th>NumberofItems</th>\n",
       "      <th>OnlineOrderFlag</th>\n",
       "      <th>OrderDate</th>\n",
       "      <th>ShipDate</th>\n",
       "      <th>OrderYear</th>\n",
       "      <th>OrderYM</th>\n",
       "    </tr>\n",
       "  </thead>\n",
       "  <tbody>\n",
       "    <tr>\n",
       "      <th>0</th>\n",
       "      <td>43659</td>\n",
       "      <td>23153.2339</td>\n",
       "      <td>12</td>\n",
       "      <td>offline</td>\n",
       "      <td>2011-05-31</td>\n",
       "      <td>2011-06-07</td>\n",
       "      <td>2011</td>\n",
       "      <td>2011-05</td>\n",
       "    </tr>\n",
       "    <tr>\n",
       "      <th>1</th>\n",
       "      <td>43660</td>\n",
       "      <td>1457.3288</td>\n",
       "      <td>2</td>\n",
       "      <td>offline</td>\n",
       "      <td>2011-05-31</td>\n",
       "      <td>2011-06-07</td>\n",
       "      <td>2011</td>\n",
       "      <td>2011-05</td>\n",
       "    </tr>\n",
       "    <tr>\n",
       "      <th>2</th>\n",
       "      <td>43661</td>\n",
       "      <td>36865.8012</td>\n",
       "      <td>15</td>\n",
       "      <td>offline</td>\n",
       "      <td>2011-05-31</td>\n",
       "      <td>2011-06-07</td>\n",
       "      <td>2011</td>\n",
       "      <td>2011-05</td>\n",
       "    </tr>\n",
       "    <tr>\n",
       "      <th>3</th>\n",
       "      <td>43662</td>\n",
       "      <td>32474.9324</td>\n",
       "      <td>22</td>\n",
       "      <td>offline</td>\n",
       "      <td>2011-05-31</td>\n",
       "      <td>2011-06-07</td>\n",
       "      <td>2011</td>\n",
       "      <td>2011-05</td>\n",
       "    </tr>\n",
       "    <tr>\n",
       "      <th>4</th>\n",
       "      <td>43663</td>\n",
       "      <td>472.3108</td>\n",
       "      <td>1</td>\n",
       "      <td>offline</td>\n",
       "      <td>2011-05-31</td>\n",
       "      <td>2011-06-07</td>\n",
       "      <td>2011</td>\n",
       "      <td>2011-05</td>\n",
       "    </tr>\n",
       "  </tbody>\n",
       "</table>\n",
       "</div>"
      ],
      "text/plain": [
       "   SalesOrderID    TotalDue  NumberofItems OnlineOrderFlag  OrderDate  \\\n",
       "0         43659  23153.2339             12         offline 2011-05-31   \n",
       "1         43660   1457.3288              2         offline 2011-05-31   \n",
       "2         43661  36865.8012             15         offline 2011-05-31   \n",
       "3         43662  32474.9324             22         offline 2011-05-31   \n",
       "4         43663    472.3108              1         offline 2011-05-31   \n",
       "\n",
       "    ShipDate  OrderYear  OrderYM  \n",
       "0 2011-06-07       2011  2011-05  \n",
       "1 2011-06-07       2011  2011-05  \n",
       "2 2011-06-07       2011  2011-05  \n",
       "3 2011-06-07       2011  2011-05  \n",
       "4 2011-06-07       2011  2011-05  "
      ]
     },
     "execution_count": 150,
     "metadata": {},
     "output_type": "execute_result"
    }
   ],
   "source": [
    "sales_date[\"OrderYear\"] = sales_date[\"OrderDate\"].dt.year\n",
    "sales_date[\"OrderYM\"] = sales_date[\"OrderDate\"].dt.strftime(\"%Y-%m\")\n",
    "sales_date.head()"
   ]
  },
  {
   "cell_type": "markdown",
   "metadata": {},
   "source": [
    "Agrupar por año para extraer la ganancia:"
   ]
  },
  {
   "cell_type": "code",
   "execution_count": 151,
   "metadata": {
    "scrolled": true
   },
   "outputs": [
    {
     "data": {
      "text/html": [
       "<div>\n",
       "<style scoped>\n",
       "    .dataframe tbody tr th:only-of-type {\n",
       "        vertical-align: middle;\n",
       "    }\n",
       "\n",
       "    .dataframe tbody tr th {\n",
       "        vertical-align: top;\n",
       "    }\n",
       "\n",
       "    .dataframe thead th {\n",
       "        text-align: right;\n",
       "    }\n",
       "</style>\n",
       "<table border=\"1\" class=\"dataframe\">\n",
       "  <thead>\n",
       "    <tr style=\"text-align: right;\">\n",
       "      <th></th>\n",
       "      <th>OrderYear</th>\n",
       "      <th>SalesOrderID</th>\n",
       "      <th>TotalDue</th>\n",
       "      <th>NumberofItems</th>\n",
       "    </tr>\n",
       "  </thead>\n",
       "  <tbody>\n",
       "    <tr>\n",
       "      <th>0</th>\n",
       "      <td>2011</td>\n",
       "      <td>71450434</td>\n",
       "      <td>1.415570e+07</td>\n",
       "      <td>5716</td>\n",
       "    </tr>\n",
       "    <tr>\n",
       "      <th>1</th>\n",
       "      <td>2012</td>\n",
       "      <td>184878045</td>\n",
       "      <td>3.767570e+07</td>\n",
       "      <td>21689</td>\n",
       "    </tr>\n",
       "    <tr>\n",
       "      <th>2</th>\n",
       "      <td>2013</td>\n",
       "      <td>798042413</td>\n",
       "      <td>4.896589e+07</td>\n",
       "      <td>56573</td>\n",
       "    </tr>\n",
       "    <tr>\n",
       "      <th>3</th>\n",
       "      <td>2014</td>\n",
       "      <td>814366923</td>\n",
       "      <td>2.241950e+07</td>\n",
       "      <td>37339</td>\n",
       "    </tr>\n",
       "  </tbody>\n",
       "</table>\n",
       "</div>"
      ],
      "text/plain": [
       "   OrderYear  SalesOrderID      TotalDue  NumberofItems\n",
       "0       2011      71450434  1.415570e+07           5716\n",
       "1       2012     184878045  3.767570e+07          21689\n",
       "2       2013     798042413  4.896589e+07          56573\n",
       "3       2014     814366923  2.241950e+07          37339"
      ]
     },
     "execution_count": 151,
     "metadata": {},
     "output_type": "execute_result"
    }
   ],
   "source": [
    "# groupby\n",
    "sales_by_year = sales_date.groupby(\"OrderYear\").sum().reset_index()\n",
    "sales_by_year.head()"
   ]
  },
  {
   "cell_type": "markdown",
   "metadata": {},
   "source": [
    "### Visualización: gráfico de barras"
   ]
  },
  {
   "cell_type": "code",
   "execution_count": 158,
   "metadata": {},
   "outputs": [
    {
     "data": {
      "image/png": "[encoded data removed]",
      "text/plain": [
       "<Figure size 432x288 with 1 Axes>"
      ]
     },
     "metadata": {
      "needs_background": "light"
     },
     "output_type": "display_data"
    }
   ],
   "source": [
    "##ordenA=[\"2011\",\"2012\", \"2013\", \"2014\"]\n",
    "sns.barplot(x=\"OrderYear\", y=\"TotalDue\", data=sales_by_year)\n",
    "plt.xlabel(\"Años\")\n",
    "plt.ylabel(\"Ganancias ($USD)\")\n",
    "plt.title(\"Ganancias de ventas por año\")\n",
    "plt.show()"
   ]
  },
  {
   "cell_type": "markdown",
   "metadata": {},
   "source": [
    "### Visualización: gráfico de lineas"
   ]
  },
  {
   "cell_type": "code",
   "execution_count": 153,
   "metadata": {},
   "outputs": [
    {
     "data": {
      "text/html": [
       "<div>\n",
       "<style scoped>\n",
       "    .dataframe tbody tr th:only-of-type {\n",
       "        vertical-align: middle;\n",
       "    }\n",
       "\n",
       "    .dataframe tbody tr th {\n",
       "        vertical-align: top;\n",
       "    }\n",
       "\n",
       "    .dataframe thead th {\n",
       "        text-align: right;\n",
       "    }\n",
       "</style>\n",
       "<table border=\"1\" class=\"dataframe\">\n",
       "  <thead>\n",
       "    <tr style=\"text-align: right;\">\n",
       "      <th></th>\n",
       "      <th>OrderYM</th>\n",
       "      <th>SalesOrderID</th>\n",
       "      <th>TotalDue</th>\n",
       "      <th>NumberofItems</th>\n",
       "      <th>OrderYear</th>\n",
       "    </tr>\n",
       "  </thead>\n",
       "  <tbody>\n",
       "    <tr>\n",
       "      <th>0</th>\n",
       "      <td>2011-05</td>\n",
       "      <td>1878240</td>\n",
       "      <td>5.670209e+05</td>\n",
       "      <td>357</td>\n",
       "      <td>86473</td>\n",
       "    </tr>\n",
       "    <tr>\n",
       "      <th>1</th>\n",
       "      <td>2011-06</td>\n",
       "      <td>6171852</td>\n",
       "      <td>5.070965e+05</td>\n",
       "      <td>141</td>\n",
       "      <td>283551</td>\n",
       "    </tr>\n",
       "    <tr>\n",
       "      <th>2</th>\n",
       "      <td>2011-07</td>\n",
       "      <td>10154298</td>\n",
       "      <td>2.292183e+06</td>\n",
       "      <td>941</td>\n",
       "      <td>464541</td>\n",
       "    </tr>\n",
       "    <tr>\n",
       "      <th>3</th>\n",
       "      <td>2011-08</td>\n",
       "      <td>11049625</td>\n",
       "      <td>2.800576e+06</td>\n",
       "      <td>1242</td>\n",
       "      <td>502750</td>\n",
       "    </tr>\n",
       "    <tr>\n",
       "      <th>4</th>\n",
       "      <td>2011-09</td>\n",
       "      <td>6971114</td>\n",
       "      <td>5.547916e+05</td>\n",
       "      <td>157</td>\n",
       "      <td>315727</td>\n",
       "    </tr>\n",
       "  </tbody>\n",
       "</table>\n",
       "</div>"
      ],
      "text/plain": [
       "   OrderYM  SalesOrderID      TotalDue  NumberofItems  OrderYear\n",
       "0  2011-05       1878240  5.670209e+05            357      86473\n",
       "1  2011-06       6171852  5.070965e+05            141     283551\n",
       "2  2011-07      10154298  2.292183e+06            941     464541\n",
       "3  2011-08      11049625  2.800576e+06           1242     502750\n",
       "4  2011-09       6971114  5.547916e+05            157     315727"
      ]
     },
     "execution_count": 153,
     "metadata": {},
     "output_type": "execute_result"
    }
   ],
   "source": [
    "# groupby month\n",
    "sales_by_month = sales_date.groupby(\"OrderYM\").sum().reset_index()\n",
    "sales_by_month.head()"
   ]
  },
  {
   "cell_type": "code",
   "execution_count": 154,
   "metadata": {},
   "outputs": [
    {
     "data": {
      "text/html": [
       "<div>\n",
       "<style scoped>\n",
       "    .dataframe tbody tr th:only-of-type {\n",
       "        vertical-align: middle;\n",
       "    }\n",
       "\n",
       "    .dataframe tbody tr th {\n",
       "        vertical-align: top;\n",
       "    }\n",
       "\n",
       "    .dataframe thead th {\n",
       "        text-align: right;\n",
       "    }\n",
       "</style>\n",
       "<table border=\"1\" class=\"dataframe\">\n",
       "  <thead>\n",
       "    <tr style=\"text-align: right;\">\n",
       "      <th></th>\n",
       "      <th>SalesOrderID</th>\n",
       "      <th>TotalDue</th>\n",
       "      <th>NumberofItems</th>\n",
       "      <th>OrderYear</th>\n",
       "    </tr>\n",
       "  </thead>\n",
       "  <tbody>\n",
       "    <tr>\n",
       "      <th>count</th>\n",
       "      <td>3.800000e+01</td>\n",
       "      <td>3.800000e+01</td>\n",
       "      <td>38.000000</td>\n",
       "      <td>3.800000e+01</td>\n",
       "    </tr>\n",
       "    <tr>\n",
       "      <th>mean</th>\n",
       "      <td>4.917731e+07</td>\n",
       "      <td>3.242547e+06</td>\n",
       "      <td>3192.552632</td>\n",
       "      <td>1.666939e+06</td>\n",
       "    </tr>\n",
       "    <tr>\n",
       "      <th>std</th>\n",
       "      <td>5.370999e+07</td>\n",
       "      <td>1.787701e+06</td>\n",
       "      <td>2701.270409</td>\n",
       "      <td>1.604820e+06</td>\n",
       "    </tr>\n",
       "    <tr>\n",
       "      <th>min</th>\n",
       "      <td>1.878240e+06</td>\n",
       "      <td>5.415148e+04</td>\n",
       "      <td>141.000000</td>\n",
       "      <td>8.647300e+04</td>\n",
       "    </tr>\n",
       "    <tr>\n",
       "      <th>25%</th>\n",
       "      <td>1.358441e+07</td>\n",
       "      <td>2.013703e+06</td>\n",
       "      <td>1308.500000</td>\n",
       "      <td>5.774440e+05</td>\n",
       "    </tr>\n",
       "    <tr>\n",
       "      <th>50%</th>\n",
       "      <td>1.840129e+07</td>\n",
       "      <td>3.256598e+06</td>\n",
       "      <td>2053.500000</td>\n",
       "      <td>7.726080e+05</td>\n",
       "    </tr>\n",
       "    <tr>\n",
       "      <th>75%</th>\n",
       "      <td>9.616482e+07</td>\n",
       "      <td>4.535017e+06</td>\n",
       "      <td>5279.000000</td>\n",
       "      <td>3.528093e+06</td>\n",
       "    </tr>\n",
       "    <tr>\n",
       "      <th>max</th>\n",
       "      <td>1.759524e+08</td>\n",
       "      <td>8.097036e+06</td>\n",
       "      <td>9955.000000</td>\n",
       "      <td>4.855754e+06</td>\n",
       "    </tr>\n",
       "  </tbody>\n",
       "</table>\n",
       "</div>"
      ],
      "text/plain": [
       "       SalesOrderID      TotalDue  NumberofItems     OrderYear\n",
       "count  3.800000e+01  3.800000e+01      38.000000  3.800000e+01\n",
       "mean   4.917731e+07  3.242547e+06    3192.552632  1.666939e+06\n",
       "std    5.370999e+07  1.787701e+06    2701.270409  1.604820e+06\n",
       "min    1.878240e+06  5.415148e+04     141.000000  8.647300e+04\n",
       "25%    1.358441e+07  2.013703e+06    1308.500000  5.774440e+05\n",
       "50%    1.840129e+07  3.256598e+06    2053.500000  7.726080e+05\n",
       "75%    9.616482e+07  4.535017e+06    5279.000000  3.528093e+06\n",
       "max    1.759524e+08  8.097036e+06    9955.000000  4.855754e+06"
      ]
     },
     "execution_count": 154,
     "metadata": {},
     "output_type": "execute_result"
    }
   ],
   "source": [
    "sales_by_month.describe()"
   ]
  },
  {
   "cell_type": "code",
   "execution_count": 155,
   "metadata": {},
   "outputs": [
    {
     "name": "stdout",
     "output_type": "stream",
     "text": [
      "<class 'pandas.core.frame.DataFrame'>\n",
      "RangeIndex: 38 entries, 0 to 37\n",
      "Data columns (total 5 columns):\n",
      " #   Column         Non-Null Count  Dtype  \n",
      "---  ------         --------------  -----  \n",
      " 0   OrderYM        38 non-null     object \n",
      " 1   SalesOrderID   38 non-null     int64  \n",
      " 2   TotalDue       38 non-null     float64\n",
      " 3   NumberofItems  38 non-null     int64  \n",
      " 4   OrderYear      38 non-null     int64  \n",
      "dtypes: float64(1), int64(3), object(1)\n",
      "memory usage: 1.6+ KB\n"
     ]
    }
   ],
   "source": [
    "sales_by_month.info()"
   ]
  },
  {
   "cell_type": "code",
   "execution_count": 173,
   "metadata": {},
   "outputs": [],
   "source": [
    "font = {'family': 'Arial',\n",
    "        'color':  'steelblue',\n",
    "        'weight': 'bold',\n",
    "        'size': 18,\n",
    "        }"
   ]
  },
  {
   "cell_type": "code",
   "execution_count": 180,
   "metadata": {},
   "outputs": [
    {
     "data": {
      "image/png": "[encoded data removed]",
      "text/plain": [
       "<Figure size 1440x576 with 1 Axes>"
      ]
     },
     "metadata": {
      "needs_background": "light"
     },
     "output_type": "display_data"
    }
   ],
   "source": [
    "plt.figure(figsize=(20,8))\n",
    "sns.lineplot(x=\"OrderYM\", y=\"TotalDue\",data=sales_by_month)\n",
    "plt.xlabel(\"Meses\",fontsize = 12)\n",
    "plt.ylabel(\"Ganancias en Millones ($USD)\",fontsize = 12)\n",
    "plt.title(\"Ganancias de ventas a través de los meses\", fontdict = font)\n",
    "plt.xticks(rotation=45, fontsize = 12)\n",
    "plt.show()"
   ]
  },
  {
   "cell_type": "markdown",
   "metadata": {},
   "source": [
    "### Gráfico de pastel\n",
    "\n",
    "Canales de venta (OnlineOrderFlag)\n",
    "* offline\n",
    "* online\n",
    "\n",
    "Agrupar por la columna: OnlineOrderFlag"
   ]
  },
  {
   "cell_type": "code",
   "execution_count": 184,
   "metadata": {},
   "outputs": [
    {
     "data": {
      "text/html": [
       "<div>\n",
       "<style scoped>\n",
       "    .dataframe tbody tr th:only-of-type {\n",
       "        vertical-align: middle;\n",
       "    }\n",
       "\n",
       "    .dataframe tbody tr th {\n",
       "        vertical-align: top;\n",
       "    }\n",
       "\n",
       "    .dataframe thead th {\n",
       "        text-align: right;\n",
       "    }\n",
       "</style>\n",
       "<table border=\"1\" class=\"dataframe\">\n",
       "  <thead>\n",
       "    <tr style=\"text-align: right;\">\n",
       "      <th></th>\n",
       "      <th>OnlineOrderFlag</th>\n",
       "      <th>SalesOrderID</th>\n",
       "      <th>TotalDue</th>\n",
       "      <th>NumberofItems</th>\n",
       "      <th>OrderYear</th>\n",
       "    </tr>\n",
       "  </thead>\n",
       "  <tbody>\n",
       "    <tr>\n",
       "      <th>0</th>\n",
       "      <td>offline</td>\n",
       "      <td>204462343</td>\n",
       "      <td>9.077545e+07</td>\n",
       "      <td>60919</td>\n",
       "      <td>7660124</td>\n",
       "    </tr>\n",
       "    <tr>\n",
       "      <th>1</th>\n",
       "      <td>online</td>\n",
       "      <td>1664275472</td>\n",
       "      <td>3.244134e+07</td>\n",
       "      <td>60398</td>\n",
       "      <td>55683553</td>\n",
       "    </tr>\n",
       "  </tbody>\n",
       "</table>\n",
       "</div>"
      ],
      "text/plain": [
       "  OnlineOrderFlag  SalesOrderID      TotalDue  NumberofItems  OrderYear\n",
       "0         offline     204462343  9.077545e+07          60919    7660124\n",
       "1          online    1664275472  3.244134e+07          60398   55683553"
      ]
     },
     "execution_count": 184,
     "metadata": {},
     "output_type": "execute_result"
    }
   ],
   "source": [
    "sales_by_flag= sales_date.groupby(\"OnlineOrderFlag\").sum().reset_index() ## mejor con reset_index()\n",
    "sales_by_flag.head()"
   ]
  },
  {
   "cell_type": "code",
   "execution_count": 207,
   "metadata": {},
   "outputs": [
    {
     "data": {
      "image/png": "[encoded data removed]",
      "text/plain": [
       "<Figure size 432x432 with 1 Axes>"
      ]
     },
     "metadata": {},
     "output_type": "display_data"
    }
   ],
   "source": [
    "desfase = (0, 0.06)\n",
    "colores_hex = [\"#EE6055\",\"#60D394\",\"#AAF683\",\"#FFD97D\",\"#FF9B85\"]\n",
    "plt.figure(figsize=(6,6))\n",
    "plt.pie(sales_by_flag[\"TotalDue\"], labels=sales_by_flag[\"OnlineOrderFlag\"], autopct=\"%0.1f %%\", colors=colores_hex, explode=desfase)\n",
    "plt.axis(\"equal\")\n",
    "plt.show()"
   ]
  },
  {
   "cell_type": "markdown",
   "metadata": {},
   "source": [
    "### Gráfico de dona\n",
    "\n",
    "Canales de venta (OnlineOrderFlag)\n",
    "* offline\n",
    "* online\n",
    "\n",
    "Agrupar por la columna: OnlineOrderFlag"
   ]
  },
  {
   "cell_type": "code",
   "execution_count": 214,
   "metadata": {},
   "outputs": [
    {
     "data": {
      "image/png": "[encoded data removed]",
      "text/plain": [
       "<Figure size 432x432 with 1 Axes>"
      ]
     },
     "metadata": {},
     "output_type": "display_data"
    }
   ],
   "source": [
    "plt.figure(figsize=(6,6))\n",
    "plt.pie(sales_by_flag[\"TotalDue\"], labels=sales_by_flag[\"OnlineOrderFlag\"], autopct=\"%0.1f %%\")\n",
    "\n",
    "##añadir un circulo blanco encima\n",
    "circuloBlanco=plt.Circle( (0,0), 0.7, color=\"white\")\n",
    "p=plt.gcf()\n",
    "p.gca().add_artist(circuloBlanco)\n",
    "\n",
    "plt.axis(\"equal\")\n",
    "plt.title(\"Ventas Online vs Offline\", fontsize=16, weight=\"bold\")\n",
    "plt.show()"
   ]
  },
  {
   "cell_type": "markdown",
   "metadata": {},
   "source": [
    "#### Ejercicio en clase #1\n",
    "\n",
    "Hacer gráfico de barras mostrando las ventas Online vs Offline."
   ]
  },
  {
   "cell_type": "code",
   "execution_count": null,
   "metadata": {},
   "outputs": [],
   "source": []
  },
  {
   "cell_type": "markdown",
   "metadata": {},
   "source": [
    "#### Ejercicio en clase #2\n",
    "\n",
    "Hacer gráfico de barras mostrando la Cantidad de pedidos por año."
   ]
  },
  {
   "cell_type": "code",
   "execution_count": null,
   "metadata": {},
   "outputs": [],
   "source": []
  },
  {
   "cell_type": "markdown",
   "metadata": {},
   "source": [
    "### Gráfico de barras\n",
    "Channel  type: \n",
    "* B2B\n",
    "* B2C\n",
    "Primero agrupar por ChannelType para tener los datos del gráfico:\n"
   ]
  },
  {
   "cell_type": "code",
   "execution_count": 219,
   "metadata": {},
   "outputs": [
    {
     "data": {
      "text/html": [
       "<div>\n",
       "<style scoped>\n",
       "    .dataframe tbody tr th:only-of-type {\n",
       "        vertical-align: middle;\n",
       "    }\n",
       "\n",
       "    .dataframe tbody tr th {\n",
       "        vertical-align: top;\n",
       "    }\n",
       "\n",
       "    .dataframe thead th {\n",
       "        text-align: right;\n",
       "    }\n",
       "</style>\n",
       "<table border=\"1\" class=\"dataframe\">\n",
       "  <thead>\n",
       "    <tr style=\"text-align: right;\">\n",
       "      <th></th>\n",
       "      <th>SalesOrderID</th>\n",
       "      <th>CustomerFirstName</th>\n",
       "      <th>CustomerLastName</th>\n",
       "      <th>EmployeeFirstName</th>\n",
       "      <th>EmployeeLastName</th>\n",
       "      <th>ChannelType</th>\n",
       "      <th>Fullname</th>\n",
       "    </tr>\n",
       "  </thead>\n",
       "  <tbody>\n",
       "    <tr>\n",
       "      <th>0</th>\n",
       "      <td>43659</td>\n",
       "      <td>NaN</td>\n",
       "      <td>NaN</td>\n",
       "      <td>Tsvi</td>\n",
       "      <td>Reiter</td>\n",
       "      <td>B2B</td>\n",
       "      <td>Tsvi Reiter</td>\n",
       "    </tr>\n",
       "    <tr>\n",
       "      <th>1</th>\n",
       "      <td>43660</td>\n",
       "      <td>NaN</td>\n",
       "      <td>NaN</td>\n",
       "      <td>Tsvi</td>\n",
       "      <td>Reiter</td>\n",
       "      <td>B2B</td>\n",
       "      <td>Tsvi Reiter</td>\n",
       "    </tr>\n",
       "  </tbody>\n",
       "</table>\n",
       "</div>"
      ],
      "text/plain": [
       "   SalesOrderID CustomerFirstName CustomerLastName EmployeeFirstName  \\\n",
       "0         43659               NaN              NaN              Tsvi   \n",
       "1         43660               NaN              NaN              Tsvi   \n",
       "\n",
       "  EmployeeLastName ChannelType     Fullname  \n",
       "0           Reiter         B2B  Tsvi Reiter  \n",
       "1           Reiter         B2B  Tsvi Reiter  "
      ]
     },
     "execution_count": 219,
     "metadata": {},
     "output_type": "execute_result"
    }
   ],
   "source": [
    "customers.head(2)"
   ]
  },
  {
   "cell_type": "code",
   "execution_count": 221,
   "metadata": {},
   "outputs": [
    {
     "data": {
      "text/html": [
       "<div>\n",
       "<style scoped>\n",
       "    .dataframe tbody tr th:only-of-type {\n",
       "        vertical-align: middle;\n",
       "    }\n",
       "\n",
       "    .dataframe tbody tr th {\n",
       "        vertical-align: top;\n",
       "    }\n",
       "\n",
       "    .dataframe thead th {\n",
       "        text-align: right;\n",
       "    }\n",
       "</style>\n",
       "<table border=\"1\" class=\"dataframe\">\n",
       "  <thead>\n",
       "    <tr style=\"text-align: right;\">\n",
       "      <th></th>\n",
       "      <th>SalesOrderID</th>\n",
       "      <th>TotalDue</th>\n",
       "      <th>NumberofItems</th>\n",
       "      <th>OnlineOrderFlag</th>\n",
       "      <th>CustomerFirstName</th>\n",
       "      <th>CustomerLastName</th>\n",
       "      <th>EmployeeFirstName</th>\n",
       "      <th>EmployeeLastName</th>\n",
       "      <th>ChannelType</th>\n",
       "      <th>Fullname</th>\n",
       "    </tr>\n",
       "  </thead>\n",
       "  <tbody>\n",
       "    <tr>\n",
       "      <th>0</th>\n",
       "      <td>43659</td>\n",
       "      <td>23153.2339</td>\n",
       "      <td>12</td>\n",
       "      <td>offline</td>\n",
       "      <td>NaN</td>\n",
       "      <td>NaN</td>\n",
       "      <td>Tsvi</td>\n",
       "      <td>Reiter</td>\n",
       "      <td>B2B</td>\n",
       "      <td>Tsvi Reiter</td>\n",
       "    </tr>\n",
       "    <tr>\n",
       "      <th>1</th>\n",
       "      <td>43660</td>\n",
       "      <td>1457.3288</td>\n",
       "      <td>2</td>\n",
       "      <td>offline</td>\n",
       "      <td>NaN</td>\n",
       "      <td>NaN</td>\n",
       "      <td>Tsvi</td>\n",
       "      <td>Reiter</td>\n",
       "      <td>B2B</td>\n",
       "      <td>Tsvi Reiter</td>\n",
       "    </tr>\n",
       "    <tr>\n",
       "      <th>2</th>\n",
       "      <td>43661</td>\n",
       "      <td>36865.8012</td>\n",
       "      <td>15</td>\n",
       "      <td>offline</td>\n",
       "      <td>NaN</td>\n",
       "      <td>NaN</td>\n",
       "      <td>José</td>\n",
       "      <td>Saraiva</td>\n",
       "      <td>B2B</td>\n",
       "      <td>José Saraiva</td>\n",
       "    </tr>\n",
       "    <tr>\n",
       "      <th>3</th>\n",
       "      <td>43662</td>\n",
       "      <td>32474.9324</td>\n",
       "      <td>22</td>\n",
       "      <td>offline</td>\n",
       "      <td>NaN</td>\n",
       "      <td>NaN</td>\n",
       "      <td>José</td>\n",
       "      <td>Saraiva</td>\n",
       "      <td>B2B</td>\n",
       "      <td>José Saraiva</td>\n",
       "    </tr>\n",
       "    <tr>\n",
       "      <th>4</th>\n",
       "      <td>43663</td>\n",
       "      <td>472.3108</td>\n",
       "      <td>1</td>\n",
       "      <td>offline</td>\n",
       "      <td>NaN</td>\n",
       "      <td>NaN</td>\n",
       "      <td>Linda</td>\n",
       "      <td>Mitchell</td>\n",
       "      <td>B2B</td>\n",
       "      <td>Linda Mitchell</td>\n",
       "    </tr>\n",
       "  </tbody>\n",
       "</table>\n",
       "</div>"
      ],
      "text/plain": [
       "   SalesOrderID    TotalDue  NumberofItems OnlineOrderFlag CustomerFirstName  \\\n",
       "0         43659  23153.2339             12         offline               NaN   \n",
       "1         43660   1457.3288              2         offline               NaN   \n",
       "2         43661  36865.8012             15         offline               NaN   \n",
       "3         43662  32474.9324             22         offline               NaN   \n",
       "4         43663    472.3108              1         offline               NaN   \n",
       "\n",
       "  CustomerLastName EmployeeFirstName EmployeeLastName ChannelType  \\\n",
       "0              NaN              Tsvi           Reiter         B2B   \n",
       "1              NaN              Tsvi           Reiter         B2B   \n",
       "2              NaN              José          Saraiva         B2B   \n",
       "3              NaN              José          Saraiva         B2B   \n",
       "4              NaN             Linda         Mitchell         B2B   \n",
       "\n",
       "         Fullname  \n",
       "0     Tsvi Reiter  \n",
       "1     Tsvi Reiter  \n",
       "2    José Saraiva  \n",
       "3    José Saraiva  \n",
       "4  Linda Mitchell  "
      ]
     },
     "execution_count": 221,
     "metadata": {},
     "output_type": "execute_result"
    }
   ],
   "source": [
    "sales_customers= sales.merge(customers, on=\"SalesOrderID\", how=\"left\")\n",
    "sales_customers.head()"
   ]
  },
  {
   "cell_type": "code",
   "execution_count": 223,
   "metadata": {},
   "outputs": [
    {
     "data": {
      "text/html": [
       "<div>\n",
       "<style scoped>\n",
       "    .dataframe tbody tr th:only-of-type {\n",
       "        vertical-align: middle;\n",
       "    }\n",
       "\n",
       "    .dataframe tbody tr th {\n",
       "        vertical-align: top;\n",
       "    }\n",
       "\n",
       "    .dataframe thead th {\n",
       "        text-align: right;\n",
       "    }\n",
       "</style>\n",
       "<table border=\"1\" class=\"dataframe\">\n",
       "  <thead>\n",
       "    <tr style=\"text-align: right;\">\n",
       "      <th></th>\n",
       "      <th>ChannelType</th>\n",
       "      <th>SalesOrderID</th>\n",
       "      <th>TotalDue</th>\n",
       "      <th>NumberofItems</th>\n",
       "    </tr>\n",
       "  </thead>\n",
       "  <tbody>\n",
       "    <tr>\n",
       "      <th>0</th>\n",
       "      <td>B2B</td>\n",
       "      <td>204462343</td>\n",
       "      <td>9.077545e+07</td>\n",
       "      <td>60919</td>\n",
       "    </tr>\n",
       "    <tr>\n",
       "      <th>1</th>\n",
       "      <td>B2C</td>\n",
       "      <td>1664275472</td>\n",
       "      <td>3.244134e+07</td>\n",
       "      <td>60398</td>\n",
       "    </tr>\n",
       "  </tbody>\n",
       "</table>\n",
       "</div>"
      ],
      "text/plain": [
       "  ChannelType  SalesOrderID      TotalDue  NumberofItems\n",
       "0         B2B     204462343  9.077545e+07          60919\n",
       "1         B2C    1664275472  3.244134e+07          60398"
      ]
     },
     "execution_count": 223,
     "metadata": {},
     "output_type": "execute_result"
    }
   ],
   "source": [
    "sales_by_channel= sales_customers.groupby(\"ChannelType\").sum().reset_index()\n",
    "sales_by_channel.head()"
   ]
  },
  {
   "cell_type": "code",
   "execution_count": 246,
   "metadata": {},
   "outputs": [
    {
     "data": {
      "image/png": "[encoded data removed]",
      "text/plain": [
       "<Figure size 432x288 with 1 Axes>"
      ]
     },
     "metadata": {
      "needs_background": "light"
     },
     "output_type": "display_data"
    }
   ],
   "source": [
    "## función barplot de seaborn\n",
    "\n",
    "sns.barplot(data=sales_by_channel, x=\"TotalDue\", y=\"ChannelType\", palette=\"Reds\")\n",
    "# pastel, dark, deep, bright, colorblind, muted\n",
    "# variaciones de 1 solo color: Greens, Blues_d, Purples, \n",
    "\n",
    "plt.xlabel(\"Ganancias en Millones ($USD)\")\n",
    "plt.ylabel(\"Canal de venta\")\n",
    "plt.title(\"Ganancias por canal de venta\",fontsize=16, weight=\"bold\")\n",
    "\n",
    "plt.show()"
   ]
  },
  {
   "cell_type": "code",
   "execution_count": null,
   "metadata": {},
   "outputs": [],
   "source": []
  },
  {
   "cell_type": "code",
   "execution_count": null,
   "metadata": {},
   "outputs": [],
   "source": []
  },
  {
   "cell_type": "code",
   "execution_count": null,
   "metadata": {},
   "outputs": [],
   "source": []
  }
 ],
 "metadata": {
  "kernelspec": {
   "display_name": "Python 3",
   "language": "python",
   "name": "python3"
  },
  "language_info": {
   "codemirror_mode": {
    "name": "ipython",
    "version": 3
   },
   "file_extension": ".py",
   "mimetype": "text/x-python",
   "name": "python",
   "nbconvert_exporter": "python",
   "pygments_lexer": "ipython3",
   "version": "3.8.3"
  }
 },
 "nbformat": 4,
 "nbformat_minor": 4
}
