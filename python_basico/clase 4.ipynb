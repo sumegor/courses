{
 "cells": [
  {
   "cell_type": "markdown",
   "metadata": {},
   "source": [
    "# Clase 4: funciones"
   ]
  },
  {
   "cell_type": "code",
   "execution_count": 2,
   "metadata": {},
   "outputs": [],
   "source": [
    "def pedir_numero():\n",
    "    while True:\n",
    "        try:\n",
    "            x=int(input(\"Por favor ingrese un numero: \"))\n",
    "            break\n",
    "        except ValueError:\n",
    "            print(\"Error!! x_x\")\n",
    "        finally:\n",
    "            print(\"Terminando el programa... bye!\")"
   ]
  },
  {
   "cell_type": "code",
   "execution_count": 3,
   "metadata": {},
   "outputs": [
    {
     "name": "stdout",
     "output_type": "stream",
     "text": [
      "Por favor ingrese un numero: er223\n",
      "Error!! x_x\n",
      "Terminando el programa... bye!\n",
      "Por favor ingrese un numero: 222\n",
      "Terminando el programa... bye!\n"
     ]
    }
   ],
   "source": [
    "pedir_numero()"
   ]
  },
  {
   "cell_type": "code",
   "execution_count": 4,
   "metadata": {},
   "outputs": [],
   "source": [
    "def pedir_numero_v1():\n",
    "    while True:\n",
    "        e=input(\"Por favor ingrese un numero entre \"+str(0)+\" y \"+str(10)+\": \")\n",
    "        try:\n",
    "            e=int(e)\n",
    "        except ValueError:\n",
    "            print(\"Error!! x_x\")\n",
    "        else:\n",
    "            if 0 <= e <= 10:\n",
    "                break\n",
    "        finally:\n",
    "            print(\"Terminando el programa... bye!\")"
   ]
  },
  {
   "cell_type": "code",
   "execution_count": 5,
   "metadata": {},
   "outputs": [
    {
     "name": "stdout",
     "output_type": "stream",
     "text": [
      "Por favor ingrese un numero entre 0 y 10: 2000\n",
      "Terminando el programa... bye!\n",
      "Por favor ingrese un numero entre 0 y 10: 2324\n",
      "Terminando el programa... bye!\n",
      "Por favor ingrese un numero entre 0 y 10: -43434\n",
      "Terminando el programa... bye!\n",
      "Por favor ingrese un numero entre 0 y 10: -033423\n",
      "Terminando el programa... bye!\n",
      "Por favor ingrese un numero entre 0 y 10: 3\n",
      "Terminando el programa... bye!\n"
     ]
    }
   ],
   "source": [
    "pedir_numero_v1()"
   ]
  },
  {
   "cell_type": "markdown",
   "metadata": {},
   "source": [
    "## Parametrizando funciones"
   ]
  },
  {
   "cell_type": "code",
   "execution_count": 6,
   "metadata": {},
   "outputs": [],
   "source": [
    "def pedir_numero_v3(n1, n2):\n",
    "    while True:\n",
    "        e=input(\"Por favor ingrese un numero entre \"+str(n1)+\" y \"+str(n2)+\": \")\n",
    "        try:\n",
    "            e=int(e)\n",
    "        except ValueError:\n",
    "            print(\"Error!! x_x\")\n",
    "        else:\n",
    "            if n1 <= e <= n2:\n",
    "                break\n",
    "        finally:\n",
    "            print(\"Terminando el programa... bye!\")"
   ]
  },
  {
   "cell_type": "code",
   "execution_count": 7,
   "metadata": {},
   "outputs": [
    {
     "ename": "TypeError",
     "evalue": "pedir_numero_v3() missing 2 required positional arguments: 'n1' and 'n2'",
     "output_type": "error",
     "traceback": [
      "\u001b[1;31m---------------------------------------------------------------------------\u001b[0m",
      "\u001b[1;31mTypeError\u001b[0m                                 Traceback (most recent call last)",
      "\u001b[1;32m<ipython-input-7-41c83a354007>\u001b[0m in \u001b[0;36m<module>\u001b[1;34m\u001b[0m\n\u001b[1;32m----> 1\u001b[1;33m \u001b[0mpedir_numero_v3\u001b[0m\u001b[1;33m(\u001b[0m\u001b[1;33m)\u001b[0m\u001b[1;33m\u001b[0m\u001b[1;33m\u001b[0m\u001b[0m\n\u001b[0m",
      "\u001b[1;31mTypeError\u001b[0m: pedir_numero_v3() missing 2 required positional arguments: 'n1' and 'n2'"
     ]
    }
   ],
   "source": [
    "pedir_numero_v3()"
   ]
  },
  {
   "cell_type": "code",
   "execution_count": 9,
   "metadata": {},
   "outputs": [
    {
     "name": "stdout",
     "output_type": "stream",
     "text": [
      "Por favor ingrese un numero entre 1 y 10: 10\n",
      "Terminando el programa... bye!\n"
     ]
    }
   ],
   "source": [
    "pedir_numero_v3(1,10)"
   ]
  },
  {
   "cell_type": "code",
   "execution_count": 10,
   "metadata": {},
   "outputs": [
    {
     "name": "stdout",
     "output_type": "stream",
     "text": [
      "Por favor ingrese un numero entre 55 y 6900: 50\n",
      "Terminando el programa... bye!\n",
      "Por favor ingrese un numero entre 55 y 6900: 40\n",
      "Terminando el programa... bye!\n",
      "Por favor ingrese un numero entre 55 y 6900: 700\n",
      "Terminando el programa... bye!\n"
     ]
    }
   ],
   "source": [
    "pedir_numero_v3(55, 6900)"
   ]
  },
  {
   "cell_type": "markdown",
   "metadata": {},
   "source": [
    "## Parametros con Valores por defecto"
   ]
  },
  {
   "cell_type": "code",
   "execution_count": 12,
   "metadata": {},
   "outputs": [],
   "source": [
    "def pedir_numero_v4(n1=0, n2=100):\n",
    "    while True:\n",
    "        e=input(\"Por favor ingrese un numero entre \"+str(n1)+\" y \"+str(n2)+\": \")\n",
    "        try:\n",
    "            e=int(e)\n",
    "        except ValueError:\n",
    "            print(\"Error!! x_x\")\n",
    "        else:\n",
    "            if n1 <= e <= n2:\n",
    "                break\n",
    "        finally:\n",
    "            print(\"Terminando el programa... bye!\")"
   ]
  },
  {
   "cell_type": "code",
   "execution_count": 13,
   "metadata": {},
   "outputs": [
    {
     "name": "stdout",
     "output_type": "stream",
     "text": [
      "Por favor ingrese un numero entre 0 y 100: 1\n",
      "Terminando el programa... bye!\n"
     ]
    }
   ],
   "source": [
    "pedir_numero_v4()"
   ]
  },
  {
   "cell_type": "code",
   "execution_count": 14,
   "metadata": {},
   "outputs": [
    {
     "name": "stdout",
     "output_type": "stream",
     "text": [
      "Por favor ingrese un numero entre 2 y 20: 12\n",
      "Terminando el programa... bye!\n"
     ]
    }
   ],
   "source": [
    "pedir_numero_v4(2, 20)"
   ]
  },
  {
   "cell_type": "code",
   "execution_count": 15,
   "metadata": {},
   "outputs": [
    {
     "name": "stdout",
     "output_type": "stream",
     "text": [
      "Por favor ingrese un numero entre 3 y 100: 70\n",
      "Terminando el programa... bye!\n"
     ]
    }
   ],
   "source": [
    "pedir_numero_v4(3)"
   ]
  },
  {
   "cell_type": "code",
   "execution_count": 16,
   "metadata": {},
   "outputs": [
    {
     "ename": "SyntaxError",
     "evalue": "invalid syntax (<ipython-input-16-da2c112a3721>, line 1)",
     "output_type": "error",
     "traceback": [
      "\u001b[1;36m  File \u001b[1;32m\"<ipython-input-16-da2c112a3721>\"\u001b[1;36m, line \u001b[1;32m1\u001b[0m\n\u001b[1;33m    pedir_numero_v4(,30)\u001b[0m\n\u001b[1;37m                    ^\u001b[0m\n\u001b[1;31mSyntaxError\u001b[0m\u001b[1;31m:\u001b[0m invalid syntax\n"
     ]
    }
   ],
   "source": [
    "pedir_numero_v4(,30)"
   ]
  },
  {
   "cell_type": "code",
   "execution_count": 23,
   "metadata": {},
   "outputs": [],
   "source": [
    "def pedir_numero_v5(n1=0, n2=100):\n",
    "    while True:\n",
    "        e=input(\"Por favor ingrese un numero entre \"+str(n1)+\" y \"+str(n2)+\": \")\n",
    "        try:\n",
    "            e=int(e)\n",
    "        except ValueError:\n",
    "            print(\"Error!! x_x\")\n",
    "        else:\n",
    "            if n1 <= e <= n2:\n",
    "                break\n",
    "    return e"
   ]
  },
  {
   "cell_type": "code",
   "execution_count": 18,
   "metadata": {},
   "outputs": [
    {
     "name": "stdout",
     "output_type": "stream",
     "text": [
      "Por favor ingrese un numero entre 0 y 100: 4\n",
      "Terminando el programa... bye!\n"
     ]
    },
    {
     "data": {
      "text/plain": [
       "4"
      ]
     },
     "execution_count": 18,
     "metadata": {},
     "output_type": "execute_result"
    }
   ],
   "source": [
    "pedir_numero_v5()"
   ]
  },
  {
   "cell_type": "markdown",
   "metadata": {},
   "source": [
    "Juego usando funciones"
   ]
  },
  {
   "cell_type": "code",
   "execution_count": 21,
   "metadata": {},
   "outputs": [],
   "source": [
    "def jugar(num1, num2):\n",
    "    ##pedir numero\n",
    "    print(\"*************** Juego Adivina el numero!!!! ******************\")\n",
    "    n= pedir_numero_v5(num1, num2)\n",
    "    \n",
    "    ##adivina el numero\n",
    "    print(\"*************** Intente adivinar el numero ... ***************\")\n",
    "    ##la funcion adivinar()\n",
    "    while True:\n",
    "        intento= pedir_numero_v5(num1, num2)\n",
    "        if intento < n:\n",
    "            print(\"numero muy pequeno\")\n",
    "        elif intento > n: \n",
    "            print(\"numero muy grande\")\n",
    "        else:\n",
    "            print(\"Ganó! ^_^ \")\n",
    "            break   \n",
    "    "
   ]
  },
  {
   "cell_type": "code",
   "execution_count": 20,
   "metadata": {},
   "outputs": [
    {
     "name": "stdout",
     "output_type": "stream",
     "text": [
      "Por favor ingrese un numero entre 0 y 10: 2\n",
      "Terminando el programa... bye!\n",
      "Por favor ingrese un numero entre 0 y 10: 3\n",
      "Terminando el programa... bye!\n",
      "numero muy grande\n",
      "Por favor ingrese un numero entre 0 y 10: 5\n",
      "Terminando el programa... bye!\n",
      "numero muy grande\n",
      "Por favor ingrese un numero entre 0 y 10: 7\n",
      "Terminando el programa... bye!\n",
      "numero muy grande\n",
      "Por favor ingrese un numero entre 0 y 10: 1\n",
      "Terminando el programa... bye!\n",
      "numero muy pequeno\n",
      "Por favor ingrese un numero entre 0 y 10: 2\n",
      "Terminando el programa... bye!\n",
      "Ganó! ^_^ \n"
     ]
    }
   ],
   "source": [
    "jugar(0,10)"
   ]
  },
  {
   "cell_type": "code",
   "execution_count": 22,
   "metadata": {},
   "outputs": [
    {
     "name": "stdout",
     "output_type": "stream",
     "text": [
      "*************** Juego Adivina el numero!!!! ******************\n",
      "Por favor ingrese un numero entre 0 y 100: 44\n",
      "Terminando el programa... bye!\n",
      "*************** Intente adivinar el numero ... ***************\n",
      "Por favor ingrese un numero entre 0 y 100: 23\n",
      "Terminando el programa... bye!\n",
      "numero muy pequeno\n",
      "Por favor ingrese un numero entre 0 y 100: 50\n",
      "Terminando el programa... bye!\n",
      "numero muy grande\n",
      "Por favor ingrese un numero entre 0 y 100: 40\n",
      "Terminando el programa... bye!\n",
      "numero muy pequeno\n",
      "Por favor ingrese un numero entre 0 y 100: 42\n",
      "Terminando el programa... bye!\n",
      "numero muy pequeno\n",
      "Por favor ingrese un numero entre 0 y 100: 44\n",
      "Terminando el programa... bye!\n",
      "Ganó! ^_^ \n"
     ]
    }
   ],
   "source": [
    "jugar(0,100)"
   ]
  },
  {
   "cell_type": "code",
   "execution_count": 26,
   "metadata": {},
   "outputs": [],
   "source": [
    "def adivinar(n, num1, num2 ):\n",
    "    ## n es el numero a adivinar\n",
    "    ## intento lo ingreso el usuario que esta jugando\n",
    "    ## num1 rango inferior\n",
    "    ## num2 rango superior\n",
    "     while True:\n",
    "        intento= pedir_numero_v5(num1, num2)\n",
    "        if intento < n:\n",
    "            print(\"numero muy pequeno\")\n",
    "        elif intento > n: \n",
    "            print(\"numero muy grande\")\n",
    "        else:\n",
    "            print(\"Ganó! ^_^ \")\n",
    "            break   "
   ]
  },
  {
   "cell_type": "code",
   "execution_count": 27,
   "metadata": {},
   "outputs": [],
   "source": [
    "def jugar(num1, num2):\n",
    "    ##pedir numero\n",
    "    print(\"*************** Juego Adivina el numero!!!! ******************\")\n",
    "    n= pedir_numero_v5(num1, num2)\n",
    "    \n",
    "    ##adivina el numero\n",
    "    print(\"*************** Intente adivinar el numero ... ***************\")\n",
    "    ##la funcion adivinar()\n",
    "    adivinar(n, num1, num2)\n",
    "    print(\"Fin del juego!! Vuelve pronto!!\")\n"
   ]
  },
  {
   "cell_type": "code",
   "execution_count": 28,
   "metadata": {},
   "outputs": [
    {
     "name": "stdout",
     "output_type": "stream",
     "text": [
      "*************** Juego Adivina el numero!!!! ******************\n",
      "Por favor ingrese un numero entre 0 y 15: 11\n",
      "*************** Intente adivinar el numero ... ***************\n",
      "Por favor ingrese un numero entre 0 y 15: 2\n",
      "numero muy pequeno\n",
      "Por favor ingrese un numero entre 0 y 15: 5\n",
      "numero muy pequeno\n",
      "Por favor ingrese un numero entre 0 y 15: 8\n",
      "numero muy pequeno\n",
      "Por favor ingrese un numero entre 0 y 15: 10\n",
      "numero muy pequeno\n",
      "Por favor ingrese un numero entre 0 y 15: 14\n",
      "numero muy grande\n",
      "Por favor ingrese un numero entre 0 y 15: 12\n",
      "numero muy grande\n",
      "Por favor ingrese un numero entre 0 y 15: 11\n",
      "Ganó! ^_^ \n",
      "Fin del juego!! Vuelve pronto!!\n"
     ]
    }
   ],
   "source": [
    "jugar(0, 15)"
   ]
  },
  {
   "cell_type": "markdown",
   "metadata": {},
   "source": [
    "## Funciones iterativas"
   ]
  },
  {
   "cell_type": "code",
   "execution_count": 29,
   "metadata": {},
   "outputs": [],
   "source": [
    "def fibonacci(n):\n",
    "    resultado=[]\n",
    "    a, b = 0, 1 \n",
    "    while a < n:\n",
    "        resultado.append(a)\n",
    "        a , b = b, a + b\n",
    "    return resultado"
   ]
  },
  {
   "cell_type": "code",
   "execution_count": 30,
   "metadata": {},
   "outputs": [
    {
     "data": {
      "text/plain": [
       "[0, 1, 1, 2, 3]"
      ]
     },
     "execution_count": 30,
     "metadata": {},
     "output_type": "execute_result"
    }
   ],
   "source": [
    "fibonacci(4)"
   ]
  },
  {
   "cell_type": "code",
   "execution_count": 31,
   "metadata": {},
   "outputs": [
    {
     "data": {
      "text/plain": [
       "[0, 1, 1, 2, 3, 5, 8, 13, 21]"
      ]
     },
     "execution_count": 31,
     "metadata": {},
     "output_type": "execute_result"
    }
   ],
   "source": [
    "fibonacci(22)"
   ]
  },
  {
   "cell_type": "code",
   "execution_count": 32,
   "metadata": {},
   "outputs": [
    {
     "data": {
      "text/plain": [
       "[0, 1, 1, 2, 3, 5, 8, 13, 21, 34, 55, 89, 144]"
      ]
     },
     "execution_count": 32,
     "metadata": {},
     "output_type": "execute_result"
    }
   ],
   "source": [
    "fibonacci(200)"
   ]
  },
  {
   "cell_type": "code",
   "execution_count": 34,
   "metadata": {},
   "outputs": [
    {
     "name": "stdout",
     "output_type": "stream",
     "text": [
      "[144, 89, 55, 34, 21, 13, 8, 5, 3, 2, 1, 1, 0]\n"
     ]
    }
   ],
   "source": [
    "fib200=fibonacci(200)\n",
    "fib200.reverse()\n",
    "print(fib200)"
   ]
  },
  {
   "cell_type": "markdown",
   "metadata": {},
   "source": [
    "## Funciones recursivas"
   ]
  },
  {
   "cell_type": "code",
   "execution_count": 35,
   "metadata": {},
   "outputs": [],
   "source": [
    "def cuenta_regresiva(n):\n",
    "    n = n-1\n",
    "    if n > 0:\n",
    "        print(n)\n",
    "        cuenta_regresiva(n)\n",
    "    if n==0:\n",
    "        print(\"********** Kaboom ************\")\n",
    "    print(\"Fin de la funcion -------> \",n)\n",
    "            "
   ]
  },
  {
   "cell_type": "code",
   "execution_count": 36,
   "metadata": {},
   "outputs": [
    {
     "name": "stdout",
     "output_type": "stream",
     "text": [
      "4\n",
      "3\n",
      "2\n",
      "1\n",
      "********** Kaboom ************\n",
      "Fin de la funcion ------->  0\n",
      "Fin de la funcion ------->  1\n",
      "Fin de la funcion ------->  2\n",
      "Fin de la funcion ------->  3\n",
      "Fin de la funcion ------->  4\n"
     ]
    }
   ],
   "source": [
    "cuenta_regresiva(5)"
   ]
  },
  {
   "cell_type": "code",
   "execution_count": null,
   "metadata": {},
   "outputs": [],
   "source": []
  }
 ],
 "metadata": {
  "kernelspec": {
   "display_name": "Python 3",
   "language": "python",
   "name": "python3"
  },
  "language_info": {
   "codemirror_mode": {
    "name": "ipython",
    "version": 3
   },
   "file_extension": ".py",
   "mimetype": "text/x-python",
   "name": "python",
   "nbconvert_exporter": "python",
   "pygments_lexer": "ipython3",
   "version": "3.8.3"
  }
 },
 "nbformat": 4,
 "nbformat_minor": 4
}
