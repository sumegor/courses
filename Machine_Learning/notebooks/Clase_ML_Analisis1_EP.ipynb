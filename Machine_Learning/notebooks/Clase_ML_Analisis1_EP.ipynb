{
  "nbformat": 4,
  "nbformat_minor": 0,
  "metadata": {
    "colab": {
      "provenance": [],
      "toc_visible": true
    },
    "kernelspec": {
      "name": "python3",
      "display_name": "Python 3"
    },
    "language_info": {
      "name": "python"
    }
  },
  "cells": [
    {
      "cell_type": "markdown",
      "source": [
        "**NOMBRE COMPLETO:**\n",
        "\n"
      ],
      "metadata": {
        "id": "O0xgRM-oLq5c"
      }
    },
    {
      "cell_type": "markdown",
      "source": [
        "# Análisis Estadístico Básico (EDA) :\n",
        "\n",
        "En este notebook se hace un análisis básico utlizando python de las edades de los alféreces del curso 98D de EMAVI.\n"
      ],
      "metadata": {
        "id": "KpVoVwaCCMBb"
      }
    },
    {
      "cell_type": "code",
      "execution_count": null,
      "metadata": {
        "id": "OmeJ4q8LCEBk"
      },
      "outputs": [],
      "source": [
        "# carga de librerías\n",
        "import matplotlib.pyplot as plt\n",
        "from collections import Counter\n",
        "import numpy as np\n",
        "import pandas as pd\n",
        "from scipy import stats"
      ]
    },
    {
      "cell_type": "markdown",
      "source": [
        "## Cargar datos desde una estructura de datos\n",
        "\n",
        "Usar una estructura de datos de python para guardar los datos de las edades."
      ],
      "metadata": {
        "id": "y6FeWUEcDauA"
      }
    },
    {
      "cell_type": "markdown",
      "source": [
        "Cargar los datos de las edades: cree una variable que se llame **edades**\n",
        "\n",
        "* Cuál estructura de datos debería usar?\n",
        "* Por qué?\n",
        "\n"
      ],
      "metadata": {
        "id": "hYjHAbUHCm2s"
      }
    },
    {
      "cell_type": "code",
      "source": [],
      "metadata": {
        "id": "Gy4zc6cOCmET"
      },
      "execution_count": null,
      "outputs": []
    },
    {
      "cell_type": "markdown",
      "source": [
        "Están los datos **completos**?"
      ],
      "metadata": {
        "id": "ePGjaEN3DO6g"
      }
    },
    {
      "cell_type": "markdown",
      "source": [
        "Comprueba el tipo de datos de la variable edades:"
      ],
      "metadata": {
        "id": "XIUzD-eWMEg2"
      }
    },
    {
      "cell_type": "code",
      "source": [
        "type(edades)"
      ],
      "metadata": {
        "id": "OXQZfbaACmHQ"
      },
      "execution_count": null,
      "outputs": []
    },
    {
      "cell_type": "markdown",
      "source": [
        "## 1. Cálculos de frecuencias"
      ],
      "metadata": {
        "id": "Y6UB5aD2DTTq"
      }
    },
    {
      "cell_type": "markdown",
      "source": [
        "### Ejemplo\n",
        "\n",
        "Consideremos el siguiente conjunto de datos, que representan las edades de un grupo de personas:\n",
        "\n",
        "25, 22, 30, 25, 28, 22, 24, 30, 26, 22, 28, 25, 24, 26, 28, 22, 24, 30, 25, 26\n",
        "\n",
        "\n",
        "| Edad | Frecuencia absoluta (fi) | Frecuencia relativa (hi) | Frecuencia acumulada (Fi) |\n",
        "|---|---|---|---|\n",
        "| 22 | 4 | 4/20 = 0.20 | 4 |\n",
        "| 24 | 3 | 3/20 = 0.15 | 7 |\n",
        "| 25 | 4 | 4/20 = 0.20 | 11 |\n",
        "| 26 | 3 | 3/20 = 0.15 | 14 |\n",
        "| 28 | 3 | 3/20 = 0.15 | 17 |\n",
        "| 30 | 3 | 3/20 = 0.15 | 20 |\n",
        "\n",
        "**Explicación de los cálculos**\n",
        "\n",
        "**Frecuencia absoluta (fi):** Es el número de veces que aparece un valor específico en el conjunto de datos. Por ejemplo, la edad 22 aparece 4 veces en los datos, por lo tanto, su frecuencia absoluta es 4.\n",
        "\n",
        "**Frecuencia relativa (hi):** Es la proporción de veces que aparece un valor específico en el conjunto de datos, en relación con el total de datos. Se calcula dividiendo la frecuencia absoluta por el número total de datos. Por ejemplo, la frecuencia relativa de la edad 22 es 4/20 = 0.20, ya que aparece 4 veces en un total de 20 datos.\n",
        "\n",
        "**Frecuencia acumulada (Fi):** Es la suma de las frecuencias absolutas de todos los valores iguales o inferiores a un valor específico. Se calcula sumando las frecuencias absolutas de forma acumulativa. Por ejemplo, la frecuencia acumulada de la edad 24 es 7, ya que incluye las frecuencias absolutas de las edades 22 (4 veces) y 24 (3 veces).\n"
      ],
      "metadata": {
        "id": "Sem3wdV3NGl8"
      }
    },
    {
      "cell_type": "markdown",
      "source": [
        "### Frecuencias absolutas"
      ],
      "metadata": {
        "id": "FLLdgCwJD7_b"
      }
    },
    {
      "cell_type": "code",
      "source": [
        "# código aquí"
      ],
      "metadata": {
        "id": "xdzqSbzkCw6x"
      },
      "execution_count": null,
      "outputs": []
    },
    {
      "cell_type": "markdown",
      "source": [
        "### Frecuencias relativas"
      ],
      "metadata": {
        "id": "dywdD2fsECNK"
      }
    },
    {
      "cell_type": "code",
      "source": [
        "# código aquí"
      ],
      "metadata": {
        "id": "AsQ7fZ_5CmKe"
      },
      "execution_count": null,
      "outputs": []
    },
    {
      "cell_type": "markdown",
      "source": [
        "### Frecuencias acumuladas"
      ],
      "metadata": {
        "id": "dHZ0A-YDEHgk"
      }
    },
    {
      "cell_type": "code",
      "source": [
        "# código aquí"
      ],
      "metadata": {
        "id": "RdCiK3aiCmZn"
      },
      "execution_count": null,
      "outputs": []
    },
    {
      "cell_type": "markdown",
      "source": [
        "Creamos un **DataFrame** de pandas, utilizando las frecuencias calculadas, para mostrar los resultados de forma organizada:\n"
      ],
      "metadata": {
        "id": "zn5ykEyrESzm"
      }
    },
    {
      "cell_type": "code",
      "source": [
        "# EJEMPLO\n",
        "import pandas as pd\n",
        "\n",
        "edades_ej = [25, 22, 30, 25, 28, 22, 24, 30, 26, 22, 28, 25, 24, 26, 28, 22, 24, 30, 25, 26]\n",
        "\n",
        "df_edades_ej = pd.DataFrame({'Edad': edades_ej})\n",
        "\n",
        "print(df_edades_ej)\n"
      ],
      "metadata": {
        "colab": {
          "base_uri": "https://localhost:8080/"
        },
        "id": "gYdNyqNNOuE2",
        "outputId": "3178bca8-8045-4935-df62-a4383a860847"
      },
      "execution_count": null,
      "outputs": [
        {
          "output_type": "stream",
          "name": "stdout",
          "text": [
            "    Edad\n",
            "0     25\n",
            "1     22\n",
            "2     30\n",
            "3     25\n",
            "4     28\n",
            "5     22\n",
            "6     24\n",
            "7     30\n",
            "8     26\n",
            "9     22\n",
            "10    28\n",
            "11    25\n",
            "12    24\n",
            "13    26\n",
            "14    28\n",
            "15    22\n",
            "16    24\n",
            "17    30\n",
            "18    25\n",
            "19    26\n"
          ]
        }
      ]
    },
    {
      "cell_type": "code",
      "source": [
        "# DataFrame de edades de alfereces"
      ],
      "metadata": {
        "id": "d4j6jE-xDxRa"
      },
      "execution_count": null,
      "outputs": []
    },
    {
      "cell_type": "markdown",
      "source": [
        "##  2. Histograma"
      ],
      "metadata": {
        "id": "PsCjM9IBDtBz"
      }
    },
    {
      "cell_type": "markdown",
      "source": [
        "### Ejemplos de Histogramas\n",
        "\n",
        "Usando las librerías Matplotlib y Seaborn."
      ],
      "metadata": {
        "id": "9a1pgC-1PI40"
      }
    },
    {
      "cell_type": "code",
      "source": [
        "# Gráfico con matplotlib\n",
        "plt.hist(df_edades_ej, bins=np.arange(min(edades_ej) - 0.5, max(edades_ej) + 1.5, 1), rwidth=0.8) # color=\"blue\"\n",
        "plt.xlabel(\"Edades (años)\")\n",
        "plt.ylabel(\"Frecuencia\")\n",
        "plt.title(\"Histograma de Edades\")\n",
        "plt.xticks(range(min(edades_ej), max(edades_ej) + 1))  # Asegura que las marcas del eje x sean números enteros\n",
        "plt.show()"
      ],
      "metadata": {
        "colab": {
          "base_uri": "https://localhost:8080/",
          "height": 472
        },
        "id": "kHSgBs1iPUUV",
        "outputId": "a4e4d15f-e8b8-486d-cf45-b6a4746af901"
      },
      "execution_count": null,
      "outputs": [
        {
          "output_type": "display_data",
          "data": {
            "text/plain": [
              "<Figure size 640x480 with 1 Axes>"
            ],
            "image/png": "[encoded data removed]"
          },
          "metadata": {}
        }
      ]
    },
    {
      "cell_type": "code",
      "source": [
        "# Usando Seaborn\n",
        "import seaborn as sns  # Importamos Seaborn\n",
        "\n",
        "plt.figure(figsize=(8, 6))  # Ajustamos el tamaño del gráfico USANDO MATPLOTLIB!!!!!\n",
        "sns.histplot(df_edades_ej, discrete=True, shrink=.8, color=\"darkblue\")#palette=\"rocket\" )  # Usamos Seaborn para el histograma #otra palette=viridis\n",
        "plt.xlabel(\"Edades (años)\", fontsize=12)  # Aumentamos el tamaño de la etiqueta del eje x\n",
        "plt.ylabel(\"Frecuencia\", fontsize=12)  # Aumentamos el tamaño de la etiqueta del eje y\n",
        "plt.title(\"Histograma de Edades\", fontsize=14)  # Aumentamos el tamaño del título\n",
        "plt.xticks(range(min(edades_ej), max(edades_ej) + 1))  # Asegura que las marcas del eje x sean números enteros\n",
        "plt.show()"
      ],
      "metadata": {
        "colab": {
          "base_uri": "https://localhost:8080/",
          "height": 569
        },
        "id": "iMu0zkmbF8id",
        "outputId": "6dcad3d4-0d97-4067-878d-65337c5bf13b"
      },
      "execution_count": null,
      "outputs": [
        {
          "output_type": "display_data",
          "data": {
            "text/plain": [
              "<Figure size 800x600 with 1 Axes>"
            ],
            "image/png": "[encoded data removed]"
          },
          "metadata": {}
        }
      ]
    },
    {
      "cell_type": "markdown",
      "source": [
        "Colores de paletas en seaborn: https://seaborn.pydata.org/tutorial/color_palettes.html"
      ],
      "metadata": {
        "id": "WEWlvEduGcpV"
      }
    },
    {
      "cell_type": "markdown",
      "source": [
        "**Y dónde está la curva de distribución? ❗ 😧**\n",
        "\n",
        "Con Seaborn una opción sencilla es activar el párametro KDE así:\n",
        "\n",
        "\n",
        "\n",
        ">` kde=True`\n",
        "\n",
        "pero toca graficar TODO el plot nuevamente:\n",
        "\n"
      ],
      "metadata": {
        "id": "Hpr0O9YYKIUK"
      }
    },
    {
      "cell_type": "code",
      "source": [
        "import seaborn as sns\n",
        "import matplotlib.pyplot as plt\n",
        "\n",
        "\n",
        "sns.histplot(df_edades_ej, discrete=True, shrink=.8, color=\"skyblue\", kde=True)  # Histograma con curva KDE\n",
        "plt.xlabel(\"Edades\")\n",
        "plt.ylabel(\"Frecuencia\")\n",
        "plt.title(\"Histograma de Edades con Curva KDE\")\n",
        "plt.show()"
      ],
      "metadata": {
        "colab": {
          "base_uri": "https://localhost:8080/",
          "height": 472
        },
        "id": "h2wcU2DgKHeQ",
        "outputId": "8a2913f7-6fa2-4000-8e7c-0d82afb498f2"
      },
      "execution_count": null,
      "outputs": [
        {
          "output_type": "display_data",
          "data": {
            "text/plain": [
              "<Figure size 640x480 with 1 Axes>"
            ],
            "image/png": "[encoded data removed]"
          },
          "metadata": {}
        }
      ]
    },
    {
      "cell_type": "markdown",
      "source": [
        "Ahora sí! Creemos el histograma usando las edades de los alféreces.\n",
        "\n",
        "Lo más usual es usar un DataFrame cuando se tienen 2 o más variables.\n"
      ],
      "metadata": {
        "id": "0id-j-nhElZa"
      }
    },
    {
      "cell_type": "code",
      "source": [
        "# Crear el boxplot\n",
        "sns.boxplot(y=df_edades_ej[\"Edad\"])\n",
        "\n",
        "# Personalizar el gráfico (opcional)\n",
        "plt.title(\"Boxplot de Edades\")\n",
        "plt.ylabel(\"Edad\")\n",
        "\n",
        "# Mostrar el gráfico\n",
        "plt.show()"
      ],
      "metadata": {
        "colab": {
          "base_uri": "https://localhost:8080/",
          "height": 433
        },
        "id": "WkMjesf7fCLx",
        "outputId": "5124d886-486d-4f10-9883-ddb0dfe81fc2"
      },
      "execution_count": 15,
      "outputs": [
        {
          "output_type": "display_data",
          "data": {
            "text/plain": [
              "<Figure size 640x480 with 1 Axes>"
            ],
            "image/png": "[encoded data removed]"
          },
          "metadata": {}
        }
      ]
    },
    {
      "cell_type": "code",
      "source": [
        "# código aquí! histograma con Matplotlib"
      ],
      "metadata": {
        "id": "B6bm2e0XPCx6"
      },
      "execution_count": null,
      "outputs": []
    },
    {
      "cell_type": "code",
      "source": [
        "# código aquí! histograma con Seaborn"
      ],
      "metadata": {
        "id": "5cAKBipTQtiu"
      },
      "execution_count": null,
      "outputs": []
    },
    {
      "cell_type": "code",
      "source": [
        "# código aquí! histograma con Seaborn y con curva"
      ],
      "metadata": {
        "id": "26VyVvnnQtsr"
      },
      "execution_count": null,
      "outputs": []
    },
    {
      "cell_type": "markdown",
      "source": [
        "**Cuál es la distribución de las edades de los alféreces?** 🤔\n",
        "\n",
        "*RESPUESTA AQUÍ*\n",
        "\n",
        "\n",
        "**Por qué?**\n",
        "\n",
        "*RESPUESTA AQUÍ*\n"
      ],
      "metadata": {
        "id": "WGZ6Bzd6UuOe"
      }
    },
    {
      "cell_type": "markdown",
      "source": [
        "## 3. Estadística descriptiva: tendencia central y variabilidad\n",
        "\n",
        "Calcular las **medidas de tendencia central**:\n",
        "\n",
        "\n",
        "*   Media\n",
        "*   Mediana\n",
        "*   Moda\n",
        "\n",
        "y de **variabilidad estadística**:\n",
        "\n",
        "*   Rango\n",
        "*   Rango intercuartil\n",
        "*   Varianza\n",
        "*   Desviación estándar\n",
        "*   Coeficiente de variación\n",
        "\n",
        "Guarde cada medida en una variable, como en el siguiente ejemplo:\n",
        "\n",
        "\n"
      ],
      "metadata": {
        "id": "Im0-sEezDxaG"
      }
    },
    {
      "cell_type": "code",
      "source": [
        "## Ejemplos\n",
        "# Media\n",
        "media = np.mean(edades_ej)\n",
        "\n",
        "# Mediana\n",
        "mediana = np.median(edades_ej)\n",
        "\n",
        "# Moda (usando scipy.stats para manejar múltiples modas)\n",
        "moda = stats.mode(edades_ej)[0]\n",
        "\n",
        "print(f\"Media: {media}\")\n",
        "print(f\"Mediana: {mediana}\")\n",
        "print(f\"Moda: {moda}\")"
      ],
      "metadata": {
        "colab": {
          "base_uri": "https://localhost:8080/"
        },
        "id": "MhBXzVOPD4Sm",
        "outputId": "25f882a6-7b0f-45c0-87f3-4611b898a440"
      },
      "execution_count": null,
      "outputs": [
        {
          "output_type": "stream",
          "name": "stdout",
          "text": [
            "Media: 25.6\n",
            "Mediana: 25.0\n",
            "Moda: 22\n"
          ]
        }
      ]
    },
    {
      "cell_type": "code",
      "source": [
        "## Ejemplos\n",
        "\n",
        "# Rango\n",
        "# Se calcula restando el valor máximo al valor mínimo de la columna 'Edad'\n",
        "rango = df_edades_ej['Edad'].max() - df_edades_ej['Edad'].min()\n",
        "\n",
        "# Rango intercuartílico\n",
        "# Se calculan los cuartiles 3 y 1 (percentil 75 y 25) utilizando la función quantile() y se resta el cuartil 25% al cuartil 75%\n",
        "q75 = df_edades_ej['Edad'].quantile(0.75)\n",
        "q25 = df_edades_ej['Edad'].quantile(0.25)\n",
        "rango_intercuartilico = q75 - q25\n",
        "\n",
        "# Coeficiente de variación\n",
        "# Se calcula dividiendo la desviación estándar por la media\n",
        "desviacion_estandar = df_edades_ej['Edad'].std()\n",
        "media = df_edades_ej['Edad'].mean()\n",
        "coeficiente_variacion = desviacion_estandar / media\n",
        "\n",
        "# Varianza\n",
        "varianza = df_edades_ej['Edad'].var()\n",
        "\n",
        "# Desviación estándar\n",
        "desviacion_estandar = df_edades_ej['Edad'].std()\n",
        "\n",
        "print(f\"Rango: {rango}\")\n",
        "print(f\"Rango Intercuartílico: {rango_intercuartilico}\")\n",
        "print(f\"Coeficiente de Variación: {coeficiente_variacion}\")\n",
        "print(f\"Varianza: {varianza}\")\n",
        "print(f\"Desviación Estándar: {desviacion_estandar}\")"
      ],
      "metadata": {
        "colab": {
          "base_uri": "https://localhost:8080/"
        },
        "id": "-56vWRpQSPK9",
        "outputId": "0635be84-0be3-4c57-beee-18aac2bbbc70"
      },
      "execution_count": null,
      "outputs": [
        {
          "output_type": "stream",
          "name": "stdout",
          "text": [
            "Rango: 8\n",
            "Rango Intercuartílico: 4.0\n",
            "Coeficiente de Variación: 0.10481568644530263\n",
            "Varianza: 7.199999999999999\n",
            "Desviación Estándar: 2.6832815729997477\n"
          ]
        }
      ]
    },
    {
      "cell_type": "markdown",
      "source": [
        "Qué hace la función `describe()` de `DataFrame`?\n",
        "\n",
        "Ejecute este código:\n",
        "\n",
        "`df_edades_ej.describe()`\n",
        "\n"
      ],
      "metadata": {
        "id": "B2K2SbQRWcue"
      }
    },
    {
      "cell_type": "code",
      "source": [],
      "metadata": {
        "id": "uFOJXHFDWKnv"
      },
      "execution_count": null,
      "outputs": []
    }
  ]
}