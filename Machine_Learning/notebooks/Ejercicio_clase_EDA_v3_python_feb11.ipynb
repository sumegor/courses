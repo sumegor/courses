{
  "cells": [
    {
      "cell_type": "markdown",
      "metadata": {
        "id": "YFjhESFFUVfI"
      },
      "source": [
        "# Análisis de conjunto de datos\n",
        "\n",
        "En este notebook se analiza el conjunto de datos *osteoporosis.csv*.\n"
      ]
    },
    {
      "cell_type": "code",
      "source": [
        "# carga de librerías\n",
        "import matplotlib.pyplot as plt\n",
        "from collections import Counter\n",
        "import numpy as np\n",
        "import pandas as pd\n",
        "from scipy import stats\n",
        "import seaborn as sns"
      ],
      "metadata": {
        "id": "zuWZT7GpcGzi"
      },
      "execution_count": 3,
      "outputs": []
    },
    {
      "cell_type": "markdown",
      "metadata": {
        "id": "QwyVi9plUdHL"
      },
      "source": [
        "## Carga de archivos"
      ]
    },
    {
      "cell_type": "markdown",
      "metadata": {
        "id": "nSVBo1qpVKRL"
      },
      "source": [
        "### Cargar los datos desde el archivo CSV"
      ]
    },
    {
      "cell_type": "markdown",
      "metadata": {
        "id": "tf8yX7ZKd-1l"
      },
      "source": [
        "#### Carga en local"
      ]
    },
    {
      "cell_type": "code",
      "execution_count": null,
      "metadata": {
        "id": "8LZXB8a0Ln6l"
      },
      "outputs": [],
      "source": [
        "import pandas as pd\n",
        "# Carga generica en entorno local PC\n",
        "datos = pd.read_csv(\"ruta_del_archivo/osteoporosis.csv\")"
      ]
    },
    {
      "cell_type": "markdown",
      "metadata": {
        "id": "mdDqrO9Lk0ow"
      },
      "source": [
        "Pueden cargarse archivos durante la sesión del notebook en Colab pero cuando finalice deberán cargarse de nuevo.\n",
        "Para proyectos largos **no es recomendable**."
      ]
    },
    {
      "cell_type": "code",
      "execution_count": null,
      "metadata": {
        "id": "5nw3Jl8hkJXx"
      },
      "outputs": [],
      "source": [
        "import pandas as pd\n",
        "# Carga generica en entorno local Colab\n",
        "datos = pd.read_csv(\"/content/osteoporosis.csv\", delimiter='\\t')\n",
        "## OBS: carga IMC como char"
      ]
    },
    {
      "cell_type": "markdown",
      "metadata": {
        "id": "i8aDzCZtn5-2"
      },
      "source": [
        "Muy importante conocer la estructura del archivo. Aunque los **CSV** son archivos de **Valores Separados por Comas**, es común utilizar otro caracter distinto a la *coma* (,) para separar valores como:\n",
        "\n",
        "\n",
        "*   Punto y coma (;)\n",
        "*   Espacio en blanco(\" \")\n",
        "*   Tabulador (\\t)\n",
        "*   Barra vertical (|)\n",
        "*   Slash (/)\n",
        "*   Backslash (\\)\n",
        "\n",
        "\n"
      ]
    },
    {
      "cell_type": "markdown",
      "metadata": {
        "id": "fddxTMUNbydl"
      },
      "source": [
        "#### Cargar desde Drive"
      ]
    },
    {
      "cell_type": "markdown",
      "metadata": {
        "id": "01qt5osoyzO0"
      },
      "source": [
        "Cargar desde Google Drive requiere una autorización por medio de la cuenta de Google/Gmail del usuario."
      ]
    },
    {
      "cell_type": "code",
      "execution_count": null,
      "metadata": {
        "id": "y2Usbvx2bxbL"
      },
      "outputs": [],
      "source": [
        "import pandas as pd\n",
        "# Indicamos que este archivo tiene cabecera (header)\n",
        "# Usamos como separador el tabulador\n",
        "# En Google Colab al usar R a veces no está disponible\n",
        "datos = pd.read_csv(\"/content/drive/MyDrive/docs_unis_clases/BSG_Institute_clases/Estadística y Probabilidad R/datasets/osteoporosis.csv\", header=True, delimiter='\\t')"
      ]
    },
    {
      "cell_type": "markdown",
      "metadata": {
        "id": "SlMJ9fKYepdM"
      },
      "source": [
        "#### Cargar archivo desde la web"
      ]
    },
    {
      "cell_type": "code",
      "execution_count": 2,
      "metadata": {
        "id": "n96r7JURescK"
      },
      "outputs": [],
      "source": [
        "import pandas as pd\n",
        "# Para archivos de repositorios como github utilizar el enlace RAW\n",
        "datos = pd.read_csv(\"https://raw.githubusercontent.com/sumegor/courses/refs/heads/main/datasets/osteoporosis.csv\", delimiter='\\t', decimal=',')\n",
        "## OBS carga IMC como double"
      ]
    },
    {
      "cell_type": "code",
      "execution_count": null,
      "metadata": {
        "id": "o_zMopiHg0fV"
      },
      "outputs": [],
      "source": [
        "import pandas as pd\n",
        "# El enlace web permite lectura pero insertar tags de HTML que no necesitamos\n",
        "## NO DEBE USARSE PARA CARGAR DATOS!\n",
        "datos_web =pd.read_csv(\"https://github.com/sumegor/courses/blob/main/datasets/osteoporosis.csv\" )"
      ]
    },
    {
      "cell_type": "code",
      "execution_count": null,
      "metadata": {
        "id": "QoTfyHiCpv9a"
      },
      "outputs": [],
      "source": [
        "#head(datos_web)\n",
        "#str(datos_web)"
      ]
    },
    {
      "cell_type": "markdown",
      "metadata": {
        "id": "GIWOJDwJUqUO"
      },
      "source": [
        "## Parte 1"
      ]
    },
    {
      "cell_type": "markdown",
      "metadata": {
        "id": "WhjwMRpEVN-B"
      },
      "source": [
        "Ver las primeras filas y la estructura del archivo para asegurarnos de que la variable \"menarqui\" está presente"
      ]
    },
    {
      "cell_type": "code",
      "execution_count": null,
      "metadata": {
        "colab": {
          "base_uri": "https://localhost:8080/",
          "height": 206
        },
        "id": "tQ9msXAyUjEK",
        "outputId": "540c4940-6098-437b-d02e-af2894db0f8b"
      },
      "outputs": [
        {
          "output_type": "execute_result",
          "data": {
            "text/plain": [
              "   registro  area        f_nac  edad grupedad  peso  talla    imc  bua  \\\n",
              "0         3    10  11659420800    57  55 - 59  70.0  168.0  24.80   69   \n",
              "1         4    10  11671689600    46  45 - 49  53.0  152.0  22.94   73   \n",
              "2        10    10  11721024000    45  45 - 49  64.0  158.0  25.64   81   \n",
              "3        11    10  11464416000    53  50 - 54  78.0  161.0  30.09   58   \n",
              "4        12    10  11690784000    46  45 - 49  56.0  157.0  22.72   89   \n",
              "\n",
              "     clasific  menarqui  edad_men menop                 tipo_men     nivel_ed  \n",
              "0  OSTEOPENIA        12        99    NO  NO MENOPAUSIA/NO CONSTA  SECUNDARIOS  \n",
              "1  OSTEOPENIA        13        99    NO  NO MENOPAUSIA/NO CONSTA  SECUNDARIOS  \n",
              "2      NORMAL        14        99    NO  NO MENOPAUSIA/NO CONSTA    PRIMARIOS  \n",
              "3  OSTEOPENIA        10        50    SI                  NATURAL    PRIMARIOS  \n",
              "4      NORMAL        13        99    NO  NO MENOPAUSIA/NO CONSTA    PRIMARIOS  "
            ],
            "text/html": [
              "\n",
              "  <div id=\"df-a042c395-e192-44ff-8979-4dce03bed166\" class=\"colab-df-container\">\n",
              "    <div>\n",
              "<style scoped>\n",
              "    .dataframe tbody tr th:only-of-type {\n",
              "        vertical-align: middle;\n",
              "    }\n",
              "\n",
              "    .dataframe tbody tr th {\n",
              "        vertical-align: top;\n",
              "    }\n",
              "\n",
              "    .dataframe thead th {\n",
              "        text-align: right;\n",
              "    }\n",
              "</style>\n",
              "<table border=\"1\" class=\"dataframe\">\n",
              "  <thead>\n",
              "    <tr style=\"text-align: right;\">\n",
              "      <th></th>\n",
              "      <th>registro</th>\n",
              "      <th>area</th>\n",
              "      <th>f_nac</th>\n",
              "      <th>edad</th>\n",
              "      <th>grupedad</th>\n",
              "      <th>peso</th>\n",
              "      <th>talla</th>\n",
              "      <th>imc</th>\n",
              "      <th>bua</th>\n",
              "      <th>clasific</th>\n",
              "      <th>menarqui</th>\n",
              "      <th>edad_men</th>\n",
              "      <th>menop</th>\n",
              "      <th>tipo_men</th>\n",
              "      <th>nivel_ed</th>\n",
              "    </tr>\n",
              "  </thead>\n",
              "  <tbody>\n",
              "    <tr>\n",
              "      <th>0</th>\n",
              "      <td>3</td>\n",
              "      <td>10</td>\n",
              "      <td>11659420800</td>\n",
              "      <td>57</td>\n",
              "      <td>55 - 59</td>\n",
              "      <td>70.0</td>\n",
              "      <td>168.0</td>\n",
              "      <td>24.80</td>\n",
              "      <td>69</td>\n",
              "      <td>OSTEOPENIA</td>\n",
              "      <td>12</td>\n",
              "      <td>99</td>\n",
              "      <td>NO</td>\n",
              "      <td>NO MENOPAUSIA/NO CONSTA</td>\n",
              "      <td>SECUNDARIOS</td>\n",
              "    </tr>\n",
              "    <tr>\n",
              "      <th>1</th>\n",
              "      <td>4</td>\n",
              "      <td>10</td>\n",
              "      <td>11671689600</td>\n",
              "      <td>46</td>\n",
              "      <td>45 - 49</td>\n",
              "      <td>53.0</td>\n",
              "      <td>152.0</td>\n",
              "      <td>22.94</td>\n",
              "      <td>73</td>\n",
              "      <td>OSTEOPENIA</td>\n",
              "      <td>13</td>\n",
              "      <td>99</td>\n",
              "      <td>NO</td>\n",
              "      <td>NO MENOPAUSIA/NO CONSTA</td>\n",
              "      <td>SECUNDARIOS</td>\n",
              "    </tr>\n",
              "    <tr>\n",
              "      <th>2</th>\n",
              "      <td>10</td>\n",
              "      <td>10</td>\n",
              "      <td>11721024000</td>\n",
              "      <td>45</td>\n",
              "      <td>45 - 49</td>\n",
              "      <td>64.0</td>\n",
              "      <td>158.0</td>\n",
              "      <td>25.64</td>\n",
              "      <td>81</td>\n",
              "      <td>NORMAL</td>\n",
              "      <td>14</td>\n",
              "      <td>99</td>\n",
              "      <td>NO</td>\n",
              "      <td>NO MENOPAUSIA/NO CONSTA</td>\n",
              "      <td>PRIMARIOS</td>\n",
              "    </tr>\n",
              "    <tr>\n",
              "      <th>3</th>\n",
              "      <td>11</td>\n",
              "      <td>10</td>\n",
              "      <td>11464416000</td>\n",
              "      <td>53</td>\n",
              "      <td>50 - 54</td>\n",
              "      <td>78.0</td>\n",
              "      <td>161.0</td>\n",
              "      <td>30.09</td>\n",
              "      <td>58</td>\n",
              "      <td>OSTEOPENIA</td>\n",
              "      <td>10</td>\n",
              "      <td>50</td>\n",
              "      <td>SI</td>\n",
              "      <td>NATURAL</td>\n",
              "      <td>PRIMARIOS</td>\n",
              "    </tr>\n",
              "    <tr>\n",
              "      <th>4</th>\n",
              "      <td>12</td>\n",
              "      <td>10</td>\n",
              "      <td>11690784000</td>\n",
              "      <td>46</td>\n",
              "      <td>45 - 49</td>\n",
              "      <td>56.0</td>\n",
              "      <td>157.0</td>\n",
              "      <td>22.72</td>\n",
              "      <td>89</td>\n",
              "      <td>NORMAL</td>\n",
              "      <td>13</td>\n",
              "      <td>99</td>\n",
              "      <td>NO</td>\n",
              "      <td>NO MENOPAUSIA/NO CONSTA</td>\n",
              "      <td>PRIMARIOS</td>\n",
              "    </tr>\n",
              "  </tbody>\n",
              "</table>\n",
              "</div>\n",
              "    <div class=\"colab-df-buttons\">\n",
              "\n",
              "  <div class=\"colab-df-container\">\n",
              "    <button class=\"colab-df-convert\" onclick=\"convertToInteractive('df-a042c395-e192-44ff-8979-4dce03bed166')\"\n",
              "            title=\"Convert this dataframe to an interactive table.\"\n",
              "            style=\"display:none;\">\n",
              "\n",
              "  <svg xmlns=\"http://www.w3.org/2000/svg\" height=\"24px\" viewBox=\"0 -960 960 960\">\n",
              "    <path d=\"M120-120v-720h720v720H120Zm60-500h600v-160H180v160Zm220 220h160v-160H400v160Zm0 220h160v-160H400v160ZM180-400h160v-160H180v160Zm440 0h160v-160H620v160ZM180-180h160v-160H180v160Zm440 0h160v-160H620v160Z\"/>\n",
              "  </svg>\n",
              "    </button>\n",
              "\n",
              "  <style>\n",
              "    .colab-df-container {\n",
              "      display:flex;\n",
              "      gap: 12px;\n",
              "    }\n",
              "\n",
              "    .colab-df-convert {\n",
              "      background-color: #E8F0FE;\n",
              "      border: none;\n",
              "      border-radius: 50%;\n",
              "      cursor: pointer;\n",
              "      display: none;\n",
              "      fill: #1967D2;\n",
              "      height: 32px;\n",
              "      padding: 0 0 0 0;\n",
              "      width: 32px;\n",
              "    }\n",
              "\n",
              "    .colab-df-convert:hover {\n",
              "      background-color: #E2EBFA;\n",
              "      box-shadow: 0px 1px 2px rgba(60, 64, 67, 0.3), 0px 1px 3px 1px rgba(60, 64, 67, 0.15);\n",
              "      fill: #174EA6;\n",
              "    }\n",
              "\n",
              "    .colab-df-buttons div {\n",
              "      margin-bottom: 4px;\n",
              "    }\n",
              "\n",
              "    [theme=dark] .colab-df-convert {\n",
              "      background-color: #3B4455;\n",
              "      fill: #D2E3FC;\n",
              "    }\n",
              "\n",
              "    [theme=dark] .colab-df-convert:hover {\n",
              "      background-color: #434B5C;\n",
              "      box-shadow: 0px 1px 3px 1px rgba(0, 0, 0, 0.15);\n",
              "      filter: drop-shadow(0px 1px 2px rgba(0, 0, 0, 0.3));\n",
              "      fill: #FFFFFF;\n",
              "    }\n",
              "  </style>\n",
              "\n",
              "    <script>\n",
              "      const buttonEl =\n",
              "        document.querySelector('#df-a042c395-e192-44ff-8979-4dce03bed166 button.colab-df-convert');\n",
              "      buttonEl.style.display =\n",
              "        google.colab.kernel.accessAllowed ? 'block' : 'none';\n",
              "\n",
              "      async function convertToInteractive(key) {\n",
              "        const element = document.querySelector('#df-a042c395-e192-44ff-8979-4dce03bed166');\n",
              "        const dataTable =\n",
              "          await google.colab.kernel.invokeFunction('convertToInteractive',\n",
              "                                                    [key], {});\n",
              "        if (!dataTable) return;\n",
              "\n",
              "        const docLinkHtml = 'Like what you see? Visit the ' +\n",
              "          '<a target=\"_blank\" href=https://colab.research.google.com/notebooks/data_table.ipynb>data table notebook</a>'\n",
              "          + ' to learn more about interactive tables.';\n",
              "        element.innerHTML = '';\n",
              "        dataTable['output_type'] = 'display_data';\n",
              "        await google.colab.output.renderOutput(dataTable, element);\n",
              "        const docLink = document.createElement('div');\n",
              "        docLink.innerHTML = docLinkHtml;\n",
              "        element.appendChild(docLink);\n",
              "      }\n",
              "    </script>\n",
              "  </div>\n",
              "\n",
              "\n",
              "<div id=\"df-1c5a3f8e-d37b-4c8d-b1bc-b810b286b446\">\n",
              "  <button class=\"colab-df-quickchart\" onclick=\"quickchart('df-1c5a3f8e-d37b-4c8d-b1bc-b810b286b446')\"\n",
              "            title=\"Suggest charts\"\n",
              "            style=\"display:none;\">\n",
              "\n",
              "<svg xmlns=\"http://www.w3.org/2000/svg\" height=\"24px\"viewBox=\"0 0 24 24\"\n",
              "     width=\"24px\">\n",
              "    <g>\n",
              "        <path d=\"M19 3H5c-1.1 0-2 .9-2 2v14c0 1.1.9 2 2 2h14c1.1 0 2-.9 2-2V5c0-1.1-.9-2-2-2zM9 17H7v-7h2v7zm4 0h-2V7h2v10zm4 0h-2v-4h2v4z\"/>\n",
              "    </g>\n",
              "</svg>\n",
              "  </button>\n",
              "\n",
              "<style>\n",
              "  .colab-df-quickchart {\n",
              "      --bg-color: #E8F0FE;\n",
              "      --fill-color: #1967D2;\n",
              "      --hover-bg-color: #E2EBFA;\n",
              "      --hover-fill-color: #174EA6;\n",
              "      --disabled-fill-color: #AAA;\n",
              "      --disabled-bg-color: #DDD;\n",
              "  }\n",
              "\n",
              "  [theme=dark] .colab-df-quickchart {\n",
              "      --bg-color: #3B4455;\n",
              "      --fill-color: #D2E3FC;\n",
              "      --hover-bg-color: #434B5C;\n",
              "      --hover-fill-color: #FFFFFF;\n",
              "      --disabled-bg-color: #3B4455;\n",
              "      --disabled-fill-color: #666;\n",
              "  }\n",
              "\n",
              "  .colab-df-quickchart {\n",
              "    background-color: var(--bg-color);\n",
              "    border: none;\n",
              "    border-radius: 50%;\n",
              "    cursor: pointer;\n",
              "    display: none;\n",
              "    fill: var(--fill-color);\n",
              "    height: 32px;\n",
              "    padding: 0;\n",
              "    width: 32px;\n",
              "  }\n",
              "\n",
              "  .colab-df-quickchart:hover {\n",
              "    background-color: var(--hover-bg-color);\n",
              "    box-shadow: 0 1px 2px rgba(60, 64, 67, 0.3), 0 1px 3px 1px rgba(60, 64, 67, 0.15);\n",
              "    fill: var(--button-hover-fill-color);\n",
              "  }\n",
              "\n",
              "  .colab-df-quickchart-complete:disabled,\n",
              "  .colab-df-quickchart-complete:disabled:hover {\n",
              "    background-color: var(--disabled-bg-color);\n",
              "    fill: var(--disabled-fill-color);\n",
              "    box-shadow: none;\n",
              "  }\n",
              "\n",
              "  .colab-df-spinner {\n",
              "    border: 2px solid var(--fill-color);\n",
              "    border-color: transparent;\n",
              "    border-bottom-color: var(--fill-color);\n",
              "    animation:\n",
              "      spin 1s steps(1) infinite;\n",
              "  }\n",
              "\n",
              "  @keyframes spin {\n",
              "    0% {\n",
              "      border-color: transparent;\n",
              "      border-bottom-color: var(--fill-color);\n",
              "      border-left-color: var(--fill-color);\n",
              "    }\n",
              "    20% {\n",
              "      border-color: transparent;\n",
              "      border-left-color: var(--fill-color);\n",
              "      border-top-color: var(--fill-color);\n",
              "    }\n",
              "    30% {\n",
              "      border-color: transparent;\n",
              "      border-left-color: var(--fill-color);\n",
              "      border-top-color: var(--fill-color);\n",
              "      border-right-color: var(--fill-color);\n",
              "    }\n",
              "    40% {\n",
              "      border-color: transparent;\n",
              "      border-right-color: var(--fill-color);\n",
              "      border-top-color: var(--fill-color);\n",
              "    }\n",
              "    60% {\n",
              "      border-color: transparent;\n",
              "      border-right-color: var(--fill-color);\n",
              "    }\n",
              "    80% {\n",
              "      border-color: transparent;\n",
              "      border-right-color: var(--fill-color);\n",
              "      border-bottom-color: var(--fill-color);\n",
              "    }\n",
              "    90% {\n",
              "      border-color: transparent;\n",
              "      border-bottom-color: var(--fill-color);\n",
              "    }\n",
              "  }\n",
              "</style>\n",
              "\n",
              "  <script>\n",
              "    async function quickchart(key) {\n",
              "      const quickchartButtonEl =\n",
              "        document.querySelector('#' + key + ' button');\n",
              "      quickchartButtonEl.disabled = true;  // To prevent multiple clicks.\n",
              "      quickchartButtonEl.classList.add('colab-df-spinner');\n",
              "      try {\n",
              "        const charts = await google.colab.kernel.invokeFunction(\n",
              "            'suggestCharts', [key], {});\n",
              "      } catch (error) {\n",
              "        console.error('Error during call to suggestCharts:', error);\n",
              "      }\n",
              "      quickchartButtonEl.classList.remove('colab-df-spinner');\n",
              "      quickchartButtonEl.classList.add('colab-df-quickchart-complete');\n",
              "    }\n",
              "    (() => {\n",
              "      let quickchartButtonEl =\n",
              "        document.querySelector('#df-1c5a3f8e-d37b-4c8d-b1bc-b810b286b446 button');\n",
              "      quickchartButtonEl.style.display =\n",
              "        google.colab.kernel.accessAllowed ? 'block' : 'none';\n",
              "    })();\n",
              "  </script>\n",
              "</div>\n",
              "\n",
              "    </div>\n",
              "  </div>\n"
            ],
            "application/vnd.google.colaboratory.intrinsic+json": {
              "type": "dataframe",
              "summary": "{\n  \"name\": \"#str(datos)\",\n  \"rows\": 5,\n  \"fields\": [\n    {\n      \"column\": \"registro\",\n      \"properties\": {\n        \"dtype\": \"number\",\n        \"std\": 4,\n        \"min\": 3,\n        \"max\": 12,\n        \"num_unique_values\": 5,\n        \"samples\": [\n          4,\n          12,\n          10\n        ],\n        \"semantic_type\": \"\",\n        \"description\": \"\"\n      }\n    },\n    {\n      \"column\": \"area\",\n      \"properties\": {\n        \"dtype\": \"number\",\n        \"std\": 0,\n        \"min\": 10,\n        \"max\": 10,\n        \"num_unique_values\": 1,\n        \"samples\": [\n          10\n        ],\n        \"semantic_type\": \"\",\n        \"description\": \"\"\n      }\n    },\n    {\n      \"column\": \"f_nac\",\n      \"properties\": {\n        \"dtype\": \"string\",\n        \"num_unique_values\": 5,\n        \"samples\": [\n          \"11671689600\"\n        ],\n        \"semantic_type\": \"\",\n        \"description\": \"\"\n      }\n    },\n    {\n      \"column\": \"edad\",\n      \"properties\": {\n        \"dtype\": \"number\",\n        \"std\": 5,\n        \"min\": 45,\n        \"max\": 57,\n        \"num_unique_values\": 4,\n        \"samples\": [\n          46\n        ],\n        \"semantic_type\": \"\",\n        \"description\": \"\"\n      }\n    },\n    {\n      \"column\": \"grupedad\",\n      \"properties\": {\n        \"dtype\": \"string\",\n        \"num_unique_values\": 3,\n        \"samples\": [\n          \"55 - 59\"\n        ],\n        \"semantic_type\": \"\",\n        \"description\": \"\"\n      }\n    },\n    {\n      \"column\": \"peso\",\n      \"properties\": {\n        \"dtype\": \"number\",\n        \"std\": 10.207840124139876,\n        \"min\": 53.0,\n        \"max\": 78.0,\n        \"num_unique_values\": 5,\n        \"samples\": [\n          53.0\n        ],\n        \"semantic_type\": \"\",\n        \"description\": \"\"\n      }\n    },\n    {\n      \"column\": \"talla\",\n      \"properties\": {\n        \"dtype\": \"number\",\n        \"std\": 5.890670590009256,\n        \"min\": 152.0,\n        \"max\": 168.0,\n        \"num_unique_values\": 5,\n        \"samples\": [\n          152.0\n        ],\n        \"semantic_type\": \"\",\n        \"description\": \"\"\n      }\n    },\n    {\n      \"column\": \"imc\",\n      \"properties\": {\n        \"dtype\": \"number\",\n        \"std\": 2.9797852271598364,\n        \"min\": 22.72,\n        \"max\": 30.09,\n        \"num_unique_values\": 5,\n        \"samples\": [\n          22.94\n        ],\n        \"semantic_type\": \"\",\n        \"description\": \"\"\n      }\n    },\n    {\n      \"column\": \"bua\",\n      \"properties\": {\n        \"dtype\": \"number\",\n        \"std\": 11,\n        \"min\": 58,\n        \"max\": 89,\n        \"num_unique_values\": 5,\n        \"samples\": [\n          73\n        ],\n        \"semantic_type\": \"\",\n        \"description\": \"\"\n      }\n    },\n    {\n      \"column\": \"clasific\",\n      \"properties\": {\n        \"dtype\": \"category\",\n        \"num_unique_values\": 2,\n        \"samples\": [\n          \"NORMAL\"\n        ],\n        \"semantic_type\": \"\",\n        \"description\": \"\"\n      }\n    },\n    {\n      \"column\": \"menarqui\",\n      \"properties\": {\n        \"dtype\": \"number\",\n        \"std\": 1,\n        \"min\": 10,\n        \"max\": 14,\n        \"num_unique_values\": 4,\n        \"samples\": [\n          13\n        ],\n        \"semantic_type\": \"\",\n        \"description\": \"\"\n      }\n    },\n    {\n      \"column\": \"edad_men\",\n      \"properties\": {\n        \"dtype\": \"number\",\n        \"std\": 21,\n        \"min\": 50,\n        \"max\": 99,\n        \"num_unique_values\": 2,\n        \"samples\": [\n          50\n        ],\n        \"semantic_type\": \"\",\n        \"description\": \"\"\n      }\n    },\n    {\n      \"column\": \"menop\",\n      \"properties\": {\n        \"dtype\": \"category\",\n        \"num_unique_values\": 2,\n        \"samples\": [\n          \"SI\"\n        ],\n        \"semantic_type\": \"\",\n        \"description\": \"\"\n      }\n    },\n    {\n      \"column\": \"tipo_men\",\n      \"properties\": {\n        \"dtype\": \"category\",\n        \"num_unique_values\": 2,\n        \"samples\": [\n          \"NATURAL\"\n        ],\n        \"semantic_type\": \"\",\n        \"description\": \"\"\n      }\n    },\n    {\n      \"column\": \"nivel_ed\",\n      \"properties\": {\n        \"dtype\": \"category\",\n        \"num_unique_values\": 2,\n        \"samples\": [\n          \"PRIMARIOS\"\n        ],\n        \"semantic_type\": \"\",\n        \"description\": \"\"\n      }\n    }\n  ]\n}"
            }
          },
          "metadata": {},
          "execution_count": 3
        }
      ],
      "source": [
        "datos.head()\n",
        "#str(datos)"
      ]
    },
    {
      "cell_type": "markdown",
      "source": [
        "`describe() `ofrece un resumen estadístico descriptivo de un conjunto de datos numéricos en Pandas (Series o DataFrame).\n",
        "\n",
        "* Entrada: Una Serie o DataFrame de Pandas con datos numéricos.\n",
        "* Salida: Un resumen estadístico que incluye: conteo, media, desviación estándar, mínimo, cuartiles (25%, 50%, 75%) y máximo.\n",
        "* Librería: Pandas (pd.Series.describe, pd.DataFrame.describe).\n"
      ],
      "metadata": {
        "id": "OjKxQKy--bbA"
      }
    },
    {
      "cell_type": "code",
      "source": [
        "datos.describe()"
      ],
      "metadata": {
        "colab": {
          "base_uri": "https://localhost:8080/",
          "height": 300
        },
        "id": "C108u5i9-42G",
        "outputId": "f20573d6-5dfd-4045-e618-7592d87018c9"
      },
      "execution_count": null,
      "outputs": [
        {
          "output_type": "execute_result",
          "data": {
            "text/plain": [
              "          registro         area         edad         peso        talla  \\\n",
              "count  1000.000000  1000.000000  1000.000000  1000.000000  1000.000000   \n",
              "mean    529.890000    11.578000    53.421000    69.122800   156.932300   \n",
              "std     292.299937     1.333302     6.792636    11.643733     6.093582   \n",
              "min       3.000000    10.000000    45.000000    44.000000   138.000000   \n",
              "25%     280.750000    10.000000    48.000000    60.500000   153.000000   \n",
              "50%     531.500000    11.000000    52.000000    68.000000   157.000000   \n",
              "75%     781.250000    13.000000    58.000000    75.000000   161.000000   \n",
              "max    1033.000000    13.000000    69.000000   123.500000   180.000000   \n",
              "\n",
              "               imc          bua     menarqui     edad_men  \n",
              "count  1000.000000  1000.000000  1000.000000  1000.000000  \n",
              "mean     28.107760    73.297000    12.707000    63.042000  \n",
              "std       4.717925    16.809323     1.552921    24.176284  \n",
              "min      17.210000    11.000000     8.000000    24.000000  \n",
              "25%      24.797500    62.000000    12.000000    46.000000  \n",
              "50%      27.510000    72.000000    13.000000    51.000000  \n",
              "75%      30.820000    84.000000    14.000000    99.000000  \n",
              "max      48.390000   136.000000    17.000000    99.000000  "
            ],
            "text/html": [
              "\n",
              "  <div id=\"df-490ac942-4a9e-47db-8da8-2083796f1e11\" class=\"colab-df-container\">\n",
              "    <div>\n",
              "<style scoped>\n",
              "    .dataframe tbody tr th:only-of-type {\n",
              "        vertical-align: middle;\n",
              "    }\n",
              "\n",
              "    .dataframe tbody tr th {\n",
              "        vertical-align: top;\n",
              "    }\n",
              "\n",
              "    .dataframe thead th {\n",
              "        text-align: right;\n",
              "    }\n",
              "</style>\n",
              "<table border=\"1\" class=\"dataframe\">\n",
              "  <thead>\n",
              "    <tr style=\"text-align: right;\">\n",
              "      <th></th>\n",
              "      <th>registro</th>\n",
              "      <th>area</th>\n",
              "      <th>edad</th>\n",
              "      <th>peso</th>\n",
              "      <th>talla</th>\n",
              "      <th>imc</th>\n",
              "      <th>bua</th>\n",
              "      <th>menarqui</th>\n",
              "      <th>edad_men</th>\n",
              "    </tr>\n",
              "  </thead>\n",
              "  <tbody>\n",
              "    <tr>\n",
              "      <th>count</th>\n",
              "      <td>1000.000000</td>\n",
              "      <td>1000.000000</td>\n",
              "      <td>1000.000000</td>\n",
              "      <td>1000.000000</td>\n",
              "      <td>1000.000000</td>\n",
              "      <td>1000.000000</td>\n",
              "      <td>1000.000000</td>\n",
              "      <td>1000.000000</td>\n",
              "      <td>1000.000000</td>\n",
              "    </tr>\n",
              "    <tr>\n",
              "      <th>mean</th>\n",
              "      <td>529.890000</td>\n",
              "      <td>11.578000</td>\n",
              "      <td>53.421000</td>\n",
              "      <td>69.122800</td>\n",
              "      <td>156.932300</td>\n",
              "      <td>28.107760</td>\n",
              "      <td>73.297000</td>\n",
              "      <td>12.707000</td>\n",
              "      <td>63.042000</td>\n",
              "    </tr>\n",
              "    <tr>\n",
              "      <th>std</th>\n",
              "      <td>292.299937</td>\n",
              "      <td>1.333302</td>\n",
              "      <td>6.792636</td>\n",
              "      <td>11.643733</td>\n",
              "      <td>6.093582</td>\n",
              "      <td>4.717925</td>\n",
              "      <td>16.809323</td>\n",
              "      <td>1.552921</td>\n",
              "      <td>24.176284</td>\n",
              "    </tr>\n",
              "    <tr>\n",
              "      <th>min</th>\n",
              "      <td>3.000000</td>\n",
              "      <td>10.000000</td>\n",
              "      <td>45.000000</td>\n",
              "      <td>44.000000</td>\n",
              "      <td>138.000000</td>\n",
              "      <td>17.210000</td>\n",
              "      <td>11.000000</td>\n",
              "      <td>8.000000</td>\n",
              "      <td>24.000000</td>\n",
              "    </tr>\n",
              "    <tr>\n",
              "      <th>25%</th>\n",
              "      <td>280.750000</td>\n",
              "      <td>10.000000</td>\n",
              "      <td>48.000000</td>\n",
              "      <td>60.500000</td>\n",
              "      <td>153.000000</td>\n",
              "      <td>24.797500</td>\n",
              "      <td>62.000000</td>\n",
              "      <td>12.000000</td>\n",
              "      <td>46.000000</td>\n",
              "    </tr>\n",
              "    <tr>\n",
              "      <th>50%</th>\n",
              "      <td>531.500000</td>\n",
              "      <td>11.000000</td>\n",
              "      <td>52.000000</td>\n",
              "      <td>68.000000</td>\n",
              "      <td>157.000000</td>\n",
              "      <td>27.510000</td>\n",
              "      <td>72.000000</td>\n",
              "      <td>13.000000</td>\n",
              "      <td>51.000000</td>\n",
              "    </tr>\n",
              "    <tr>\n",
              "      <th>75%</th>\n",
              "      <td>781.250000</td>\n",
              "      <td>13.000000</td>\n",
              "      <td>58.000000</td>\n",
              "      <td>75.000000</td>\n",
              "      <td>161.000000</td>\n",
              "      <td>30.820000</td>\n",
              "      <td>84.000000</td>\n",
              "      <td>14.000000</td>\n",
              "      <td>99.000000</td>\n",
              "    </tr>\n",
              "    <tr>\n",
              "      <th>max</th>\n",
              "      <td>1033.000000</td>\n",
              "      <td>13.000000</td>\n",
              "      <td>69.000000</td>\n",
              "      <td>123.500000</td>\n",
              "      <td>180.000000</td>\n",
              "      <td>48.390000</td>\n",
              "      <td>136.000000</td>\n",
              "      <td>17.000000</td>\n",
              "      <td>99.000000</td>\n",
              "    </tr>\n",
              "  </tbody>\n",
              "</table>\n",
              "</div>\n",
              "    <div class=\"colab-df-buttons\">\n",
              "\n",
              "  <div class=\"colab-df-container\">\n",
              "    <button class=\"colab-df-convert\" onclick=\"convertToInteractive('df-490ac942-4a9e-47db-8da8-2083796f1e11')\"\n",
              "            title=\"Convert this dataframe to an interactive table.\"\n",
              "            style=\"display:none;\">\n",
              "\n",
              "  <svg xmlns=\"http://www.w3.org/2000/svg\" height=\"24px\" viewBox=\"0 -960 960 960\">\n",
              "    <path d=\"M120-120v-720h720v720H120Zm60-500h600v-160H180v160Zm220 220h160v-160H400v160Zm0 220h160v-160H400v160ZM180-400h160v-160H180v160Zm440 0h160v-160H620v160ZM180-180h160v-160H180v160Zm440 0h160v-160H620v160Z\"/>\n",
              "  </svg>\n",
              "    </button>\n",
              "\n",
              "  <style>\n",
              "    .colab-df-container {\n",
              "      display:flex;\n",
              "      gap: 12px;\n",
              "    }\n",
              "\n",
              "    .colab-df-convert {\n",
              "      background-color: #E8F0FE;\n",
              "      border: none;\n",
              "      border-radius: 50%;\n",
              "      cursor: pointer;\n",
              "      display: none;\n",
              "      fill: #1967D2;\n",
              "      height: 32px;\n",
              "      padding: 0 0 0 0;\n",
              "      width: 32px;\n",
              "    }\n",
              "\n",
              "    .colab-df-convert:hover {\n",
              "      background-color: #E2EBFA;\n",
              "      box-shadow: 0px 1px 2px rgba(60, 64, 67, 0.3), 0px 1px 3px 1px rgba(60, 64, 67, 0.15);\n",
              "      fill: #174EA6;\n",
              "    }\n",
              "\n",
              "    .colab-df-buttons div {\n",
              "      margin-bottom: 4px;\n",
              "    }\n",
              "\n",
              "    [theme=dark] .colab-df-convert {\n",
              "      background-color: #3B4455;\n",
              "      fill: #D2E3FC;\n",
              "    }\n",
              "\n",
              "    [theme=dark] .colab-df-convert:hover {\n",
              "      background-color: #434B5C;\n",
              "      box-shadow: 0px 1px 3px 1px rgba(0, 0, 0, 0.15);\n",
              "      filter: drop-shadow(0px 1px 2px rgba(0, 0, 0, 0.3));\n",
              "      fill: #FFFFFF;\n",
              "    }\n",
              "  </style>\n",
              "\n",
              "    <script>\n",
              "      const buttonEl =\n",
              "        document.querySelector('#df-490ac942-4a9e-47db-8da8-2083796f1e11 button.colab-df-convert');\n",
              "      buttonEl.style.display =\n",
              "        google.colab.kernel.accessAllowed ? 'block' : 'none';\n",
              "\n",
              "      async function convertToInteractive(key) {\n",
              "        const element = document.querySelector('#df-490ac942-4a9e-47db-8da8-2083796f1e11');\n",
              "        const dataTable =\n",
              "          await google.colab.kernel.invokeFunction('convertToInteractive',\n",
              "                                                    [key], {});\n",
              "        if (!dataTable) return;\n",
              "\n",
              "        const docLinkHtml = 'Like what you see? Visit the ' +\n",
              "          '<a target=\"_blank\" href=https://colab.research.google.com/notebooks/data_table.ipynb>data table notebook</a>'\n",
              "          + ' to learn more about interactive tables.';\n",
              "        element.innerHTML = '';\n",
              "        dataTable['output_type'] = 'display_data';\n",
              "        await google.colab.output.renderOutput(dataTable, element);\n",
              "        const docLink = document.createElement('div');\n",
              "        docLink.innerHTML = docLinkHtml;\n",
              "        element.appendChild(docLink);\n",
              "      }\n",
              "    </script>\n",
              "  </div>\n",
              "\n",
              "\n",
              "<div id=\"df-5a1aa5d7-b01e-4e4a-8bd7-f85070a5a4c4\">\n",
              "  <button class=\"colab-df-quickchart\" onclick=\"quickchart('df-5a1aa5d7-b01e-4e4a-8bd7-f85070a5a4c4')\"\n",
              "            title=\"Suggest charts\"\n",
              "            style=\"display:none;\">\n",
              "\n",
              "<svg xmlns=\"http://www.w3.org/2000/svg\" height=\"24px\"viewBox=\"0 0 24 24\"\n",
              "     width=\"24px\">\n",
              "    <g>\n",
              "        <path d=\"M19 3H5c-1.1 0-2 .9-2 2v14c0 1.1.9 2 2 2h14c1.1 0 2-.9 2-2V5c0-1.1-.9-2-2-2zM9 17H7v-7h2v7zm4 0h-2V7h2v10zm4 0h-2v-4h2v4z\"/>\n",
              "    </g>\n",
              "</svg>\n",
              "  </button>\n",
              "\n",
              "<style>\n",
              "  .colab-df-quickchart {\n",
              "      --bg-color: #E8F0FE;\n",
              "      --fill-color: #1967D2;\n",
              "      --hover-bg-color: #E2EBFA;\n",
              "      --hover-fill-color: #174EA6;\n",
              "      --disabled-fill-color: #AAA;\n",
              "      --disabled-bg-color: #DDD;\n",
              "  }\n",
              "\n",
              "  [theme=dark] .colab-df-quickchart {\n",
              "      --bg-color: #3B4455;\n",
              "      --fill-color: #D2E3FC;\n",
              "      --hover-bg-color: #434B5C;\n",
              "      --hover-fill-color: #FFFFFF;\n",
              "      --disabled-bg-color: #3B4455;\n",
              "      --disabled-fill-color: #666;\n",
              "  }\n",
              "\n",
              "  .colab-df-quickchart {\n",
              "    background-color: var(--bg-color);\n",
              "    border: none;\n",
              "    border-radius: 50%;\n",
              "    cursor: pointer;\n",
              "    display: none;\n",
              "    fill: var(--fill-color);\n",
              "    height: 32px;\n",
              "    padding: 0;\n",
              "    width: 32px;\n",
              "  }\n",
              "\n",
              "  .colab-df-quickchart:hover {\n",
              "    background-color: var(--hover-bg-color);\n",
              "    box-shadow: 0 1px 2px rgba(60, 64, 67, 0.3), 0 1px 3px 1px rgba(60, 64, 67, 0.15);\n",
              "    fill: var(--button-hover-fill-color);\n",
              "  }\n",
              "\n",
              "  .colab-df-quickchart-complete:disabled,\n",
              "  .colab-df-quickchart-complete:disabled:hover {\n",
              "    background-color: var(--disabled-bg-color);\n",
              "    fill: var(--disabled-fill-color);\n",
              "    box-shadow: none;\n",
              "  }\n",
              "\n",
              "  .colab-df-spinner {\n",
              "    border: 2px solid var(--fill-color);\n",
              "    border-color: transparent;\n",
              "    border-bottom-color: var(--fill-color);\n",
              "    animation:\n",
              "      spin 1s steps(1) infinite;\n",
              "  }\n",
              "\n",
              "  @keyframes spin {\n",
              "    0% {\n",
              "      border-color: transparent;\n",
              "      border-bottom-color: var(--fill-color);\n",
              "      border-left-color: var(--fill-color);\n",
              "    }\n",
              "    20% {\n",
              "      border-color: transparent;\n",
              "      border-left-color: var(--fill-color);\n",
              "      border-top-color: var(--fill-color);\n",
              "    }\n",
              "    30% {\n",
              "      border-color: transparent;\n",
              "      border-left-color: var(--fill-color);\n",
              "      border-top-color: var(--fill-color);\n",
              "      border-right-color: var(--fill-color);\n",
              "    }\n",
              "    40% {\n",
              "      border-color: transparent;\n",
              "      border-right-color: var(--fill-color);\n",
              "      border-top-color: var(--fill-color);\n",
              "    }\n",
              "    60% {\n",
              "      border-color: transparent;\n",
              "      border-right-color: var(--fill-color);\n",
              "    }\n",
              "    80% {\n",
              "      border-color: transparent;\n",
              "      border-right-color: var(--fill-color);\n",
              "      border-bottom-color: var(--fill-color);\n",
              "    }\n",
              "    90% {\n",
              "      border-color: transparent;\n",
              "      border-bottom-color: var(--fill-color);\n",
              "    }\n",
              "  }\n",
              "</style>\n",
              "\n",
              "  <script>\n",
              "    async function quickchart(key) {\n",
              "      const quickchartButtonEl =\n",
              "        document.querySelector('#' + key + ' button');\n",
              "      quickchartButtonEl.disabled = true;  // To prevent multiple clicks.\n",
              "      quickchartButtonEl.classList.add('colab-df-spinner');\n",
              "      try {\n",
              "        const charts = await google.colab.kernel.invokeFunction(\n",
              "            'suggestCharts', [key], {});\n",
              "      } catch (error) {\n",
              "        console.error('Error during call to suggestCharts:', error);\n",
              "      }\n",
              "      quickchartButtonEl.classList.remove('colab-df-spinner');\n",
              "      quickchartButtonEl.classList.add('colab-df-quickchart-complete');\n",
              "    }\n",
              "    (() => {\n",
              "      let quickchartButtonEl =\n",
              "        document.querySelector('#df-5a1aa5d7-b01e-4e4a-8bd7-f85070a5a4c4 button');\n",
              "      quickchartButtonEl.style.display =\n",
              "        google.colab.kernel.accessAllowed ? 'block' : 'none';\n",
              "    })();\n",
              "  </script>\n",
              "</div>\n",
              "\n",
              "    </div>\n",
              "  </div>\n"
            ],
            "application/vnd.google.colaboratory.intrinsic+json": {
              "type": "dataframe",
              "summary": "{\n  \"name\": \"datos\",\n  \"rows\": 8,\n  \"fields\": [\n    {\n      \"column\": \"registro\",\n      \"properties\": {\n        \"dtype\": \"number\",\n        \"std\": 364.0628141224357,\n        \"min\": 3.0,\n        \"max\": 1033.0,\n        \"num_unique_values\": 8,\n        \"samples\": [\n          529.89,\n          531.5,\n          1000.0\n        ],\n        \"semantic_type\": \"\",\n        \"description\": \"\"\n      }\n    },\n    {\n      \"column\": \"area\",\n      \"properties\": {\n        \"dtype\": \"number\",\n        \"std\": 350.04204922151655,\n        \"min\": 1.3333018014289564,\n        \"max\": 1000.0,\n        \"num_unique_values\": 6,\n        \"samples\": [\n          1000.0,\n          11.578,\n          13.0\n        ],\n        \"semantic_type\": \"\",\n        \"description\": \"\"\n      }\n    },\n    {\n      \"column\": \"edad\",\n      \"properties\": {\n        \"dtype\": \"number\",\n        \"std\": 337.25971271997264,\n        \"min\": 6.792635637136653,\n        \"max\": 1000.0,\n        \"num_unique_values\": 8,\n        \"samples\": [\n          53.421,\n          52.0,\n          1000.0\n        ],\n        \"semantic_type\": \"\",\n        \"description\": \"\"\n      }\n    },\n    {\n      \"column\": \"peso\",\n      \"properties\": {\n        \"dtype\": \"number\",\n        \"std\": 332.21287919635375,\n        \"min\": 11.643732935647261,\n        \"max\": 1000.0,\n        \"num_unique_values\": 8,\n        \"samples\": [\n          69.1228,\n          68.0,\n          1000.0\n        ],\n        \"semantic_type\": \"\",\n        \"description\": \"\"\n      }\n    },\n    {\n      \"column\": \"talla\",\n      \"properties\": {\n        \"dtype\": \"number\",\n        \"std\": 310.2504168635,\n        \"min\": 6.093581742165145,\n        \"max\": 1000.0,\n        \"num_unique_values\": 8,\n        \"samples\": [\n          156.9323,\n          157.0,\n          1000.0\n        ],\n        \"semantic_type\": \"\",\n        \"description\": \"\"\n      }\n    },\n    {\n      \"column\": \"imc\",\n      \"properties\": {\n        \"dtype\": \"number\",\n        \"std\": 344.60395042857533,\n        \"min\": 4.717925052308398,\n        \"max\": 1000.0,\n        \"num_unique_values\": 8,\n        \"samples\": [\n          28.107760000000003,\n          27.51,\n          1000.0\n        ],\n        \"semantic_type\": \"\",\n        \"description\": \"\"\n      }\n    },\n    {\n      \"column\": \"bua\",\n      \"properties\": {\n        \"dtype\": \"number\",\n        \"std\": 332.8854805439778,\n        \"min\": 11.0,\n        \"max\": 1000.0,\n        \"num_unique_values\": 8,\n        \"samples\": [\n          73.297,\n          72.0,\n          1000.0\n        ],\n        \"semantic_type\": \"\",\n        \"description\": \"\"\n      }\n    },\n    {\n      \"column\": \"menarqui\",\n      \"properties\": {\n        \"dtype\": \"number\",\n        \"std\": 349.63150445454454,\n        \"min\": 1.5529206555914494,\n        \"max\": 1000.0,\n        \"num_unique_values\": 8,\n        \"samples\": [\n          12.707,\n          13.0,\n          1000.0\n        ],\n        \"semantic_type\": \"\",\n        \"description\": \"\"\n      }\n    },\n    {\n      \"column\": \"edad_men\",\n      \"properties\": {\n        \"dtype\": \"number\",\n        \"std\": 334.2951120450277,\n        \"min\": 24.0,\n        \"max\": 1000.0,\n        \"num_unique_values\": 7,\n        \"samples\": [\n          1000.0,\n          63.042,\n          51.0\n        ],\n        \"semantic_type\": \"\",\n        \"description\": \"\"\n      }\n    }\n  ]\n}"
            }
          },
          "metadata": {},
          "execution_count": 24
        }
      ]
    },
    {
      "cell_type": "markdown",
      "metadata": {
        "id": "ruunrfjhVQlX"
      },
      "source": [
        "Filtrar solo la variable \"menarqui\""
      ]
    },
    {
      "cell_type": "code",
      "execution_count": null,
      "metadata": {
        "id": "T9e9-lltU1-D"
      },
      "outputs": [],
      "source": [
        "menarqui = datos[\"menarqui\"]"
      ]
    },
    {
      "cell_type": "markdown",
      "metadata": {
        "id": "EaANTrWiVTD-"
      },
      "source": [
        "### 1. Tipo de la variable"
      ]
    },
    {
      "cell_type": "code",
      "execution_count": null,
      "metadata": {
        "colab": {
          "base_uri": "https://localhost:8080/",
          "height": 604
        },
        "id": "HCIDLeXFU5wQ",
        "outputId": "f7d18816-76d4-41ba-cb3f-f7ee5c5c54a8",
        "collapsed": true
      },
      "outputs": [
        {
          "output_type": "execute_result",
          "data": {
            "text/plain": [
              "pandas.core.series.Series"
            ],
            "text/html": [
              "<div style=\"max-width:800px; border: 1px solid var(--colab-border-color);\"><style>\n",
              "      pre.function-repr-contents {\n",
              "        overflow-x: auto;\n",
              "        padding: 8px 12px;\n",
              "        max-height: 500px;\n",
              "      }\n",
              "\n",
              "      pre.function-repr-contents.function-repr-contents-collapsed {\n",
              "        cursor: pointer;\n",
              "        max-height: 100px;\n",
              "      }\n",
              "    </style>\n",
              "    <pre style=\"white-space: initial; background:\n",
              "         var(--colab-secondary-surface-color); padding: 8px 12px;\n",
              "         border-bottom: 1px solid var(--colab-border-color);\"><b>pandas.core.series.Series</b><br/>def __init__(data=None, index=None, dtype: Dtype | None=None, name=None, copy: bool | None=None, fastpath: bool | lib.NoDefault=lib.no_default) -&gt; None</pre><pre class=\"function-repr-contents function-repr-contents-collapsed\" style=\"\"><a class=\"filepath\" style=\"display:none\" href=\"#\">/usr/local/lib/python3.11/dist-packages/pandas/core/series.py</a>One-dimensional ndarray with axis labels (including time series).\n",
              "\n",
              "Labels need not be unique but must be a hashable type. The object\n",
              "supports both integer- and label-based indexing and provides a host of\n",
              "methods for performing operations involving the index. Statistical\n",
              "methods from ndarray have been overridden to automatically exclude\n",
              "missing data (currently represented as NaN).\n",
              "\n",
              "Operations between Series (+, -, /, \\*, \\*\\*) align values based on their\n",
              "associated index values-- they need not be the same length. The result\n",
              "index will be the sorted union of the two indexes.\n",
              "\n",
              "Parameters\n",
              "----------\n",
              "data : array-like, Iterable, dict, or scalar value\n",
              "    Contains data stored in Series. If data is a dict, argument order is\n",
              "    maintained.\n",
              "index : array-like or Index (1d)\n",
              "    Values must be hashable and have the same length as `data`.\n",
              "    Non-unique index values are allowed. Will default to\n",
              "    RangeIndex (0, 1, 2, ..., n) if not provided. If data is dict-like\n",
              "    and index is None, then the keys in the data are used as the index. If the\n",
              "    index is not None, the resulting Series is reindexed with the index values.\n",
              "dtype : str, numpy.dtype, or ExtensionDtype, optional\n",
              "    Data type for the output Series. If not specified, this will be\n",
              "    inferred from `data`.\n",
              "    See the :ref:`user guide &lt;basics.dtypes&gt;` for more usages.\n",
              "name : Hashable, default None\n",
              "    The name to give to the Series.\n",
              "copy : bool, default False\n",
              "    Copy input data. Only affects Series or 1d ndarray input. See examples.\n",
              "\n",
              "Notes\n",
              "-----\n",
              "Please reference the :ref:`User Guide &lt;basics.series&gt;` for more information.\n",
              "\n",
              "Examples\n",
              "--------\n",
              "Constructing Series from a dictionary with an Index specified\n",
              "\n",
              "&gt;&gt;&gt; d = {&#x27;a&#x27;: 1, &#x27;b&#x27;: 2, &#x27;c&#x27;: 3}\n",
              "&gt;&gt;&gt; ser = pd.Series(data=d, index=[&#x27;a&#x27;, &#x27;b&#x27;, &#x27;c&#x27;])\n",
              "&gt;&gt;&gt; ser\n",
              "a   1\n",
              "b   2\n",
              "c   3\n",
              "dtype: int64\n",
              "\n",
              "The keys of the dictionary match with the Index values, hence the Index\n",
              "values have no effect.\n",
              "\n",
              "&gt;&gt;&gt; d = {&#x27;a&#x27;: 1, &#x27;b&#x27;: 2, &#x27;c&#x27;: 3}\n",
              "&gt;&gt;&gt; ser = pd.Series(data=d, index=[&#x27;x&#x27;, &#x27;y&#x27;, &#x27;z&#x27;])\n",
              "&gt;&gt;&gt; ser\n",
              "x   NaN\n",
              "y   NaN\n",
              "z   NaN\n",
              "dtype: float64\n",
              "\n",
              "Note that the Index is first build with the keys from the dictionary.\n",
              "After this the Series is reindexed with the given Index values, hence we\n",
              "get all NaN as a result.\n",
              "\n",
              "Constructing Series from a list with `copy=False`.\n",
              "\n",
              "&gt;&gt;&gt; r = [1, 2]\n",
              "&gt;&gt;&gt; ser = pd.Series(r, copy=False)\n",
              "&gt;&gt;&gt; ser.iloc[0] = 999\n",
              "&gt;&gt;&gt; r\n",
              "[1, 2]\n",
              "&gt;&gt;&gt; ser\n",
              "0    999\n",
              "1      2\n",
              "dtype: int64\n",
              "\n",
              "Due to input data type the Series has a `copy` of\n",
              "the original data even though `copy=False`, so\n",
              "the data is unchanged.\n",
              "\n",
              "Constructing Series from a 1d ndarray with `copy=False`.\n",
              "\n",
              "&gt;&gt;&gt; r = np.array([1, 2])\n",
              "&gt;&gt;&gt; ser = pd.Series(r, copy=False)\n",
              "&gt;&gt;&gt; ser.iloc[0] = 999\n",
              "&gt;&gt;&gt; r\n",
              "array([999,   2])\n",
              "&gt;&gt;&gt; ser\n",
              "0    999\n",
              "1      2\n",
              "dtype: int64\n",
              "\n",
              "Due to input data type the Series has a `view` on\n",
              "the original data, so\n",
              "the data is changed as well.</pre>\n",
              "      <script>\n",
              "      if (google.colab.kernel.accessAllowed && google.colab.files && google.colab.files.view) {\n",
              "        for (const element of document.querySelectorAll('.filepath')) {\n",
              "          element.style.display = 'block'\n",
              "          element.onclick = (event) => {\n",
              "            event.preventDefault();\n",
              "            event.stopPropagation();\n",
              "            google.colab.files.view(element.textContent, 263);\n",
              "          };\n",
              "        }\n",
              "      }\n",
              "      for (const element of document.querySelectorAll('.function-repr-contents')) {\n",
              "        element.onclick = (event) => {\n",
              "          event.preventDefault();\n",
              "          event.stopPropagation();\n",
              "          element.classList.toggle('function-repr-contents-collapsed');\n",
              "        };\n",
              "      }\n",
              "      </script>\n",
              "      </div>"
            ]
          },
          "metadata": {},
          "execution_count": 5
        }
      ],
      "source": [
        "#Tipo de la variable: menarqui\n",
        "type(menarqui)"
      ]
    },
    {
      "cell_type": "markdown",
      "source": [
        "**Serie de Pandas**\n",
        "\n",
        "Es una estructura de datos *unidimensional* (como una columna en una tabla) que puede almacenar datos de cualquier tipo (números, texto, fechas, etc.).\n",
        "\n",
        "---\n",
        "```\n",
        "data = [1, 2, 3, 4, 5]\n",
        "serie = pd.Series(data)\n",
        "```\n",
        "---\n",
        "\n",
        "\n",
        "\n",
        "\n"
      ],
      "metadata": {
        "id": "c6bwOMVA6d0q"
      }
    },
    {
      "cell_type": "markdown",
      "metadata": {
        "id": "-yQqU0aoVUGB"
      },
      "source": [
        "### 2. Número de valores diferentes"
      ]
    },
    {
      "cell_type": "code",
      "execution_count": null,
      "metadata": {
        "colab": {
          "base_uri": "https://localhost:8080/"
        },
        "id": "u7BLeiA-U7VP",
        "outputId": "96ddd0fc-0f3e-4668-8ecd-9c63c1863914"
      },
      "outputs": [
        {
          "output_type": "stream",
          "name": "stdout",
          "text": [
            "Número de valores diferentes: 10 \n",
            "\n"
          ]
        }
      ],
      "source": [
        "valores_diferentes = len(np.unique(menarqui))\n",
        "print(\"Número de valores diferentes:\", str(valores_diferentes), \"\\n\")\n"
      ]
    },
    {
      "cell_type": "markdown",
      "metadata": {
        "id": "yv4mdw4xVUlt"
      },
      "source": [
        "3. Calcular el recorrido (rango)"
      ]
    },
    {
      "cell_type": "code",
      "execution_count": null,
      "metadata": {
        "colab": {
          "base_uri": "https://localhost:8080/"
        },
        "id": "DH4Kip4wU-b6",
        "outputId": "4e46f8ec-cac1-4ff1-f50d-79866bbb193f"
      },
      "outputs": [
        {
          "output_type": "stream",
          "name": "stdout",
          "text": [
            "Recorrido de 'menarqui': 9 \n",
            "\n"
          ]
        }
      ],
      "source": [
        "recorrido = np.ptp(menarqui)\n",
        "\n",
        "print(\"Recorrido de 'menarqui':\", str(recorrido), \"\\n\")"
      ]
    },
    {
      "cell_type": "markdown",
      "metadata": {
        "id": "v-othfewVVsX"
      },
      "source": [
        "### 4. Media, mediana, cuartiles primero y tercero"
      ]
    },
    {
      "cell_type": "code",
      "execution_count": null,
      "metadata": {
        "colab": {
          "base_uri": "https://localhost:8080/"
        },
        "id": "8Ov5jTdtVAMp",
        "outputId": "83de59cc-876e-4a0a-a0d8-b89db288263a"
      },
      "outputs": [
        {
          "output_type": "stream",
          "name": "stdout",
          "text": [
            "Media: 12.707 \n",
            "\n",
            "Mediana: 13.0 \n",
            "\n",
            "Cuartil 1: 12.0 \n",
            "\n",
            "Cuartil 3: 14.0 \n",
            "\n"
          ]
        }
      ],
      "source": [
        "media = np.mean(menarqui)\n",
        "mediana = np.median(menarqui)\n",
        "cuartil3 = menarqui.quantile( 0.75)\n",
        "cuartil1 = menarqui.quantile( 0.25)\n",
        "print(\"Media:\", media, \"\\n\")\n",
        "print(\"Mediana:\", mediana, \"\\n\")\n",
        "print(\"Cuartil 1:\", cuartil1, \"\\n\")\n",
        "print(\"Cuartil 3:\", cuartil3, \"\\n\")"
      ]
    },
    {
      "cell_type": "markdown",
      "metadata": {
        "id": "dh9DAKqyVWUE"
      },
      "source": [
        "### 5. Representar la variable en un boxplot"
      ]
    },
    {
      "cell_type": "code",
      "execution_count": null,
      "metadata": {
        "colab": {
          "base_uri": "https://localhost:8080/",
          "height": 434
        },
        "id": "qYIsOcT0VBq_",
        "outputId": "9a7b0c60-f372-4cdf-eab9-010ba974e761"
      },
      "outputs": [
        {
          "output_type": "display_data",
          "data": {
            "text/plain": [
              "<Figure size 640x480 with 1 Axes>"
            ],
            "image/png": "[encoded data removed]"
          },
          "metadata": {}
        }
      ],
      "source": [
        "# Crear el boxplot\n",
        "sns.boxplot(y=menarqui, color=\"pink\")\n",
        "\n",
        "# Personalizar el gráfico (opcional)\n",
        "plt.title(\"Boxplot de Edades de la Menarquía\")\n",
        "plt.ylabel(\"Edad\")\n",
        "\n",
        "# Mostrar el gráfico\n",
        "plt.show()"
      ]
    },
    {
      "cell_type": "code",
      "source": [
        "# Funcion para hallar outliers por medio del rango intercuartilico\n",
        "def outliers_iqr_np(data):\n",
        "    q1 = data.quantile(0.25)\n",
        "    q3 = data.quantile(0.75)\n",
        "    iqr_val = q3 - q1\n",
        "    limite_superior  = q3 + 1.5 * iqr_val\n",
        "    limite_inferior  = q1 - 1.5 * iqr_val\n",
        "    outliers = data[(data < limite_inferior ) | (data > limite_superior )]\n",
        "    return outliers\n"
      ],
      "metadata": {
        "id": "cq_6vA8lhEwf"
      },
      "execution_count": null,
      "outputs": []
    },
    {
      "cell_type": "code",
      "source": [
        "valores_atipicos=outliers_iqr_np(menarqui)\n",
        "print(valores_atipicos)"
      ],
      "metadata": {
        "colab": {
          "base_uri": "https://localhost:8080/"
        },
        "id": "WuD3qjlehGuR",
        "outputId": "fc205030-a4a4-4d2f-f61c-77b2c5aea965"
      },
      "execution_count": null,
      "outputs": [
        {
          "output_type": "stream",
          "name": "stdout",
          "text": [
            "798    8\n",
            "Name: menarqui, dtype: int64\n"
          ]
        }
      ]
    },
    {
      "cell_type": "code",
      "execution_count": null,
      "metadata": {
        "colab": {
          "base_uri": "https://localhost:8080/"
        },
        "id": "yhAP_yvPPMer",
        "outputId": "0f4d38a1-6090-40fd-fc2f-e1028050899f"
      },
      "outputs": [
        {
          "output_type": "execute_result",
          "data": {
            "text/plain": [
              "1"
            ]
          },
          "metadata": {},
          "execution_count": 40
        }
      ],
      "source": [
        "len(valores_atipicos)"
      ]
    },
    {
      "cell_type": "markdown",
      "metadata": {
        "id": "MtAxhjSmVW9J"
      },
      "source": [
        "### 6. Tablas de frecuencias"
      ]
    },
    {
      "cell_type": "markdown",
      "source": [
        "| Tipo de frecuencia | Descripción | Fórmula en LaTeX | Fórmula en Python |\n",
        "|---|---|---|---|\n",
        "| Frecuencia absoluta (ni) | Número de veces que se repite un valor (xi) en un conjunto de datos. |  $n_i = \\sum_{j=1}^{N} I(x_j = x_i)$ | `df['columna'].value_counts()[valor]` |\n",
        "| Frecuencia relativa (fi) | Proporción de veces que se repite un valor (xi) con respecto al total de datos (N). | $f_i = \\frac{n_i}{N}$ | `df['columna'].value_counts(normalize=True)[valor]` |\n",
        "| Frecuencia acumulada (Ni) | Suma de las frecuencias absolutas de todos los valores hasta (xi) inclusive. | $N_i = \\sum_{k=1}^{i} n_k$ | `df['columna'].value_counts().sort_index().cumsum()[valor]` |\n",
        "| Frecuencia relativa acumulada (Fi) | Proporción de datos que son menores o iguales a un valor (xi) con respecto al total de datos (N). | $F_i = \\frac{N_i}{N} = \\sum_{k=1}^{i} f_k$ | `df['columna'].value_counts(normalize=True).sort_index().cumsum()[valor]` |"
      ],
      "metadata": {
        "id": "xBOg1VYXBo3L"
      }
    },
    {
      "cell_type": "code",
      "source": [
        "# Cantidad de registros\n",
        "len(menarqui)"
      ],
      "metadata": {
        "colab": {
          "base_uri": "https://localhost:8080/"
        },
        "id": "e0fPkhZm5Sg2",
        "outputId": "a752ca78-82cc-4ee3-f30b-88f015e6d985"
      },
      "execution_count": null,
      "outputs": [
        {
          "output_type": "execute_result",
          "data": {
            "text/plain": [
              "1000"
            ]
          },
          "metadata": {},
          "execution_count": 6
        }
      ]
    },
    {
      "cell_type": "markdown",
      "source": [
        "#### Cálculos de frecuencias utilizando ciclos"
      ],
      "metadata": {
        "id": "2XBMJ1vlEA75"
      }
    },
    {
      "cell_type": "code",
      "source": [
        "# funcion value_counts() cuenta la cantidad de valores de cada elemento de una columna de una Serie\n",
        "from collections import Counter\n",
        "\n",
        "total_datos= len(menarqui) # cantidad de registros totales\n",
        "\n",
        "frecuencia_abs=Counter(menarqui) # igual a menarqui.value_counts(sort=False).sort_index()\n",
        "\n",
        "frecuencia_rel = {num: frecuencia / total_datos for num, frecuencia in frecuencia_abs.items()}\n",
        "\n",
        "# Necesito ciclos para los calculos acumulados!!\n",
        "frecuencia_acum = []\n",
        "frecuencia_relativa_acum= []\n",
        "acumulado = 0\n",
        "acumulado_rel = 0\n",
        "for index, frec in frecuencia_abs.items():\n",
        "    # F. acumulada\n",
        "    acumulado += frec # igual a---> acumulado = acumulado + frec\n",
        "    frecuencia_acum.append(acumulado)\n",
        "    # F. relativa\n",
        "    acumulado_rel+= frecuencia_rel[index] # igual a---> acumulado_rel = acumulado_rel + frecuencia_rel[index]\n",
        "    frecuencia_relativa_acum.append(acumulado_rel)\n",
        "\n",
        "## Los resultados de las frecuencias:\n",
        "print(\"Frecuencia absoluta:\\n\"+str(frecuencia_abs))\n",
        "print(\"Frecuencia relativa:\\n\"+str(frecuencia_rel))\n",
        "print(\"Frecuencia acumulada:\\n\"+ str(frecuencia_acum))\n",
        "print(\"Frecuencia relativa acumulada:\\n\"+ str(frecuencia_relativa_acum))"
      ],
      "metadata": {
        "colab": {
          "base_uri": "https://localhost:8080/"
        },
        "collapsed": true,
        "id": "F7i9kKwSiUyP",
        "outputId": "571a239e-72ea-4ec6-8ee1-4af50cd782ba"
      },
      "execution_count": null,
      "outputs": [
        {
          "output_type": "stream",
          "name": "stdout",
          "text": [
            "Frecuencia absoluta:\n",
            "Counter({13: 241, 12: 214, 14: 211, 11: 159, 15: 65, 10: 56, 16: 29, 9: 14, 17: 10, 8: 1})\n",
            "Frecuencia relativa:\n",
            "{12: 0.214, 13: 0.241, 14: 0.211, 10: 0.056, 11: 0.159, 15: 0.065, 9: 0.014, 16: 0.029, 17: 0.01, 8: 0.001}\n",
            "Frecuencia acumulada:\n",
            "[214, 455, 666, 722, 881, 946, 960, 989, 999, 1000]\n",
            "Frecuencia relativa acumulada:\n",
            "[0.214, 0.45499999999999996, 0.6659999999999999, 0.722, 0.881, 0.946, 0.96, 0.989, 0.999, 1.0]\n"
          ]
        }
      ]
    },
    {
      "cell_type": "markdown",
      "source": [
        "#### Cálculos de frecuencias SIN ciclos directos\n",
        "\n",
        "Aquí solo usamos funciones de la librería **pandas** de python.\n",
        "\n"
      ],
      "metadata": {
        "id": "zyhrrSWAEPkT"
      }
    },
    {
      "cell_type": "code",
      "source": [
        "import pandas as pd # Si es la primera vez que usamos esta librería\n",
        "\n",
        "# Calcular la frecuencia absoluta\n",
        "frecuencia_absoluta = datos[\"menarqui\"].value_counts()\n",
        "\n",
        "# Calcular la frecuencia relativa\n",
        "frecuencia_relativa = datos[\"menarqui\"].value_counts(normalize=True)\n",
        "\n",
        "# Calcular la frecuencia acumulada\n",
        "frecuencia_acumulada = datos[\"menarqui\"].value_counts().sort_index().cumsum()\n",
        "\n",
        "# Calcular la frecuencia relativa acumulada\n",
        "frecuencia_relativa_acumulada = datos[\"menarqui\"].value_counts(normalize=True).sort_index().cumsum()\n",
        "\n",
        "print(\"Frecuencia absoluta:\\n\"+str(frecuencia_absoluta))\n",
        "print(\"Frecuencia relativa:\\n\"+str(frecuencia_relativa))\n",
        "print(\"Frecuencia acumulada:\\n\"+ str(frecuencia_acumulada))\n",
        "print(\"Frecuencia relativa acumulada:\\n\"+ str(frecuencia_relativa_acumulada))"
      ],
      "metadata": {
        "colab": {
          "base_uri": "https://localhost:8080/"
        },
        "id": "_4RcplmK-JVE",
        "outputId": "2ece6e59-443b-4191-823b-f0c421116195"
      },
      "execution_count": null,
      "outputs": [
        {
          "output_type": "stream",
          "name": "stdout",
          "text": [
            "Frecuencia absoluta:\n",
            "menarqui\n",
            "13    241\n",
            "12    214\n",
            "14    211\n",
            "11    159\n",
            "15     65\n",
            "10     56\n",
            "16     29\n",
            "9      14\n",
            "17     10\n",
            "8       1\n",
            "Name: count, dtype: int64\n",
            "Frecuencia relativa:\n",
            "menarqui\n",
            "13    0.241\n",
            "12    0.214\n",
            "14    0.211\n",
            "11    0.159\n",
            "15    0.065\n",
            "10    0.056\n",
            "16    0.029\n",
            "9     0.014\n",
            "17    0.010\n",
            "8     0.001\n",
            "Name: proportion, dtype: float64\n",
            "Frecuencia acumulada:\n",
            "menarqui\n",
            "8        1\n",
            "9       15\n",
            "10      71\n",
            "11     230\n",
            "12     444\n",
            "13     685\n",
            "14     896\n",
            "15     961\n",
            "16     990\n",
            "17    1000\n",
            "Name: count, dtype: int64\n",
            "Frecuencia relativa acumulada:\n",
            "menarqui\n",
            "8     0.001\n",
            "9     0.015\n",
            "10    0.071\n",
            "11    0.230\n",
            "12    0.444\n",
            "13    0.685\n",
            "14    0.896\n",
            "15    0.961\n",
            "16    0.990\n",
            "17    1.000\n",
            "Name: proportion, dtype: float64\n"
          ]
        }
      ]
    },
    {
      "cell_type": "markdown",
      "metadata": {
        "id": "svNDKBwIVXc4"
      },
      "source": [
        "### 7. Rango o recorrido intercuartílico"
      ]
    },
    {
      "cell_type": "markdown",
      "metadata": {
        "id": "z75JpIjoTbmd"
      },
      "source": [
        "El recorrido intercuartílico es *la diferencia entre el primer y el tercer cuartil* de un conjunto de datos. Se utiliza para cuantificar la dispersión de los datos centrales de una distribución."
      ]
    },
    {
      "cell_type": "code",
      "execution_count": null,
      "metadata": {
        "colab": {
          "base_uri": "https://localhost:8080/"
        },
        "id": "0iRTKGfYUw-O",
        "outputId": "cecbeac2-e642-4bf3-a51a-013cbd206d03"
      },
      "outputs": [
        {
          "output_type": "stream",
          "name": "stdout",
          "text": [
            "Rango Intercuartílico: 2.0\n"
          ]
        }
      ],
      "source": [
        "# Rango intercuartílico\n",
        "# Se calculan los cuartiles 3 y 1 (percentil 75 y 25) utilizando la función quantile() y se resta el cuartil 25% al cuartil 75%\n",
        "q75 = datos[\"menarqui\"].quantile(0.75)\n",
        "q25 = datos[\"menarqui\"].quantile(0.25)\n",
        "rango_intercuartilico = q75 - q25\n",
        "\n",
        "print(f\"Rango Intercuartílico: {rango_intercuartilico}\")"
      ]
    },
    {
      "cell_type": "markdown",
      "metadata": {
        "id": "6F3JGwJnVX5y"
      },
      "source": [
        "### 8. Representar las frecuencias absolutas en un gráfico"
      ]
    },
    {
      "cell_type": "code",
      "execution_count": null,
      "metadata": {
        "colab": {
          "base_uri": "https://localhost:8080/",
          "height": 489
        },
        "id": "Gdjz3YkEU4Qq",
        "outputId": "bc1d5b52-5caa-4d73-deff-5b91167f1221"
      },
      "outputs": [
        {
          "output_type": "execute_result",
          "data": {
            "text/plain": [
              "Text(0, 0.5, 'Frecuencia')"
            ]
          },
          "metadata": {},
          "execution_count": 16
        },
        {
          "output_type": "display_data",
          "data": {
            "text/plain": [
              "<Figure size 640x480 with 1 Axes>"
            ],
            "image/png": "[encoded data removed]"
          },
          "metadata": {}
        }
      ],
      "source": [
        "# Crear el histograma\n",
        "plt.hist(datos[\"menarqui\"], bins=8, color='lightpink', edgecolor='black', histtype=\"bar\") # tipos stepfilled, step, bar\n",
        "\n",
        "# Personalizar el gráfico (opcional)\n",
        "plt.title('Histograma de Edades de Menarquía')\n",
        "plt.xlabel('Edad')\n",
        "plt.ylabel('Frecuencia')"
      ]
    },
    {
      "cell_type": "markdown",
      "metadata": {
        "id": "XdB8PIjPVYdy"
      },
      "source": [
        "## Parte 2"
      ]
    },
    {
      "cell_type": "code",
      "execution_count": null,
      "metadata": {
        "id": "49fH-qiLWG29"
      },
      "outputs": [],
      "source": [
        "import pandas as pd\n",
        "# Cargar los datos SOLO SI ES NECESARIO O HAN HABIDO GRANDES CAMBIOS EN LA PARTE ANTERIOR\n",
        "#datos = pd.pd.read_csv(\"ruta_del_archivo/osteoporosis.csv\")"
      ]
    },
    {
      "cell_type": "markdown",
      "metadata": {
        "id": "rqqC9-kIV_Gb"
      },
      "source": [
        "Verificar las primeras filas y la estructura del archivo"
      ]
    },
    {
      "cell_type": "code",
      "execution_count": null,
      "metadata": {
        "colab": {
          "base_uri": "https://localhost:8080/",
          "height": 206
        },
        "id": "fnETMcJZV-bf",
        "outputId": "640b1870-98c4-49cf-cb45-45e674c3f342"
      },
      "outputs": [
        {
          "output_type": "execute_result",
          "data": {
            "text/plain": [
              "   registro  area        f_nac  edad grupedad  peso  talla    imc  bua  \\\n",
              "0         3    10  11659420800    57  55 - 59  70.0  168.0  24.80   69   \n",
              "1         4    10  11671689600    46  45 - 49  53.0  152.0  22.94   73   \n",
              "2        10    10  11721024000    45  45 - 49  64.0  158.0  25.64   81   \n",
              "3        11    10  11464416000    53  50 - 54  78.0  161.0  30.09   58   \n",
              "4        12    10  11690784000    46  45 - 49  56.0  157.0  22.72   89   \n",
              "\n",
              "     clasific  menarqui  edad_men menop                 tipo_men     nivel_ed  \n",
              "0  OSTEOPENIA        12        99    NO  NO MENOPAUSIA/NO CONSTA  SECUNDARIOS  \n",
              "1  OSTEOPENIA        13        99    NO  NO MENOPAUSIA/NO CONSTA  SECUNDARIOS  \n",
              "2      NORMAL        14        99    NO  NO MENOPAUSIA/NO CONSTA    PRIMARIOS  \n",
              "3  OSTEOPENIA        10        50    SI                  NATURAL    PRIMARIOS  \n",
              "4      NORMAL        13        99    NO  NO MENOPAUSIA/NO CONSTA    PRIMARIOS  "
            ],
            "text/html": [
              "\n",
              "  <div id=\"df-ea8173ee-8806-428f-8b24-9a4a13e6b6c5\" class=\"colab-df-container\">\n",
              "    <div>\n",
              "<style scoped>\n",
              "    .dataframe tbody tr th:only-of-type {\n",
              "        vertical-align: middle;\n",
              "    }\n",
              "\n",
              "    .dataframe tbody tr th {\n",
              "        vertical-align: top;\n",
              "    }\n",
              "\n",
              "    .dataframe thead th {\n",
              "        text-align: right;\n",
              "    }\n",
              "</style>\n",
              "<table border=\"1\" class=\"dataframe\">\n",
              "  <thead>\n",
              "    <tr style=\"text-align: right;\">\n",
              "      <th></th>\n",
              "      <th>registro</th>\n",
              "      <th>area</th>\n",
              "      <th>f_nac</th>\n",
              "      <th>edad</th>\n",
              "      <th>grupedad</th>\n",
              "      <th>peso</th>\n",
              "      <th>talla</th>\n",
              "      <th>imc</th>\n",
              "      <th>bua</th>\n",
              "      <th>clasific</th>\n",
              "      <th>menarqui</th>\n",
              "      <th>edad_men</th>\n",
              "      <th>menop</th>\n",
              "      <th>tipo_men</th>\n",
              "      <th>nivel_ed</th>\n",
              "    </tr>\n",
              "  </thead>\n",
              "  <tbody>\n",
              "    <tr>\n",
              "      <th>0</th>\n",
              "      <td>3</td>\n",
              "      <td>10</td>\n",
              "      <td>11659420800</td>\n",
              "      <td>57</td>\n",
              "      <td>55 - 59</td>\n",
              "      <td>70.0</td>\n",
              "      <td>168.0</td>\n",
              "      <td>24.80</td>\n",
              "      <td>69</td>\n",
              "      <td>OSTEOPENIA</td>\n",
              "      <td>12</td>\n",
              "      <td>99</td>\n",
              "      <td>NO</td>\n",
              "      <td>NO MENOPAUSIA/NO CONSTA</td>\n",
              "      <td>SECUNDARIOS</td>\n",
              "    </tr>\n",
              "    <tr>\n",
              "      <th>1</th>\n",
              "      <td>4</td>\n",
              "      <td>10</td>\n",
              "      <td>11671689600</td>\n",
              "      <td>46</td>\n",
              "      <td>45 - 49</td>\n",
              "      <td>53.0</td>\n",
              "      <td>152.0</td>\n",
              "      <td>22.94</td>\n",
              "      <td>73</td>\n",
              "      <td>OSTEOPENIA</td>\n",
              "      <td>13</td>\n",
              "      <td>99</td>\n",
              "      <td>NO</td>\n",
              "      <td>NO MENOPAUSIA/NO CONSTA</td>\n",
              "      <td>SECUNDARIOS</td>\n",
              "    </tr>\n",
              "    <tr>\n",
              "      <th>2</th>\n",
              "      <td>10</td>\n",
              "      <td>10</td>\n",
              "      <td>11721024000</td>\n",
              "      <td>45</td>\n",
              "      <td>45 - 49</td>\n",
              "      <td>64.0</td>\n",
              "      <td>158.0</td>\n",
              "      <td>25.64</td>\n",
              "      <td>81</td>\n",
              "      <td>NORMAL</td>\n",
              "      <td>14</td>\n",
              "      <td>99</td>\n",
              "      <td>NO</td>\n",
              "      <td>NO MENOPAUSIA/NO CONSTA</td>\n",
              "      <td>PRIMARIOS</td>\n",
              "    </tr>\n",
              "    <tr>\n",
              "      <th>3</th>\n",
              "      <td>11</td>\n",
              "      <td>10</td>\n",
              "      <td>11464416000</td>\n",
              "      <td>53</td>\n",
              "      <td>50 - 54</td>\n",
              "      <td>78.0</td>\n",
              "      <td>161.0</td>\n",
              "      <td>30.09</td>\n",
              "      <td>58</td>\n",
              "      <td>OSTEOPENIA</td>\n",
              "      <td>10</td>\n",
              "      <td>50</td>\n",
              "      <td>SI</td>\n",
              "      <td>NATURAL</td>\n",
              "      <td>PRIMARIOS</td>\n",
              "    </tr>\n",
              "    <tr>\n",
              "      <th>4</th>\n",
              "      <td>12</td>\n",
              "      <td>10</td>\n",
              "      <td>11690784000</td>\n",
              "      <td>46</td>\n",
              "      <td>45 - 49</td>\n",
              "      <td>56.0</td>\n",
              "      <td>157.0</td>\n",
              "      <td>22.72</td>\n",
              "      <td>89</td>\n",
              "      <td>NORMAL</td>\n",
              "      <td>13</td>\n",
              "      <td>99</td>\n",
              "      <td>NO</td>\n",
              "      <td>NO MENOPAUSIA/NO CONSTA</td>\n",
              "      <td>PRIMARIOS</td>\n",
              "    </tr>\n",
              "  </tbody>\n",
              "</table>\n",
              "</div>\n",
              "    <div class=\"colab-df-buttons\">\n",
              "\n",
              "  <div class=\"colab-df-container\">\n",
              "    <button class=\"colab-df-convert\" onclick=\"convertToInteractive('df-ea8173ee-8806-428f-8b24-9a4a13e6b6c5')\"\n",
              "            title=\"Convert this dataframe to an interactive table.\"\n",
              "            style=\"display:none;\">\n",
              "\n",
              "  <svg xmlns=\"http://www.w3.org/2000/svg\" height=\"24px\" viewBox=\"0 -960 960 960\">\n",
              "    <path d=\"M120-120v-720h720v720H120Zm60-500h600v-160H180v160Zm220 220h160v-160H400v160Zm0 220h160v-160H400v160ZM180-400h160v-160H180v160Zm440 0h160v-160H620v160ZM180-180h160v-160H180v160Zm440 0h160v-160H620v160Z\"/>\n",
              "  </svg>\n",
              "    </button>\n",
              "\n",
              "  <style>\n",
              "    .colab-df-container {\n",
              "      display:flex;\n",
              "      gap: 12px;\n",
              "    }\n",
              "\n",
              "    .colab-df-convert {\n",
              "      background-color: #E8F0FE;\n",
              "      border: none;\n",
              "      border-radius: 50%;\n",
              "      cursor: pointer;\n",
              "      display: none;\n",
              "      fill: #1967D2;\n",
              "      height: 32px;\n",
              "      padding: 0 0 0 0;\n",
              "      width: 32px;\n",
              "    }\n",
              "\n",
              "    .colab-df-convert:hover {\n",
              "      background-color: #E2EBFA;\n",
              "      box-shadow: 0px 1px 2px rgba(60, 64, 67, 0.3), 0px 1px 3px 1px rgba(60, 64, 67, 0.15);\n",
              "      fill: #174EA6;\n",
              "    }\n",
              "\n",
              "    .colab-df-buttons div {\n",
              "      margin-bottom: 4px;\n",
              "    }\n",
              "\n",
              "    [theme=dark] .colab-df-convert {\n",
              "      background-color: #3B4455;\n",
              "      fill: #D2E3FC;\n",
              "    }\n",
              "\n",
              "    [theme=dark] .colab-df-convert:hover {\n",
              "      background-color: #434B5C;\n",
              "      box-shadow: 0px 1px 3px 1px rgba(0, 0, 0, 0.15);\n",
              "      filter: drop-shadow(0px 1px 2px rgba(0, 0, 0, 0.3));\n",
              "      fill: #FFFFFF;\n",
              "    }\n",
              "  </style>\n",
              "\n",
              "    <script>\n",
              "      const buttonEl =\n",
              "        document.querySelector('#df-ea8173ee-8806-428f-8b24-9a4a13e6b6c5 button.colab-df-convert');\n",
              "      buttonEl.style.display =\n",
              "        google.colab.kernel.accessAllowed ? 'block' : 'none';\n",
              "\n",
              "      async function convertToInteractive(key) {\n",
              "        const element = document.querySelector('#df-ea8173ee-8806-428f-8b24-9a4a13e6b6c5');\n",
              "        const dataTable =\n",
              "          await google.colab.kernel.invokeFunction('convertToInteractive',\n",
              "                                                    [key], {});\n",
              "        if (!dataTable) return;\n",
              "\n",
              "        const docLinkHtml = 'Like what you see? Visit the ' +\n",
              "          '<a target=\"_blank\" href=https://colab.research.google.com/notebooks/data_table.ipynb>data table notebook</a>'\n",
              "          + ' to learn more about interactive tables.';\n",
              "        element.innerHTML = '';\n",
              "        dataTable['output_type'] = 'display_data';\n",
              "        await google.colab.output.renderOutput(dataTable, element);\n",
              "        const docLink = document.createElement('div');\n",
              "        docLink.innerHTML = docLinkHtml;\n",
              "        element.appendChild(docLink);\n",
              "      }\n",
              "    </script>\n",
              "  </div>\n",
              "\n",
              "\n",
              "<div id=\"df-795f2f83-4865-42d7-b093-21cb80041ff5\">\n",
              "  <button class=\"colab-df-quickchart\" onclick=\"quickchart('df-795f2f83-4865-42d7-b093-21cb80041ff5')\"\n",
              "            title=\"Suggest charts\"\n",
              "            style=\"display:none;\">\n",
              "\n",
              "<svg xmlns=\"http://www.w3.org/2000/svg\" height=\"24px\"viewBox=\"0 0 24 24\"\n",
              "     width=\"24px\">\n",
              "    <g>\n",
              "        <path d=\"M19 3H5c-1.1 0-2 .9-2 2v14c0 1.1.9 2 2 2h14c1.1 0 2-.9 2-2V5c0-1.1-.9-2-2-2zM9 17H7v-7h2v7zm4 0h-2V7h2v10zm4 0h-2v-4h2v4z\"/>\n",
              "    </g>\n",
              "</svg>\n",
              "  </button>\n",
              "\n",
              "<style>\n",
              "  .colab-df-quickchart {\n",
              "      --bg-color: #E8F0FE;\n",
              "      --fill-color: #1967D2;\n",
              "      --hover-bg-color: #E2EBFA;\n",
              "      --hover-fill-color: #174EA6;\n",
              "      --disabled-fill-color: #AAA;\n",
              "      --disabled-bg-color: #DDD;\n",
              "  }\n",
              "\n",
              "  [theme=dark] .colab-df-quickchart {\n",
              "      --bg-color: #3B4455;\n",
              "      --fill-color: #D2E3FC;\n",
              "      --hover-bg-color: #434B5C;\n",
              "      --hover-fill-color: #FFFFFF;\n",
              "      --disabled-bg-color: #3B4455;\n",
              "      --disabled-fill-color: #666;\n",
              "  }\n",
              "\n",
              "  .colab-df-quickchart {\n",
              "    background-color: var(--bg-color);\n",
              "    border: none;\n",
              "    border-radius: 50%;\n",
              "    cursor: pointer;\n",
              "    display: none;\n",
              "    fill: var(--fill-color);\n",
              "    height: 32px;\n",
              "    padding: 0;\n",
              "    width: 32px;\n",
              "  }\n",
              "\n",
              "  .colab-df-quickchart:hover {\n",
              "    background-color: var(--hover-bg-color);\n",
              "    box-shadow: 0 1px 2px rgba(60, 64, 67, 0.3), 0 1px 3px 1px rgba(60, 64, 67, 0.15);\n",
              "    fill: var(--button-hover-fill-color);\n",
              "  }\n",
              "\n",
              "  .colab-df-quickchart-complete:disabled,\n",
              "  .colab-df-quickchart-complete:disabled:hover {\n",
              "    background-color: var(--disabled-bg-color);\n",
              "    fill: var(--disabled-fill-color);\n",
              "    box-shadow: none;\n",
              "  }\n",
              "\n",
              "  .colab-df-spinner {\n",
              "    border: 2px solid var(--fill-color);\n",
              "    border-color: transparent;\n",
              "    border-bottom-color: var(--fill-color);\n",
              "    animation:\n",
              "      spin 1s steps(1) infinite;\n",
              "  }\n",
              "\n",
              "  @keyframes spin {\n",
              "    0% {\n",
              "      border-color: transparent;\n",
              "      border-bottom-color: var(--fill-color);\n",
              "      border-left-color: var(--fill-color);\n",
              "    }\n",
              "    20% {\n",
              "      border-color: transparent;\n",
              "      border-left-color: var(--fill-color);\n",
              "      border-top-color: var(--fill-color);\n",
              "    }\n",
              "    30% {\n",
              "      border-color: transparent;\n",
              "      border-left-color: var(--fill-color);\n",
              "      border-top-color: var(--fill-color);\n",
              "      border-right-color: var(--fill-color);\n",
              "    }\n",
              "    40% {\n",
              "      border-color: transparent;\n",
              "      border-right-color: var(--fill-color);\n",
              "      border-top-color: var(--fill-color);\n",
              "    }\n",
              "    60% {\n",
              "      border-color: transparent;\n",
              "      border-right-color: var(--fill-color);\n",
              "    }\n",
              "    80% {\n",
              "      border-color: transparent;\n",
              "      border-right-color: var(--fill-color);\n",
              "      border-bottom-color: var(--fill-color);\n",
              "    }\n",
              "    90% {\n",
              "      border-color: transparent;\n",
              "      border-bottom-color: var(--fill-color);\n",
              "    }\n",
              "  }\n",
              "</style>\n",
              "\n",
              "  <script>\n",
              "    async function quickchart(key) {\n",
              "      const quickchartButtonEl =\n",
              "        document.querySelector('#' + key + ' button');\n",
              "      quickchartButtonEl.disabled = true;  // To prevent multiple clicks.\n",
              "      quickchartButtonEl.classList.add('colab-df-spinner');\n",
              "      try {\n",
              "        const charts = await google.colab.kernel.invokeFunction(\n",
              "            'suggestCharts', [key], {});\n",
              "      } catch (error) {\n",
              "        console.error('Error during call to suggestCharts:', error);\n",
              "      }\n",
              "      quickchartButtonEl.classList.remove('colab-df-spinner');\n",
              "      quickchartButtonEl.classList.add('colab-df-quickchart-complete');\n",
              "    }\n",
              "    (() => {\n",
              "      let quickchartButtonEl =\n",
              "        document.querySelector('#df-795f2f83-4865-42d7-b093-21cb80041ff5 button');\n",
              "      quickchartButtonEl.style.display =\n",
              "        google.colab.kernel.accessAllowed ? 'block' : 'none';\n",
              "    })();\n",
              "  </script>\n",
              "</div>\n",
              "\n",
              "    </div>\n",
              "  </div>\n"
            ],
            "application/vnd.google.colaboratory.intrinsic+json": {
              "type": "dataframe",
              "variable_name": "datos",
              "summary": "{\n  \"name\": \"datos\",\n  \"rows\": 1000,\n  \"fields\": [\n    {\n      \"column\": \"registro\",\n      \"properties\": {\n        \"dtype\": \"number\",\n        \"std\": 292,\n        \"min\": 3,\n        \"max\": 1033,\n        \"num_unique_values\": 1000,\n        \"samples\": [\n          553,\n          769,\n          772\n        ],\n        \"semantic_type\": \"\",\n        \"description\": \"\"\n      }\n    },\n    {\n      \"column\": \"area\",\n      \"properties\": {\n        \"dtype\": \"number\",\n        \"std\": 1,\n        \"min\": 10,\n        \"max\": 13,\n        \"num_unique_values\": 3,\n        \"samples\": [\n          10,\n          11,\n          13\n        ],\n        \"semantic_type\": \"\",\n        \"description\": \"\"\n      }\n    },\n    {\n      \"column\": \"f_nac\",\n      \"properties\": {\n        \"dtype\": \"string\",\n        \"num_unique_values\": 923,\n        \"samples\": [\n          \"11656224000\",\n          \"11761459200\",\n          \"11029651200\"\n        ],\n        \"semantic_type\": \"\",\n        \"description\": \"\"\n      }\n    },\n    {\n      \"column\": \"edad\",\n      \"properties\": {\n        \"dtype\": \"number\",\n        \"std\": 6,\n        \"min\": 45,\n        \"max\": 69,\n        \"num_unique_values\": 25,\n        \"samples\": [\n          56,\n          67,\n          57\n        ],\n        \"semantic_type\": \"\",\n        \"description\": \"\"\n      }\n    },\n    {\n      \"column\": \"grupedad\",\n      \"properties\": {\n        \"dtype\": \"category\",\n        \"num_unique_values\": 5,\n        \"samples\": [\n          \"45 - 49\",\n          \"65 - 69\",\n          \"50 - 54\"\n        ],\n        \"semantic_type\": \"\",\n        \"description\": \"\"\n      }\n    },\n    {\n      \"column\": \"peso\",\n      \"properties\": {\n        \"dtype\": \"number\",\n        \"std\": 11.643732935647261,\n        \"min\": 44.0,\n        \"max\": 123.5,\n        \"num_unique_values\": 190,\n        \"samples\": [\n          95.0,\n          91.3,\n          75.3\n        ],\n        \"semantic_type\": \"\",\n        \"description\": \"\"\n      }\n    },\n    {\n      \"column\": \"talla\",\n      \"properties\": {\n        \"dtype\": \"number\",\n        \"std\": 6.093581742165145,\n        \"min\": 138.0,\n        \"max\": 180.0,\n        \"num_unique_values\": 63,\n        \"samples\": [\n          140.0,\n          139.0,\n          168.0\n        ],\n        \"semantic_type\": \"\",\n        \"description\": \"\"\n      }\n    },\n    {\n      \"column\": \"imc\",\n      \"properties\": {\n        \"dtype\": \"number\",\n        \"std\": 4.717925052308398,\n        \"min\": 17.21,\n        \"max\": 48.39,\n        \"num_unique_values\": 643,\n        \"samples\": [\n          21.71,\n          31.18,\n          25.21\n        ],\n        \"semantic_type\": \"\",\n        \"description\": \"\"\n      }\n    },\n    {\n      \"column\": \"bua\",\n      \"properties\": {\n        \"dtype\": \"number\",\n        \"std\": 16,\n        \"min\": 11,\n        \"max\": 136,\n        \"num_unique_values\": 91,\n        \"samples\": [\n          52,\n          80,\n          100\n        ],\n        \"semantic_type\": \"\",\n        \"description\": \"\"\n      }\n    },\n    {\n      \"column\": \"clasific\",\n      \"properties\": {\n        \"dtype\": \"category\",\n        \"num_unique_values\": 3,\n        \"samples\": [\n          \"OSTEOPENIA\",\n          \"NORMAL\",\n          \"OSTEOPOROSIS\"\n        ],\n        \"semantic_type\": \"\",\n        \"description\": \"\"\n      }\n    },\n    {\n      \"column\": \"menarqui\",\n      \"properties\": {\n        \"dtype\": \"number\",\n        \"std\": 1,\n        \"min\": 8,\n        \"max\": 17,\n        \"num_unique_values\": 10,\n        \"samples\": [\n          17,\n          13,\n          15\n        ],\n        \"semantic_type\": \"\",\n        \"description\": \"\"\n      }\n    },\n    {\n      \"column\": \"edad_men\",\n      \"properties\": {\n        \"dtype\": \"number\",\n        \"std\": 24,\n        \"min\": 24,\n        \"max\": 99,\n        \"num_unique_values\": 36,\n        \"samples\": [\n          30,\n          44,\n          24\n        ],\n        \"semantic_type\": \"\",\n        \"description\": \"\"\n      }\n    },\n    {\n      \"column\": \"menop\",\n      \"properties\": {\n        \"dtype\": \"category\",\n        \"num_unique_values\": 2,\n        \"samples\": [\n          \"SI\",\n          \"NO\"\n        ],\n        \"semantic_type\": \"\",\n        \"description\": \"\"\n      }\n    },\n    {\n      \"column\": \"tipo_men\",\n      \"properties\": {\n        \"dtype\": \"category\",\n        \"num_unique_values\": 5,\n        \"samples\": [\n          \"NATURAL\",\n          \"HISTERECTOMIA\"\n        ],\n        \"semantic_type\": \"\",\n        \"description\": \"\"\n      }\n    },\n    {\n      \"column\": \"nivel_ed\",\n      \"properties\": {\n        \"dtype\": \"category\",\n        \"num_unique_values\": 5,\n        \"samples\": [\n          \"PRIMARIOS\",\n          \"SUPERIORES\"\n        ],\n        \"semantic_type\": \"\",\n        \"description\": \"\"\n      }\n    }\n  ]\n}"
            }
          },
          "metadata": {},
          "execution_count": 18
        }
      ],
      "source": [
        "datos.head()"
      ]
    },
    {
      "cell_type": "markdown",
      "metadata": {
        "id": "BGuTR_GdWAOu"
      },
      "source": [
        "Filtrar la variable \"imc\" para llamarla de esta manera en el resto del notebook."
      ]
    },
    {
      "cell_type": "code",
      "execution_count": null,
      "metadata": {
        "id": "qJwAMz1iWAc5"
      },
      "outputs": [],
      "source": [
        "imc = datos[\"imc\"]"
      ]
    },
    {
      "cell_type": "markdown",
      "metadata": {
        "id": "wuk0lNsBWAp2"
      },
      "source": [
        " ### 1. Tipo de la variable"
      ]
    },
    {
      "cell_type": "code",
      "execution_count": null,
      "metadata": {
        "colab": {
          "base_uri": "https://localhost:8080/",
          "height": 204
        },
        "id": "ehFS-6C5WAzb",
        "outputId": "103ee38f-5fd4-4e10-9725-aa9a5ba59aad",
        "collapsed": true
      },
      "outputs": [
        {
          "output_type": "execute_result",
          "data": {
            "text/plain": [
              "pandas.core.series.Series"
            ],
            "text/html": [
              "<div style=\"max-width:800px; border: 1px solid var(--colab-border-color);\"><style>\n",
              "      pre.function-repr-contents {\n",
              "        overflow-x: auto;\n",
              "        padding: 8px 12px;\n",
              "        max-height: 500px;\n",
              "      }\n",
              "\n",
              "      pre.function-repr-contents.function-repr-contents-collapsed {\n",
              "        cursor: pointer;\n",
              "        max-height: 100px;\n",
              "      }\n",
              "    </style>\n",
              "    <pre style=\"white-space: initial; background:\n",
              "         var(--colab-secondary-surface-color); padding: 8px 12px;\n",
              "         border-bottom: 1px solid var(--colab-border-color);\"><b>pandas.core.series.Series</b><br/>def __init__(data=None, index=None, dtype: Dtype | None=None, name=None, copy: bool | None=None, fastpath: bool | lib.NoDefault=lib.no_default) -&gt; None</pre><pre class=\"function-repr-contents function-repr-contents-collapsed\" style=\"\"><a class=\"filepath\" style=\"display:none\" href=\"#\">/usr/local/lib/python3.11/dist-packages/pandas/core/series.py</a>One-dimensional ndarray with axis labels (including time series).\n",
              "\n",
              "Labels need not be unique but must be a hashable type. The object\n",
              "supports both integer- and label-based indexing and provides a host of\n",
              "methods for performing operations involving the index. Statistical\n",
              "methods from ndarray have been overridden to automatically exclude\n",
              "missing data (currently represented as NaN).\n",
              "\n",
              "Operations between Series (+, -, /, \\*, \\*\\*) align values based on their\n",
              "associated index values-- they need not be the same length. The result\n",
              "index will be the sorted union of the two indexes.\n",
              "\n",
              "Parameters\n",
              "----------\n",
              "data : array-like, Iterable, dict, or scalar value\n",
              "    Contains data stored in Series. If data is a dict, argument order is\n",
              "    maintained.\n",
              "index : array-like or Index (1d)\n",
              "    Values must be hashable and have the same length as `data`.\n",
              "    Non-unique index values are allowed. Will default to\n",
              "    RangeIndex (0, 1, 2, ..., n) if not provided. If data is dict-like\n",
              "    and index is None, then the keys in the data are used as the index. If the\n",
              "    index is not None, the resulting Series is reindexed with the index values.\n",
              "dtype : str, numpy.dtype, or ExtensionDtype, optional\n",
              "    Data type for the output Series. If not specified, this will be\n",
              "    inferred from `data`.\n",
              "    See the :ref:`user guide &lt;basics.dtypes&gt;` for more usages.\n",
              "name : Hashable, default None\n",
              "    The name to give to the Series.\n",
              "copy : bool, default False\n",
              "    Copy input data. Only affects Series or 1d ndarray input. See examples.\n",
              "\n",
              "Notes\n",
              "-----\n",
              "Please reference the :ref:`User Guide &lt;basics.series&gt;` for more information.\n",
              "\n",
              "Examples\n",
              "--------\n",
              "Constructing Series from a dictionary with an Index specified\n",
              "\n",
              "&gt;&gt;&gt; d = {&#x27;a&#x27;: 1, &#x27;b&#x27;: 2, &#x27;c&#x27;: 3}\n",
              "&gt;&gt;&gt; ser = pd.Series(data=d, index=[&#x27;a&#x27;, &#x27;b&#x27;, &#x27;c&#x27;])\n",
              "&gt;&gt;&gt; ser\n",
              "a   1\n",
              "b   2\n",
              "c   3\n",
              "dtype: int64\n",
              "\n",
              "The keys of the dictionary match with the Index values, hence the Index\n",
              "values have no effect.\n",
              "\n",
              "&gt;&gt;&gt; d = {&#x27;a&#x27;: 1, &#x27;b&#x27;: 2, &#x27;c&#x27;: 3}\n",
              "&gt;&gt;&gt; ser = pd.Series(data=d, index=[&#x27;x&#x27;, &#x27;y&#x27;, &#x27;z&#x27;])\n",
              "&gt;&gt;&gt; ser\n",
              "x   NaN\n",
              "y   NaN\n",
              "z   NaN\n",
              "dtype: float64\n",
              "\n",
              "Note that the Index is first build with the keys from the dictionary.\n",
              "After this the Series is reindexed with the given Index values, hence we\n",
              "get all NaN as a result.\n",
              "\n",
              "Constructing Series from a list with `copy=False`.\n",
              "\n",
              "&gt;&gt;&gt; r = [1, 2]\n",
              "&gt;&gt;&gt; ser = pd.Series(r, copy=False)\n",
              "&gt;&gt;&gt; ser.iloc[0] = 999\n",
              "&gt;&gt;&gt; r\n",
              "[1, 2]\n",
              "&gt;&gt;&gt; ser\n",
              "0    999\n",
              "1      2\n",
              "dtype: int64\n",
              "\n",
              "Due to input data type the Series has a `copy` of\n",
              "the original data even though `copy=False`, so\n",
              "the data is unchanged.\n",
              "\n",
              "Constructing Series from a 1d ndarray with `copy=False`.\n",
              "\n",
              "&gt;&gt;&gt; r = np.array([1, 2])\n",
              "&gt;&gt;&gt; ser = pd.Series(r, copy=False)\n",
              "&gt;&gt;&gt; ser.iloc[0] = 999\n",
              "&gt;&gt;&gt; r\n",
              "array([999,   2])\n",
              "&gt;&gt;&gt; ser\n",
              "0    999\n",
              "1      2\n",
              "dtype: int64\n",
              "\n",
              "Due to input data type the Series has a `view` on\n",
              "the original data, so\n",
              "the data is changed as well.</pre>\n",
              "      <script>\n",
              "      if (google.colab.kernel.accessAllowed && google.colab.files && google.colab.files.view) {\n",
              "        for (const element of document.querySelectorAll('.filepath')) {\n",
              "          element.style.display = 'block'\n",
              "          element.onclick = (event) => {\n",
              "            event.preventDefault();\n",
              "            event.stopPropagation();\n",
              "            google.colab.files.view(element.textContent, 263);\n",
              "          };\n",
              "        }\n",
              "      }\n",
              "      for (const element of document.querySelectorAll('.function-repr-contents')) {\n",
              "        element.onclick = (event) => {\n",
              "          event.preventDefault();\n",
              "          event.stopPropagation();\n",
              "          element.classList.toggle('function-repr-contents-collapsed');\n",
              "        };\n",
              "      }\n",
              "      </script>\n",
              "      </div>"
            ]
          },
          "metadata": {},
          "execution_count": 20
        }
      ],
      "source": [
        "type(imc)"
      ]
    },
    {
      "cell_type": "markdown",
      "metadata": {
        "id": "J0Tomkia7CK5"
      },
      "source": [
        "#### NOTA sobre conversión de variables"
      ]
    },
    {
      "cell_type": "markdown",
      "metadata": {
        "id": "KmpNQkguzk45"
      },
      "source": [
        "Si la varible **NO ES NUMÉRICA...**\n",
        "pero está representando un valor CUANTITATIVO debemos hacer el cambio a un tipo de datos numérico como entero o double.\n",
        "\n"
      ]
    },
    {
      "cell_type": "markdown",
      "metadata": {
        "id": "vRFS2lIAWA8l"
      },
      "source": [
        "### 2. Número de valores distintos"
      ]
    },
    {
      "cell_type": "markdown",
      "source": [
        "La función `unique` identifica los **valores únicos** en un array o serie de Pandas.\n",
        "\n",
        "\n",
        "* **Entrada**: Un array o Serie de Pandas.\n",
        "* **Salida**: Un nuevo array con los valores únicos, sin repeticiones, ordenados.\n"
      ],
      "metadata": {
        "id": "ItMjP8Q3-CyK"
      }
    },
    {
      "cell_type": "code",
      "execution_count": null,
      "metadata": {
        "colab": {
          "base_uri": "https://localhost:8080/"
        },
        "id": "hE3TEFutWBEr",
        "outputId": "8840b329-a7dc-49f3-a85e-0c7c40ca2681"
      },
      "outputs": [
        {
          "output_type": "execute_result",
          "data": {
            "text/plain": [
              "643"
            ]
          },
          "metadata": {},
          "execution_count": 22
        }
      ],
      "source": [
        "len(imc.unique())"
      ]
    },
    {
      "cell_type": "markdown",
      "metadata": {
        "id": "Zus-Dtf3WCx7"
      },
      "source": [
        "### 3. Mediana, cuartiles"
      ]
    },
    {
      "cell_type": "code",
      "source": [
        "media_imc = np.mean(imc)\n",
        "mediana_imc = np.median(imc)\n",
        "cuartil3_imc = imc.quantile( 0.75)\n",
        "cuartil1_imc = imc.quantile( 0.25)\n",
        "print(\"Media:\", media_imc, \"\\n\")\n",
        "print(\"Mediana:\", mediana_imc, \"\\n\")\n",
        "print(\"Cuartil 1:\", cuartil1_imc, \"\\n\")\n",
        "print(\"Cuartil 3:\", cuartil3_imc, \"\\n\")"
      ],
      "metadata": {
        "colab": {
          "base_uri": "https://localhost:8080/"
        },
        "id": "QrGd3nKzA_6z",
        "outputId": "01ec6064-076f-486d-eaf8-d29a761a4463"
      },
      "execution_count": null,
      "outputs": [
        {
          "output_type": "stream",
          "name": "stdout",
          "text": [
            "Media: 28.107760000000003 \n",
            "\n",
            "Mediana: 27.51 \n",
            "\n",
            "Cuartil 1: 24.7975 \n",
            "\n",
            "Cuartil 3: 30.82 \n",
            "\n"
          ]
        }
      ]
    },
    {
      "cell_type": "markdown",
      "metadata": {
        "id": "wHkA6pi6WBQS"
      },
      "source": [
        "### 4. Recorrido / Rango"
      ]
    },
    {
      "cell_type": "code",
      "execution_count": null,
      "metadata": {
        "colab": {
          "base_uri": "https://localhost:8080/"
        },
        "id": "UBJ4emYeWBZb",
        "outputId": "4ff5b84d-ddda-40ad-a769-55e3424badaf"
      },
      "outputs": [
        {
          "output_type": "stream",
          "name": "stdout",
          "text": [
            "Rango Intercuartílico: 6.022500000000001\n"
          ]
        }
      ],
      "source": [
        "# Rango intercuartílico\n",
        "# Se calculan los cuartiles 3 y 1 (percentil 75 y 25) utilizando la función quantile() y se resta el cuartil 25% al cuartil 75%\n",
        "q75_imc = datos[\"imc\"].quantile(0.75)\n",
        "q25_imc = datos[\"imc\"].quantile(0.25)\n",
        "rango_intercuartilico_imc = q75_imc - q25_imc\n",
        "\n",
        "print(f\"Rango Intercuartílico (IQR): {rango_intercuartilico_imc}\")"
      ]
    },
    {
      "cell_type": "code",
      "source": [
        "print(f\"Mínimo: {datos['imc'].min()}\")\n",
        "print(f\"Máximo: {datos['imc'].max()}\")"
      ],
      "metadata": {
        "colab": {
          "base_uri": "https://localhost:8080/"
        },
        "id": "3-DG9fzl_PAI",
        "outputId": "c9cb1e40-5ff4-4cbb-d448-0256f9d2f5b3"
      },
      "execution_count": null,
      "outputs": [
        {
          "output_type": "stream",
          "name": "stdout",
          "text": [
            "Mínimo: 17.21\n",
            "Máximo: 48.39\n",
            "Media: 28.107760000000003\n"
          ]
        }
      ]
    },
    {
      "cell_type": "markdown",
      "metadata": {
        "id": "tjhrswsuWBi5"
      },
      "source": [
        "### 5. Desviación típica muestral"
      ]
    },
    {
      "cell_type": "code",
      "execution_count": null,
      "metadata": {
        "colab": {
          "base_uri": "https://localhost:8080/"
        },
        "id": "YHK6xg-eWBrd",
        "outputId": "f4b31199-cc86-43da-e7c0-c618dc8c9869"
      },
      "outputs": [
        {
          "output_type": "stream",
          "name": "stdout",
          "text": [
            "Desviación estándar: 4.717925052308398\n"
          ]
        }
      ],
      "source": [
        "desviacion_tipica_imc = imc.std()\n",
        "print(f\"Desviación estándar: {desviacion_tipica_imc}\")"
      ]
    },
    {
      "cell_type": "markdown",
      "metadata": {
        "id": "fPv6y6al75g5"
      },
      "source": [
        "#### **Tabla IMC**\n",
        "\n",
        "![image.png](data:image/png;base64,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)"
      ]
    },
    {
      "cell_type": "markdown",
      "source": [
        "Cómo está la población de este conjunto de datos según la tabla del IMC? 🤔\n"
      ],
      "metadata": {
        "id": "frCcW0XfAkyJ"
      }
    },
    {
      "cell_type": "markdown",
      "metadata": {
        "id": "CJP0pc_CWDEL"
      },
      "source": [
        "### 6. Representación mediante boxplot y valores atípicos"
      ]
    },
    {
      "cell_type": "markdown",
      "metadata": {
        "id": "_HtKk8tL_Qw7"
      },
      "source": [
        "#### Sobre los gráficos Boxplot (diagrama de caja)\n",
        "\n",
        "Representa datos numéricos en forma de *cuartiles*. Se utiliza en estadística para mostrar la forma de una *distribución de datos*."
      ]
    },
    {
      "cell_type": "markdown",
      "metadata": {
        "id": "QTcZVOLY_3da"
      },
      "source": [
        "![image.png](data:image/png;base64,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)\n",
        "\n",
        "Fuente: [R Graph Gallery](https://r-graph-gallery.com/boxplot.html)"
      ]
    },
    {
      "cell_type": "code",
      "execution_count": null,
      "metadata": {
        "colab": {
          "base_uri": "https://localhost:8080/"
        },
        "id": "f-50UzXB-9AS",
        "outputId": "8a1286b0-0467-46c7-ad8d-171200807162",
        "collapsed": true
      },
      "outputs": [
        {
          "output_type": "stream",
          "name": "stdout",
          "text": [
            "{'tab:blue': '#1f77b4', 'tab:orange': '#ff7f0e', 'tab:green': '#2ca02c', 'tab:red': '#d62728', 'tab:purple': '#9467bd', 'tab:brown': '#8c564b', 'tab:pink': '#e377c2', 'tab:gray': '#7f7f7f', 'tab:olive': '#bcbd22', 'tab:cyan': '#17becf'}\n"
          ]
        }
      ],
      "source": [
        "## LISTADO DE COLORES\n",
        "import matplotlib.colors as mcolors\n",
        "\n",
        "print(mcolors.TABLEAU_COLORS) #o BASE_COLORS, CSS4_COLORS\n",
        "#To see the output, run the code."
      ]
    },
    {
      "cell_type": "code",
      "source": [
        "# Colores por nombre\n",
        "xkcd_colors = list(mcolors.cnames.keys())\n",
        "for color in xkcd_colors:\n",
        "     #if color.startswith('xkcd:'):\n",
        "       print(color)"
      ],
      "metadata": {
        "colab": {
          "base_uri": "https://localhost:8080/"
        },
        "collapsed": true,
        "id": "2aWZ5oFWDjYe",
        "outputId": "d348cf91-978d-439e-8aef-f208e2413ed9"
      },
      "execution_count": null,
      "outputs": [
        {
          "output_type": "stream",
          "name": "stdout",
          "text": [
            "aliceblue\n",
            "antiquewhite\n",
            "aqua\n",
            "aquamarine\n",
            "azure\n",
            "beige\n",
            "bisque\n",
            "black\n",
            "blanchedalmond\n",
            "blue\n",
            "blueviolet\n",
            "brown\n",
            "burlywood\n",
            "cadetblue\n",
            "chartreuse\n",
            "chocolate\n",
            "coral\n",
            "cornflowerblue\n",
            "cornsilk\n",
            "crimson\n",
            "cyan\n",
            "darkblue\n",
            "darkcyan\n",
            "darkgoldenrod\n",
            "darkgray\n",
            "darkgreen\n",
            "darkgrey\n",
            "darkkhaki\n",
            "darkmagenta\n",
            "darkolivegreen\n",
            "darkorange\n",
            "darkorchid\n",
            "darkred\n",
            "darksalmon\n",
            "darkseagreen\n",
            "darkslateblue\n",
            "darkslategray\n",
            "darkslategrey\n",
            "darkturquoise\n",
            "darkviolet\n",
            "deeppink\n",
            "deepskyblue\n",
            "dimgray\n",
            "dimgrey\n",
            "dodgerblue\n",
            "firebrick\n",
            "floralwhite\n",
            "forestgreen\n",
            "fuchsia\n",
            "gainsboro\n",
            "ghostwhite\n",
            "gold\n",
            "goldenrod\n",
            "gray\n",
            "green\n",
            "greenyellow\n",
            "grey\n",
            "honeydew\n",
            "hotpink\n",
            "indianred\n",
            "indigo\n",
            "ivory\n",
            "khaki\n",
            "lavender\n",
            "lavenderblush\n",
            "lawngreen\n",
            "lemonchiffon\n",
            "lightblue\n",
            "lightcoral\n",
            "lightcyan\n",
            "lightgoldenrodyellow\n",
            "lightgray\n",
            "lightgreen\n",
            "lightgrey\n",
            "lightpink\n",
            "lightsalmon\n",
            "lightseagreen\n",
            "lightskyblue\n",
            "lightslategray\n",
            "lightslategrey\n",
            "lightsteelblue\n",
            "lightyellow\n",
            "lime\n",
            "limegreen\n",
            "linen\n",
            "magenta\n",
            "maroon\n",
            "mediumaquamarine\n",
            "mediumblue\n",
            "mediumorchid\n",
            "mediumpurple\n",
            "mediumseagreen\n",
            "mediumslateblue\n",
            "mediumspringgreen\n",
            "mediumturquoise\n",
            "mediumvioletred\n",
            "midnightblue\n",
            "mintcream\n",
            "mistyrose\n",
            "moccasin\n",
            "navajowhite\n",
            "navy\n",
            "oldlace\n",
            "olive\n",
            "olivedrab\n",
            "orange\n",
            "orangered\n",
            "orchid\n",
            "palegoldenrod\n",
            "palegreen\n",
            "paleturquoise\n",
            "palevioletred\n",
            "papayawhip\n",
            "peachpuff\n",
            "peru\n",
            "pink\n",
            "plum\n",
            "powderblue\n",
            "purple\n",
            "rebeccapurple\n",
            "red\n",
            "rosybrown\n",
            "royalblue\n",
            "saddlebrown\n",
            "salmon\n",
            "sandybrown\n",
            "seagreen\n",
            "seashell\n",
            "sienna\n",
            "silver\n",
            "skyblue\n",
            "slateblue\n",
            "slategray\n",
            "slategrey\n",
            "snow\n",
            "springgreen\n",
            "steelblue\n",
            "tan\n",
            "teal\n",
            "thistle\n",
            "tomato\n",
            "turquoise\n",
            "violet\n",
            "wheat\n",
            "white\n",
            "whitesmoke\n",
            "yellow\n",
            "yellowgreen\n"
          ]
        }
      ]
    },
    {
      "cell_type": "markdown",
      "source": [
        "Creando un boxplot con seaborn para los valores de IMC:\n",
        "\n"
      ],
      "metadata": {
        "id": "mQtHIxcVEIbr"
      }
    },
    {
      "cell_type": "code",
      "execution_count": null,
      "metadata": {
        "colab": {
          "base_uri": "https://localhost:8080/",
          "height": 434
        },
        "id": "w961VsfBWDNs",
        "outputId": "3d96a70a-57a3-44dc-d62d-6a1667737243"
      },
      "outputs": [
        {
          "output_type": "display_data",
          "data": {
            "text/plain": [
              "<Figure size 640x480 with 1 Axes>"
            ],
            "image/png": "[encoded data removed]"
          },
          "metadata": {}
        }
      ],
      "source": [
        "# Crear el boxplot\n",
        "sns.boxplot(y=imc, color=\"lightcoral\")\n",
        "\n",
        "# Personalizar el gráfico (opcional)\n",
        "plt.title(\"Boxplot de IMC de la población\")\n",
        "plt.ylabel(\"Edad\")\n",
        "\n",
        "# Mostrar el gráfico\n",
        "plt.show()"
      ]
    },
    {
      "cell_type": "markdown",
      "metadata": {
        "id": "-oDAOrvLWDWx"
      },
      "source": [
        "### 7. Comparar IMC según menopausia"
      ]
    },
    {
      "cell_type": "code",
      "source": [
        "sns.boxplot(x=datos[\"menop\"], y=imc, data=datos, hue=datos[\"menop\"], palette='Set3')\n",
        "\n",
        "# Personalizar el gráfico (opcional)\n",
        "plt.title('IMC según Menopausia')\n",
        "plt.xlabel('Menopausia (0 = No, 1 = Sí)')\n",
        "plt.ylabel('IMC')"
      ],
      "metadata": {
        "colab": {
          "base_uri": "https://localhost:8080/",
          "height": 490
        },
        "id": "IkBqFRFSE1n6",
        "outputId": "c24e5b10-b056-458d-8cb3-ce7577321313"
      },
      "execution_count": null,
      "outputs": [
        {
          "output_type": "execute_result",
          "data": {
            "text/plain": [
              "Text(0, 0.5, 'IMC')"
            ]
          },
          "metadata": {},
          "execution_count": 45
        },
        {
          "output_type": "display_data",
          "data": {
            "text/plain": [
              "<Figure size 640x480 with 1 Axes>"
            ],
            "image/png": "[encoded data removed]"
          },
          "metadata": {}
        }
      ]
    },
    {
      "cell_type": "markdown",
      "metadata": {
        "id": "aSIcZ0MnWDpy"
      },
      "source": [
        "### 8. Tabla de frecuencias absolutas"
      ]
    },
    {
      "cell_type": "code",
      "execution_count": null,
      "metadata": {
        "colab": {
          "base_uri": "https://localhost:8080/"
        },
        "id": "sXEz4zrvWDzK",
        "outputId": "9f9ad950-a11a-4b0a-f44e-9046599c6ff9"
      },
      "outputs": [
        {
          "output_type": "stream",
          "name": "stdout",
          "text": [
            "Frecuencia absoluta:\n",
            "imc\n",
            "25.97    7\n",
            "25.63    6\n",
            "27.34    6\n",
            "22.06    5\n",
            "25.59    5\n",
            "        ..\n",
            "33.89    1\n",
            "31.82    1\n",
            "38.82    1\n",
            "35.50    1\n",
            "34.63    1\n",
            "Name: count, Length: 643, dtype: int64\n"
          ]
        }
      ],
      "source": [
        "# Calcular la frecuencia absoluta\n",
        "frecuencia_absoluta_imc = imc.value_counts()\n",
        "print(\"Frecuencia absoluta:\\n\"+str(frecuencia_absoluta))"
      ]
    },
    {
      "cell_type": "markdown",
      "metadata": {
        "id": "WDb4xx8RW9G0"
      },
      "source": [
        "### 9. Agrupar en cinco clases de igual longitud"
      ]
    },
    {
      "cell_type": "code",
      "execution_count": null,
      "metadata": {
        "colab": {
          "base_uri": "https://localhost:8080/"
        },
        "id": "RGAydpn4WouR",
        "outputId": "5e8e9dd9-1f08-4440-e6bc-c05e82b710e7"
      },
      "outputs": [
        {
          "output_type": "stream",
          "name": "stdout",
          "text": [
            "0      (23.446, 29.682]\n",
            "1      (17.179, 23.446]\n",
            "2      (23.446, 29.682]\n",
            "3      (29.682, 35.918]\n",
            "4      (17.179, 23.446]\n",
            "             ...       \n",
            "995    (23.446, 29.682]\n",
            "996    (23.446, 29.682]\n",
            "997    (29.682, 35.918]\n",
            "998    (29.682, 35.918]\n",
            "999    (23.446, 29.682]\n",
            "Name: imc, Length: 1000, dtype: category\n",
            "Categories (5, interval[float64, right]): [(17.179, 23.446] < (23.446, 29.682] < (29.682, 35.918] <\n",
            "                                           (35.918, 42.154] < (42.154, 48.39]]\n"
          ]
        }
      ],
      "source": [
        "clases_imc = pd.cut(imc, bins = 5)\n",
        "print(clases_imc)"
      ]
    },
    {
      "cell_type": "code",
      "source": [
        "type(clases_imc)"
      ],
      "metadata": {
        "colab": {
          "base_uri": "https://localhost:8080/",
          "height": 204
        },
        "id": "TazW-RTMIvev",
        "outputId": "138d63bc-5978-4364-a0a5-55469d48aea5"
      },
      "execution_count": null,
      "outputs": [
        {
          "output_type": "execute_result",
          "data": {
            "text/plain": [
              "pandas.core.series.Series"
            ],
            "text/html": [
              "<div style=\"max-width:800px; border: 1px solid var(--colab-border-color);\"><style>\n",
              "      pre.function-repr-contents {\n",
              "        overflow-x: auto;\n",
              "        padding: 8px 12px;\n",
              "        max-height: 500px;\n",
              "      }\n",
              "\n",
              "      pre.function-repr-contents.function-repr-contents-collapsed {\n",
              "        cursor: pointer;\n",
              "        max-height: 100px;\n",
              "      }\n",
              "    </style>\n",
              "    <pre style=\"white-space: initial; background:\n",
              "         var(--colab-secondary-surface-color); padding: 8px 12px;\n",
              "         border-bottom: 1px solid var(--colab-border-color);\"><b>pandas.core.series.Series</b><br/>def __init__(data=None, index=None, dtype: Dtype | None=None, name=None, copy: bool | None=None, fastpath: bool | lib.NoDefault=lib.no_default) -&gt; None</pre><pre class=\"function-repr-contents function-repr-contents-collapsed\" style=\"\"><a class=\"filepath\" style=\"display:none\" href=\"#\">/usr/local/lib/python3.11/dist-packages/pandas/core/series.py</a>One-dimensional ndarray with axis labels (including time series).\n",
              "\n",
              "Labels need not be unique but must be a hashable type. The object\n",
              "supports both integer- and label-based indexing and provides a host of\n",
              "methods for performing operations involving the index. Statistical\n",
              "methods from ndarray have been overridden to automatically exclude\n",
              "missing data (currently represented as NaN).\n",
              "\n",
              "Operations between Series (+, -, /, \\*, \\*\\*) align values based on their\n",
              "associated index values-- they need not be the same length. The result\n",
              "index will be the sorted union of the two indexes.\n",
              "\n",
              "Parameters\n",
              "----------\n",
              "data : array-like, Iterable, dict, or scalar value\n",
              "    Contains data stored in Series. If data is a dict, argument order is\n",
              "    maintained.\n",
              "index : array-like or Index (1d)\n",
              "    Values must be hashable and have the same length as `data`.\n",
              "    Non-unique index values are allowed. Will default to\n",
              "    RangeIndex (0, 1, 2, ..., n) if not provided. If data is dict-like\n",
              "    and index is None, then the keys in the data are used as the index. If the\n",
              "    index is not None, the resulting Series is reindexed with the index values.\n",
              "dtype : str, numpy.dtype, or ExtensionDtype, optional\n",
              "    Data type for the output Series. If not specified, this will be\n",
              "    inferred from `data`.\n",
              "    See the :ref:`user guide &lt;basics.dtypes&gt;` for more usages.\n",
              "name : Hashable, default None\n",
              "    The name to give to the Series.\n",
              "copy : bool, default False\n",
              "    Copy input data. Only affects Series or 1d ndarray input. See examples.\n",
              "\n",
              "Notes\n",
              "-----\n",
              "Please reference the :ref:`User Guide &lt;basics.series&gt;` for more information.\n",
              "\n",
              "Examples\n",
              "--------\n",
              "Constructing Series from a dictionary with an Index specified\n",
              "\n",
              "&gt;&gt;&gt; d = {&#x27;a&#x27;: 1, &#x27;b&#x27;: 2, &#x27;c&#x27;: 3}\n",
              "&gt;&gt;&gt; ser = pd.Series(data=d, index=[&#x27;a&#x27;, &#x27;b&#x27;, &#x27;c&#x27;])\n",
              "&gt;&gt;&gt; ser\n",
              "a   1\n",
              "b   2\n",
              "c   3\n",
              "dtype: int64\n",
              "\n",
              "The keys of the dictionary match with the Index values, hence the Index\n",
              "values have no effect.\n",
              "\n",
              "&gt;&gt;&gt; d = {&#x27;a&#x27;: 1, &#x27;b&#x27;: 2, &#x27;c&#x27;: 3}\n",
              "&gt;&gt;&gt; ser = pd.Series(data=d, index=[&#x27;x&#x27;, &#x27;y&#x27;, &#x27;z&#x27;])\n",
              "&gt;&gt;&gt; ser\n",
              "x   NaN\n",
              "y   NaN\n",
              "z   NaN\n",
              "dtype: float64\n",
              "\n",
              "Note that the Index is first build with the keys from the dictionary.\n",
              "After this the Series is reindexed with the given Index values, hence we\n",
              "get all NaN as a result.\n",
              "\n",
              "Constructing Series from a list with `copy=False`.\n",
              "\n",
              "&gt;&gt;&gt; r = [1, 2]\n",
              "&gt;&gt;&gt; ser = pd.Series(r, copy=False)\n",
              "&gt;&gt;&gt; ser.iloc[0] = 999\n",
              "&gt;&gt;&gt; r\n",
              "[1, 2]\n",
              "&gt;&gt;&gt; ser\n",
              "0    999\n",
              "1      2\n",
              "dtype: int64\n",
              "\n",
              "Due to input data type the Series has a `copy` of\n",
              "the original data even though `copy=False`, so\n",
              "the data is unchanged.\n",
              "\n",
              "Constructing Series from a 1d ndarray with `copy=False`.\n",
              "\n",
              "&gt;&gt;&gt; r = np.array([1, 2])\n",
              "&gt;&gt;&gt; ser = pd.Series(r, copy=False)\n",
              "&gt;&gt;&gt; ser.iloc[0] = 999\n",
              "&gt;&gt;&gt; r\n",
              "array([999,   2])\n",
              "&gt;&gt;&gt; ser\n",
              "0    999\n",
              "1      2\n",
              "dtype: int64\n",
              "\n",
              "Due to input data type the Series has a `view` on\n",
              "the original data, so\n",
              "the data is changed as well.</pre>\n",
              "      <script>\n",
              "      if (google.colab.kernel.accessAllowed && google.colab.files && google.colab.files.view) {\n",
              "        for (const element of document.querySelectorAll('.filepath')) {\n",
              "          element.style.display = 'block'\n",
              "          element.onclick = (event) => {\n",
              "            event.preventDefault();\n",
              "            event.stopPropagation();\n",
              "            google.colab.files.view(element.textContent, 263);\n",
              "          };\n",
              "        }\n",
              "      }\n",
              "      for (const element of document.querySelectorAll('.function-repr-contents')) {\n",
              "        element.onclick = (event) => {\n",
              "          event.preventDefault();\n",
              "          event.stopPropagation();\n",
              "          element.classList.toggle('function-repr-contents-collapsed');\n",
              "        };\n",
              "      }\n",
              "      </script>\n",
              "      </div>"
            ]
          },
          "metadata": {},
          "execution_count": 52
        }
      ]
    },
    {
      "cell_type": "markdown",
      "metadata": {
        "id": "-eaHoIjCXACM"
      },
      "source": [
        "### 10. Representar las clases mediante un histograma"
      ]
    },
    {
      "cell_type": "code",
      "source": [
        "# Crear el histograma\n",
        "plt.hist(datos[\"imc\"], bins=5, color='skyblue', edgecolor='black')\n",
        "\n",
        "# Añadir etiquetas y título\n",
        "plt.xlabel('IMC')\n",
        "plt.ylabel('Densidad')\n",
        "plt.title('Histograma de IMC')"
      ],
      "metadata": {
        "colab": {
          "base_uri": "https://localhost:8080/",
          "height": 489
        },
        "id": "WRq6_HaIHhC_",
        "outputId": "a72710f4-6ed7-4a3b-ef85-b3d492601b22"
      },
      "execution_count": null,
      "outputs": [
        {
          "output_type": "execute_result",
          "data": {
            "text/plain": [
              "Text(0.5, 1.0, 'Histograma de IMC')"
            ]
          },
          "metadata": {},
          "execution_count": 51
        },
        {
          "output_type": "display_data",
          "data": {
            "text/plain": [
              "<Figure size 640x480 with 1 Axes>"
            ],
            "image/png": "[encoded data removed]"
          },
          "metadata": {}
        }
      ]
    },
    {
      "cell_type": "markdown",
      "metadata": {
        "id": "9D1cgvu5XCH5"
      },
      "source": [
        "Calcular el porcentaje de datos en cada clase"
      ]
    },
    {
      "cell_type": "code",
      "source": [
        "# Contar la frecuencia de cada intervalo\n",
        "frecuencia_grupos_imc = clases_imc.value_counts()\n",
        "\n",
        "# Calcular el porcentaje\n",
        "porcentaje_grupos_imc = (frecuencia_grupos_imc / len(imc)) * 100\n",
        "\n",
        "# Mostrar los resultados\n",
        "print(\"Frecuencia de cada intervalo:\\n\", frecuencia_grupos_imc)\n",
        "print(\"\\nPorcentaje de datos en cada intervalo:\\n\", porcentaje_grupos_imc)"
      ],
      "metadata": {
        "colab": {
          "base_uri": "https://localhost:8080/"
        },
        "id": "7e3_Xf7-Jexv",
        "outputId": "a3294580-d9fb-4f09-9610-e283e6653f40"
      },
      "execution_count": null,
      "outputs": [
        {
          "output_type": "stream",
          "name": "stdout",
          "text": [
            "Frecuencia de cada intervalo:\n",
            " imc\n",
            "(23.446, 29.682]    515\n",
            "(29.682, 35.918]    255\n",
            "(17.179, 23.446]    167\n",
            "(35.918, 42.154]     54\n",
            "(42.154, 48.39]       9\n",
            "Name: count, dtype: int64\n",
            "\n",
            "Porcentaje de datos en cada intervalo:\n",
            " imc\n",
            "(23.446, 29.682]    51.5\n",
            "(29.682, 35.918]    25.5\n",
            "(17.179, 23.446]    16.7\n",
            "(35.918, 42.154]     5.4\n",
            "(42.154, 48.39]      0.9\n",
            "Name: count, dtype: float64\n"
          ]
        }
      ]
    },
    {
      "cell_type": "markdown",
      "metadata": {
        "id": "IokoGCWGXEyc"
      },
      "source": [
        "### 11. Valores entre los que se mueve el 80% central de la muestra"
      ]
    },
    {
      "cell_type": "code",
      "source": [
        "# Calcular los percentiles 10 y 90\n",
        "percentil_10_imc = imc.quantile(0.10)\n",
        "percentil_90_imc = imc.quantile(0.90)\n",
        "\n",
        "# Seleccionar / filtrar los datos dentro del 80% central\n",
        "datos_centrales_80 = datos[(datos['imc'] >= percentil_10_imc) & (datos['imc'] <= percentil_90_imc)]\n",
        "\n",
        "# Mostrar los resultados\n",
        "print(\"Percentil 10:\", percentil_10_imc)\n",
        "print(\"Percentil 90:\", percentil_90_imc)\n",
        "print(\"\\nDatos centrales:\\n\", datos_centrales_80)"
      ],
      "metadata": {
        "colab": {
          "base_uri": "https://localhost:8080/"
        },
        "collapsed": true,
        "id": "csl2d5TxKTrV",
        "outputId": "a73b6514-ae86-4657-f287-db330b6d4aa4"
      },
      "execution_count": null,
      "outputs": [
        {
          "output_type": "stream",
          "name": "stdout",
          "text": [
            "Percentil 10: 22.476\n",
            "Percentil 90: 34.48\n",
            "\n",
            "Datos centrales:\n",
            "      registro  area        f_nac  edad grupedad  peso  talla    imc  bua  \\\n",
            "0           3    10  11659420800    57  55 - 59  70.0  168.0  24.80   69   \n",
            "1           4    10  11671689600    46  45 - 49  53.0  152.0  22.94   73   \n",
            "2          10    10  11721024000    45  45 - 49  64.0  158.0  25.64   81   \n",
            "3          11    10  11464416000    53  50 - 54  78.0  161.0  30.09   58   \n",
            "4          12    10  11690784000    46  45 - 49  56.0  157.0  22.72   89   \n",
            "..        ...   ...          ...   ...      ...   ...    ...    ...  ...   \n",
            "994      1028    11  11190182400    63  60 - 64  71.0  161.0  27.39   57   \n",
            "995      1029    11  11287036800    60  60 - 64  64.0  158.0  25.64   69   \n",
            "996      1030    11  11066371200    67  65 - 69  68.0  157.0  27.59   75   \n",
            "997      1031    11  11289196800    59  55 - 59  72.0  153.0  30.76   67   \n",
            "999      1033    11  11213164800    62  60 - 64  67.0  161.0  25.85   65   \n",
            "\n",
            "       clasific  menarqui  edad_men menop                 tipo_men  \\\n",
            "0    OSTEOPENIA        12        99    NO  NO MENOPAUSIA/NO CONSTA   \n",
            "1    OSTEOPENIA        13        99    NO  NO MENOPAUSIA/NO CONSTA   \n",
            "2        NORMAL        14        99    NO  NO MENOPAUSIA/NO CONSTA   \n",
            "3    OSTEOPENIA        10        50    SI                  NATURAL   \n",
            "4        NORMAL        13        99    NO  NO MENOPAUSIA/NO CONSTA   \n",
            "..          ...       ...       ...   ...                      ...   \n",
            "994  OSTEOPENIA        14        48    SI                  NATURAL   \n",
            "995  OSTEOPENIA        10        40    SI                    AMBAS   \n",
            "996      NORMAL        11        55    SI                  NATURAL   \n",
            "997  OSTEOPENIA        12        56    SI                  NATURAL   \n",
            "999  OSTEOPENIA        13        54    SI                  NATURAL   \n",
            "\n",
            "                    nivel_ed  \n",
            "0                SECUNDARIOS  \n",
            "1                SECUNDARIOS  \n",
            "2                  PRIMARIOS  \n",
            "3                  PRIMARIOS  \n",
            "4                  PRIMARIOS  \n",
            "..                       ...  \n",
            "994                PRIMARIOS  \n",
            "995               SUPERIORES  \n",
            "996  PRIMARIOS SIN FINALIZAR  \n",
            "997                PRIMARIOS  \n",
            "999              SECUNDARIOS  \n",
            "\n",
            "[801 rows x 15 columns]\n"
          ]
        }
      ]
    },
    {
      "cell_type": "markdown",
      "metadata": {
        "id": "Kq3zPqwBXF69"
      },
      "source": [
        "### 12. Dibujo del diagrama de densidad"
      ]
    },
    {
      "cell_type": "markdown",
      "source": [
        "Un **diagrama de densidad** en `Seaborn`, también conocido como gráfico de *densidad del núcleo* (KDE), es una excelente manera de visualizar la ***distribución de una variable numérica***.\n",
        "\n",
        "\n",
        "A diferencia de un histograma, que muestra la frecuencia de los datos en barras, un diagrama de densidad utiliza una **curva** suave para estimar la *función de densidad de probabilidad* subyacente."
      ],
      "metadata": {
        "id": "DXrVkdmBMF9P"
      }
    },
    {
      "cell_type": "code",
      "source": [
        "# Crear el diagrama de densidad\n",
        "sns.kdeplot(imc,fill=True, color=\"violet\")\n",
        "\n",
        "# Personalizar el gráfico (opcional)\n",
        "plt.title(\"Diagrama de Densidad de IMC\")\n",
        "plt.xlabel(\"IMC\")\n",
        "plt.ylabel(\"Densidad\")\n",
        "\n",
        "# Mostrar el gráfico\n",
        "plt.show()"
      ],
      "metadata": {
        "colab": {
          "base_uri": "https://localhost:8080/",
          "height": 472
        },
        "id": "mQ4aBF7PLllw",
        "outputId": "367712b2-4e17-42cb-fd5d-06618e63e695"
      },
      "execution_count": null,
      "outputs": [
        {
          "output_type": "display_data",
          "data": {
            "text/plain": [
              "<Figure size 640x480 with 1 Axes>"
            ],
            "image/png": "[encoded data removed]"
          },
          "metadata": {}
        }
      ]
    },
    {
      "cell_type": "markdown",
      "metadata": {
        "id": "-F1h42WaXJwx"
      },
      "source": [
        "## Parte 3"
      ]
    },
    {
      "cell_type": "markdown",
      "metadata": {
        "id": "z2fnUYCbXcPZ"
      },
      "source": [
        "Filtrar la variable \"tipo_men\""
      ]
    },
    {
      "cell_type": "code",
      "execution_count": null,
      "metadata": {
        "id": "oXQJG_iBXgOW"
      },
      "outputs": [],
      "source": [
        "tipo_men = datos[\"tipo_men\"]"
      ]
    },
    {
      "cell_type": "markdown",
      "metadata": {
        "id": "d_yvGYwkXeJ-"
      },
      "source": [
        "### 1. Tipo de variable:\n",
        "\n",
        "Identificamos si es numérica, categórica o de otro tipo."
      ]
    },
    {
      "cell_type": "code",
      "execution_count": null,
      "metadata": {
        "colab": {
          "base_uri": "https://localhost:8080/",
          "height": 204
        },
        "id": "tVt8TpBYXiD2",
        "outputId": "1b64443d-f11f-4aa9-b7d0-38af315f6782",
        "collapsed": true
      },
      "outputs": [
        {
          "output_type": "execute_result",
          "data": {
            "text/plain": [
              "pandas.core.series.Series"
            ],
            "text/html": [
              "<div style=\"max-width:800px; border: 1px solid var(--colab-border-color);\"><style>\n",
              "      pre.function-repr-contents {\n",
              "        overflow-x: auto;\n",
              "        padding: 8px 12px;\n",
              "        max-height: 500px;\n",
              "      }\n",
              "\n",
              "      pre.function-repr-contents.function-repr-contents-collapsed {\n",
              "        cursor: pointer;\n",
              "        max-height: 100px;\n",
              "      }\n",
              "    </style>\n",
              "    <pre style=\"white-space: initial; background:\n",
              "         var(--colab-secondary-surface-color); padding: 8px 12px;\n",
              "         border-bottom: 1px solid var(--colab-border-color);\"><b>pandas.core.series.Series</b><br/>def __init__(data=None, index=None, dtype: Dtype | None=None, name=None, copy: bool | None=None, fastpath: bool | lib.NoDefault=lib.no_default) -&gt; None</pre><pre class=\"function-repr-contents function-repr-contents-collapsed\" style=\"\"><a class=\"filepath\" style=\"display:none\" href=\"#\">/usr/local/lib/python3.11/dist-packages/pandas/core/series.py</a>One-dimensional ndarray with axis labels (including time series).\n",
              "\n",
              "Labels need not be unique but must be a hashable type. The object\n",
              "supports both integer- and label-based indexing and provides a host of\n",
              "methods for performing operations involving the index. Statistical\n",
              "methods from ndarray have been overridden to automatically exclude\n",
              "missing data (currently represented as NaN).\n",
              "\n",
              "Operations between Series (+, -, /, \\*, \\*\\*) align values based on their\n",
              "associated index values-- they need not be the same length. The result\n",
              "index will be the sorted union of the two indexes.\n",
              "\n",
              "Parameters\n",
              "----------\n",
              "data : array-like, Iterable, dict, or scalar value\n",
              "    Contains data stored in Series. If data is a dict, argument order is\n",
              "    maintained.\n",
              "index : array-like or Index (1d)\n",
              "    Values must be hashable and have the same length as `data`.\n",
              "    Non-unique index values are allowed. Will default to\n",
              "    RangeIndex (0, 1, 2, ..., n) if not provided. If data is dict-like\n",
              "    and index is None, then the keys in the data are used as the index. If the\n",
              "    index is not None, the resulting Series is reindexed with the index values.\n",
              "dtype : str, numpy.dtype, or ExtensionDtype, optional\n",
              "    Data type for the output Series. If not specified, this will be\n",
              "    inferred from `data`.\n",
              "    See the :ref:`user guide &lt;basics.dtypes&gt;` for more usages.\n",
              "name : Hashable, default None\n",
              "    The name to give to the Series.\n",
              "copy : bool, default False\n",
              "    Copy input data. Only affects Series or 1d ndarray input. See examples.\n",
              "\n",
              "Notes\n",
              "-----\n",
              "Please reference the :ref:`User Guide &lt;basics.series&gt;` for more information.\n",
              "\n",
              "Examples\n",
              "--------\n",
              "Constructing Series from a dictionary with an Index specified\n",
              "\n",
              "&gt;&gt;&gt; d = {&#x27;a&#x27;: 1, &#x27;b&#x27;: 2, &#x27;c&#x27;: 3}\n",
              "&gt;&gt;&gt; ser = pd.Series(data=d, index=[&#x27;a&#x27;, &#x27;b&#x27;, &#x27;c&#x27;])\n",
              "&gt;&gt;&gt; ser\n",
              "a   1\n",
              "b   2\n",
              "c   3\n",
              "dtype: int64\n",
              "\n",
              "The keys of the dictionary match with the Index values, hence the Index\n",
              "values have no effect.\n",
              "\n",
              "&gt;&gt;&gt; d = {&#x27;a&#x27;: 1, &#x27;b&#x27;: 2, &#x27;c&#x27;: 3}\n",
              "&gt;&gt;&gt; ser = pd.Series(data=d, index=[&#x27;x&#x27;, &#x27;y&#x27;, &#x27;z&#x27;])\n",
              "&gt;&gt;&gt; ser\n",
              "x   NaN\n",
              "y   NaN\n",
              "z   NaN\n",
              "dtype: float64\n",
              "\n",
              "Note that the Index is first build with the keys from the dictionary.\n",
              "After this the Series is reindexed with the given Index values, hence we\n",
              "get all NaN as a result.\n",
              "\n",
              "Constructing Series from a list with `copy=False`.\n",
              "\n",
              "&gt;&gt;&gt; r = [1, 2]\n",
              "&gt;&gt;&gt; ser = pd.Series(r, copy=False)\n",
              "&gt;&gt;&gt; ser.iloc[0] = 999\n",
              "&gt;&gt;&gt; r\n",
              "[1, 2]\n",
              "&gt;&gt;&gt; ser\n",
              "0    999\n",
              "1      2\n",
              "dtype: int64\n",
              "\n",
              "Due to input data type the Series has a `copy` of\n",
              "the original data even though `copy=False`, so\n",
              "the data is unchanged.\n",
              "\n",
              "Constructing Series from a 1d ndarray with `copy=False`.\n",
              "\n",
              "&gt;&gt;&gt; r = np.array([1, 2])\n",
              "&gt;&gt;&gt; ser = pd.Series(r, copy=False)\n",
              "&gt;&gt;&gt; ser.iloc[0] = 999\n",
              "&gt;&gt;&gt; r\n",
              "array([999,   2])\n",
              "&gt;&gt;&gt; ser\n",
              "0    999\n",
              "1      2\n",
              "dtype: int64\n",
              "\n",
              "Due to input data type the Series has a `view` on\n",
              "the original data, so\n",
              "the data is changed as well.</pre>\n",
              "      <script>\n",
              "      if (google.colab.kernel.accessAllowed && google.colab.files && google.colab.files.view) {\n",
              "        for (const element of document.querySelectorAll('.filepath')) {\n",
              "          element.style.display = 'block'\n",
              "          element.onclick = (event) => {\n",
              "            event.preventDefault();\n",
              "            event.stopPropagation();\n",
              "            google.colab.files.view(element.textContent, 263);\n",
              "          };\n",
              "        }\n",
              "      }\n",
              "      for (const element of document.querySelectorAll('.function-repr-contents')) {\n",
              "        element.onclick = (event) => {\n",
              "          event.preventDefault();\n",
              "          event.stopPropagation();\n",
              "          element.classList.toggle('function-repr-contents-collapsed');\n",
              "        };\n",
              "      }\n",
              "      </script>\n",
              "      </div>"
            ]
          },
          "metadata": {},
          "execution_count": 63
        }
      ],
      "source": [
        "# 1. Tipo de la variable\n",
        "type(tipo_men)"
      ]
    },
    {
      "cell_type": "markdown",
      "metadata": {
        "id": "wmNyijbcX4XW"
      },
      "source": [
        "### 2. Número / cantidad de valores distintos"
      ]
    },
    {
      "cell_type": "code",
      "execution_count": null,
      "metadata": {
        "colab": {
          "base_uri": "https://localhost:8080/"
        },
        "id": "c3xQjGORXmj-",
        "outputId": "3b84c92a-4cc8-454e-bafd-cfbe19e34461"
      },
      "outputs": [
        {
          "output_type": "execute_result",
          "data": {
            "text/plain": [
              "array(['NO MENOPAUSIA/NO CONSTA', 'NATURAL', 'AMBAS', 'OVARIECTOMIA',\n",
              "       'HISTERECTOMIA'], dtype=object)"
            ]
          },
          "metadata": {},
          "execution_count": 64
        }
      ],
      "source": [
        "tipo_men.unique()"
      ]
    },
    {
      "cell_type": "markdown",
      "metadata": {
        "id": "xYdw5PQUX5r-"
      },
      "source": [
        "### 3. Tablas de frecuencias absolutas y relativas\n",
        "frecuencias absolutas y relativas:\n",
        "\n",
        "`value_counts()`\n",
        "\n",
        "\n"
      ]
    },
    {
      "cell_type": "code",
      "source": [
        "# Calcular la frecuencia absoluta\n",
        "frecuencia_absoluta_tm = datos[\"tipo_men\"].value_counts()\n",
        "\n",
        "# Calcular la frecuencia relativa\n",
        "frecuencia_relativa_tm = datos[\"tipo_men\"].value_counts(normalize=True)\n",
        "\n",
        "print(\"Frecuencia absoluta:\\n\"+str(frecuencia_absoluta_tm))\n",
        "print(\"Frecuencia relativa:\\n\"+str(frecuencia_relativa_tm))"
      ],
      "metadata": {
        "colab": {
          "base_uri": "https://localhost:8080/"
        },
        "id": "2aOSmX9XN3lV",
        "outputId": "e88e1d3d-3a80-4752-b826-8a2f9077c487"
      },
      "execution_count": null,
      "outputs": [
        {
          "output_type": "stream",
          "name": "stdout",
          "text": [
            "Frecuencia absoluta:\n",
            "tipo_men\n",
            "NATURAL                    544\n",
            "NO MENOPAUSIA/NO CONSTA    303\n",
            "AMBAS                       79\n",
            "HISTERECTOMIA               63\n",
            "OVARIECTOMIA                11\n",
            "Name: count, dtype: int64\n",
            "Frecuencia relativa:\n",
            "tipo_men\n",
            "NATURAL                    0.544\n",
            "NO MENOPAUSIA/NO CONSTA    0.303\n",
            "AMBAS                      0.079\n",
            "HISTERECTOMIA              0.063\n",
            "OVARIECTOMIA               0.011\n",
            "Name: proportion, dtype: float64\n"
          ]
        }
      ]
    },
    {
      "cell_type": "markdown",
      "metadata": {
        "id": "2aLF5rCGYQZS"
      },
      "source": [
        "\n",
        "### 4. Tablas de frecuencias acumuladas\n",
        "\n",
        "**Tablas acumuladas**: Solo tienen sentido para variables *ordinales*, las cuales tienen un orden lógico (por ejemplo, \"bajo\", \"medio\", \"alto\").\n",
        "\n",
        "Usaremos `dtype` para conocer el tipo de la variable que estamos analizando.\n",
        "\n",
        "`isinstance(objeto, tipo)` es una función incorporada de Python que verifica si un objeto es una instancia de un tipo específico.\n",
        "\n",
        "En conjunto podremos saber si la variable analizada es una *variable categórica* en **Pandas**."
      ]
    },
    {
      "cell_type": "code",
      "source": [
        "#es_ordinal = pd.api.types.is_categorical_dtype(tipo_men) and tipo_men.cat.ordered\n",
        "es_ordinal = isinstance(tipo_men.dtype, pd.CategoricalDtype) and tipo_men.cat.ordered\n",
        "print(f\"¿Tiene sentido calcular tablas de frecuencias acumuladas? {es_ordinal}\\n\")\n",
        "\n",
        "if es_ordinal:\n",
        "    frecuencia_absoluta_tm = tipo_men.value_counts().sort_index()\n",
        "    frecuencia_relativa_tm = tipo_men.value_counts(normalize=True).sort_index()\n",
        "\n",
        "    frecuencia_acumulada_tm = frecuencia_absoluta_tm.cumsum()\n",
        "    frecuencia_relativa_acumulada_tm = frecuencia_relativa_tm.cumsum()\n",
        "\n",
        "    print(\"Tabla de frecuencias acumuladas:\\n\")\n",
        "    print(frecuencia_acumulada_tm)\n",
        "\n",
        "    print(\"\\nTabla de frecuencias relativas acumuladas:\\n\")\n",
        "    print(frecuencia_relativa_acumulada_tm)"
      ],
      "metadata": {
        "colab": {
          "base_uri": "https://localhost:8080/"
        },
        "id": "sl4mu-2jPExZ",
        "outputId": "32169c28-f6f8-48bd-c639-673845548b02"
      },
      "execution_count": null,
      "outputs": [
        {
          "output_type": "stream",
          "name": "stdout",
          "text": [
            "¿Tiene sentido calcular tablas de frecuencias acumuladas? False\n",
            "\n"
          ]
        }
      ]
    },
    {
      "cell_type": "markdown",
      "metadata": {
        "id": "Z0Xz_HhcYjbg"
      },
      "source": [
        "5. Medidas de centralización\n",
        "\n",
        "Para variables categóricas, se usa la **moda** como medida de centralización."
      ]
    },
    {
      "cell_type": "code",
      "source": [
        "# Calcular la moda\n",
        "moda_tm = datos['tipo_men'].mode()\n",
        "\n",
        "# Mostrar los resultados\n",
        "print(\"Moda:\\n\", moda_tm)"
      ],
      "metadata": {
        "colab": {
          "base_uri": "https://localhost:8080/"
        },
        "id": "buP2VeQuTAOa",
        "outputId": "9f501d8d-b0e7-412d-e912-c314919d3dfa"
      },
      "execution_count": null,
      "outputs": [
        {
          "output_type": "stream",
          "name": "stdout",
          "text": [
            "Moda:\n",
            " 0    NATURAL\n",
            "Name: tipo_men, dtype: object\n"
          ]
        }
      ]
    },
    {
      "cell_type": "markdown",
      "metadata": {
        "id": "W8bUl2isYvTl"
      },
      "source": [
        "6. Representación de las frecuencias absolutas\n",
        "\n",
        "Usamos un diagrama de barras (barplot()) para representar las frecuencias absolutas."
      ]
    },
    {
      "cell_type": "code",
      "source": [
        "# Crear el diagrama de barras\n",
        "# agregar hue para eliminar el aviso de deprecated!\n",
        "sns.barplot(x=frecuencia_absoluta_tm.index.tolist(), y=frecuencia_absoluta_tm, palette='tab10')\n",
        "\n",
        "# Personalizar el gráfico (opcional)\n",
        "plt.title(\"Frecuencias Absolutas de Tipo de Menstruación\")\n",
        "plt.xlabel(\"Tipo de Menstruación\")\n",
        "plt.ylabel(\"Frecuencias\")\n",
        "#plt.xticks(rotation=45)  # Rotar las etiquetas 45 grados\n",
        "\n",
        "# Mostrar el gráfico\n",
        "plt.show()"
      ],
      "metadata": {
        "colab": {
          "base_uri": "https://localhost:8080/",
          "height": 560
        },
        "id": "tugzgAM_TcrN",
        "outputId": "e3fce8c2-ff64-4939-ebe3-ed5a52cbbe84"
      },
      "execution_count": null,
      "outputs": [
        {
          "output_type": "stream",
          "name": "stderr",
          "text": [
            "<ipython-input-91-6a0ac90a7fa2>:2: FutureWarning: \n",
            "\n",
            "Passing `palette` without assigning `hue` is deprecated and will be removed in v0.14.0. Assign the `x` variable to `hue` and set `legend=False` for the same effect.\n",
            "\n",
            "  sns.barplot(x=frecuencia_absoluta_tm.index.tolist(), y=frecuencia_absoluta_tm, palette='tab10')\n"
          ]
        },
        {
          "output_type": "display_data",
          "data": {
            "text/plain": [
              "<Figure size 640x480 with 1 Axes>"
            ],
            "image/png": "[encoded data removed]"
          },
          "metadata": {}
        }
      ]
    },
    {
      "cell_type": "markdown",
      "metadata": {
        "id": "wYT-6LNTFm0r"
      },
      "source": [
        "Personalización de paletas en *Seaborn*: [\"Cómo elegir paletas de colores\" ](https://seaborn.pydata.org/tutorial/color_palettes.html)"
      ]
    },
    {
      "cell_type": "markdown",
      "metadata": {
        "id": "sOGjNc6cY5Rn"
      },
      "source": [
        "## Parte 4\n",
        "\n",
        "AQUI"
      ]
    },
    {
      "cell_type": "markdown",
      "metadata": {
        "id": "g9mRTVn3Y9CK"
      },
      "source": [
        "Filtrar la variable \"nivel_ed\""
      ]
    },
    {
      "cell_type": "code",
      "execution_count": 4,
      "metadata": {
        "id": "3S_0zlRxY-ye"
      },
      "outputs": [],
      "source": [
        "nivel_ed = datos[\"nivel_ed\"]"
      ]
    },
    {
      "cell_type": "markdown",
      "metadata": {
        "id": "yLRDPaN5ZQZo"
      },
      "source": [
        "### 1. Tipo de la variable"
      ]
    },
    {
      "cell_type": "code",
      "execution_count": 12,
      "metadata": {
        "colab": {
          "base_uri": "https://localhost:8080/"
        },
        "id": "aoyHH9qSZBgJ",
        "outputId": "6baa1d1e-dd1c-443c-bbda-0da7a671610f"
      },
      "outputs": [
        {
          "output_type": "execute_result",
          "data": {
            "text/plain": [
              "dtype('O')"
            ]
          },
          "metadata": {},
          "execution_count": 12
        }
      ],
      "source": [
        "datos[\"nivel_ed\"].dtype"
      ]
    },
    {
      "cell_type": "markdown",
      "source": [
        "dtype('O') significa objeto.\n",
        "\n",
        "Se utiliza para almacenar cadenas de texto (`strings`), pero también puede contener datos de **tipos mixtos**.\n",
        "\n"
      ],
      "metadata": {
        "id": "IQ9ARf4Owx2P"
      }
    },
    {
      "cell_type": "code",
      "source": [
        "nivel_ed.head()"
      ],
      "metadata": {
        "colab": {
          "base_uri": "https://localhost:8080/",
          "height": 241
        },
        "id": "4c_ZBFhEvw1F",
        "outputId": "c86261be-dca0-48a7-e4a1-f9492897047c"
      },
      "execution_count": 6,
      "outputs": [
        {
          "output_type": "execute_result",
          "data": {
            "text/plain": [
              "0    SECUNDARIOS\n",
              "1    SECUNDARIOS\n",
              "2      PRIMARIOS\n",
              "3      PRIMARIOS\n",
              "4      PRIMARIOS\n",
              "Name: nivel_ed, dtype: object"
            ],
            "text/html": [
              "<div>\n",
              "<style scoped>\n",
              "    .dataframe tbody tr th:only-of-type {\n",
              "        vertical-align: middle;\n",
              "    }\n",
              "\n",
              "    .dataframe tbody tr th {\n",
              "        vertical-align: top;\n",
              "    }\n",
              "\n",
              "    .dataframe thead th {\n",
              "        text-align: right;\n",
              "    }\n",
              "</style>\n",
              "<table border=\"1\" class=\"dataframe\">\n",
              "  <thead>\n",
              "    <tr style=\"text-align: right;\">\n",
              "      <th></th>\n",
              "      <th>nivel_ed</th>\n",
              "    </tr>\n",
              "  </thead>\n",
              "  <tbody>\n",
              "    <tr>\n",
              "      <th>0</th>\n",
              "      <td>SECUNDARIOS</td>\n",
              "    </tr>\n",
              "    <tr>\n",
              "      <th>1</th>\n",
              "      <td>SECUNDARIOS</td>\n",
              "    </tr>\n",
              "    <tr>\n",
              "      <th>2</th>\n",
              "      <td>PRIMARIOS</td>\n",
              "    </tr>\n",
              "    <tr>\n",
              "      <th>3</th>\n",
              "      <td>PRIMARIOS</td>\n",
              "    </tr>\n",
              "    <tr>\n",
              "      <th>4</th>\n",
              "      <td>PRIMARIOS</td>\n",
              "    </tr>\n",
              "  </tbody>\n",
              "</table>\n",
              "</div><br><label><b>dtype:</b> object</label>"
            ]
          },
          "metadata": {},
          "execution_count": 6
        }
      ]
    },
    {
      "cell_type": "markdown",
      "metadata": {
        "id": "8aRNBVR1ZVhH"
      },
      "source": [
        "###  2. Valores distintos"
      ]
    },
    {
      "cell_type": "code",
      "execution_count": 8,
      "metadata": {
        "colab": {
          "base_uri": "https://localhost:8080/"
        },
        "id": "ZajkfVJ0ZOHM",
        "outputId": "efe3e1e1-cfc2-4d10-96c5-9382a113d64f"
      },
      "outputs": [
        {
          "output_type": "execute_result",
          "data": {
            "text/plain": [
              "array(['SECUNDARIOS', 'PRIMARIOS', 'SIN ESTUDIOS',\n",
              "       'PRIMARIOS SIN FINALIZAR', 'SUPERIORES'], dtype=object)"
            ]
          },
          "metadata": {},
          "execution_count": 8
        }
      ],
      "source": [
        "valores_distintos_nivel_ed = nivel_ed.unique()\n",
        "valores_distintos_nivel_ed"
      ]
    },
    {
      "cell_type": "code",
      "source": [
        "num_val_dist_nivel_ed=len(valores_distintos_nivel_ed)\n",
        "print(\"Hay \"+str(num_val_dist_nivel_ed) +\" valores distintos para esta variable\")"
      ],
      "metadata": {
        "colab": {
          "base_uri": "https://localhost:8080/"
        },
        "id": "WYbwt1zRxJ4t",
        "outputId": "5e62289f-9dbb-4825-8716-bff5591efa6b"
      },
      "execution_count": 15,
      "outputs": [
        {
          "output_type": "stream",
          "name": "stdout",
          "text": [
            "Hay 5 valores distintos para esta variable\n"
          ]
        }
      ]
    },
    {
      "cell_type": "markdown",
      "metadata": {
        "id": "WRI5vJqOZX4I"
      },
      "source": [
        "### 3. Tablas de frecuencias absolutas y relativas"
      ]
    },
    {
      "cell_type": "code",
      "execution_count": 16,
      "metadata": {
        "colab": {
          "base_uri": "https://localhost:8080/"
        },
        "id": "n-wMYFWFZMDj",
        "outputId": "d18d0666-958b-4432-f3c2-5c6d49014214"
      },
      "outputs": [
        {
          "output_type": "stream",
          "name": "stdout",
          "text": [
            "Frecuencia absoluta:\n",
            "nivel_ed\n",
            "PRIMARIOS                  467\n",
            "PRIMARIOS SIN FINALIZAR    212\n",
            "SECUNDARIOS                150\n",
            "SIN ESTUDIOS               122\n",
            "SUPERIORES                  49\n",
            "Name: count, dtype: int64\n",
            "Frecuencia relativa:\n",
            "nivel_ed\n",
            "PRIMARIOS                  0.467\n",
            "PRIMARIOS SIN FINALIZAR    0.212\n",
            "SECUNDARIOS                0.150\n",
            "SIN ESTUDIOS               0.122\n",
            "SUPERIORES                 0.049\n",
            "Name: proportion, dtype: float64\n"
          ]
        }
      ],
      "source": [
        "# Calcular la frecuencia absoluta\n",
        "frecuencia_absoluta_ne = datos[\"nivel_ed\"].value_counts()\n",
        "\n",
        "# Calcular la frecuencia relativa\n",
        "frecuencia_relativa_ne = datos[\"nivel_ed\"].value_counts(normalize=True)\n",
        "\n",
        "print(\"Frecuencia absoluta:\\n\"+str(frecuencia_absoluta_ne))\n",
        "print(\"Frecuencia relativa:\\n\"+str(frecuencia_relativa_ne))"
      ]
    },
    {
      "cell_type": "markdown",
      "metadata": {
        "id": "ZR1qgLyfZY8l"
      },
      "source": [
        "### 4. Ordenar los niveles de la variable según el nivel de estudios"
      ]
    },
    {
      "cell_type": "markdown",
      "source": [
        "Debemos convertir la variable `\"nivel_ed\"` a `Categorical` y luego sí ordenamos según el nivel de estudios.\n",
        "\n",
        "Porque si no ordenamos primero, al hacer cálculos acumulados estaríamos sumando niveles de estudio no compatibles y tendríamos sumatorias sin sentido en la vida real."
      ],
      "metadata": {
        "id": "EZqF7Oikzri-"
      }
    },
    {
      "cell_type": "code",
      "source": [
        "frecuencia_absoluta_ne"
      ],
      "metadata": {
        "colab": {
          "base_uri": "https://localhost:8080/",
          "height": 272
        },
        "id": "ip_gnAKt32cU",
        "outputId": "6ebc50bc-c795-41b2-d3e7-bc1d38655821"
      },
      "execution_count": 29,
      "outputs": [
        {
          "output_type": "execute_result",
          "data": {
            "text/plain": [
              "nivel_ed\n",
              "PRIMARIOS                  467\n",
              "PRIMARIOS SIN FINALIZAR    212\n",
              "SECUNDARIOS                150\n",
              "SIN ESTUDIOS               122\n",
              "SUPERIORES                  49\n",
              "Name: count, dtype: int64"
            ],
            "text/html": [
              "<div>\n",
              "<style scoped>\n",
              "    .dataframe tbody tr th:only-of-type {\n",
              "        vertical-align: middle;\n",
              "    }\n",
              "\n",
              "    .dataframe tbody tr th {\n",
              "        vertical-align: top;\n",
              "    }\n",
              "\n",
              "    .dataframe thead th {\n",
              "        text-align: right;\n",
              "    }\n",
              "</style>\n",
              "<table border=\"1\" class=\"dataframe\">\n",
              "  <thead>\n",
              "    <tr style=\"text-align: right;\">\n",
              "      <th></th>\n",
              "      <th>count</th>\n",
              "    </tr>\n",
              "    <tr>\n",
              "      <th>nivel_ed</th>\n",
              "      <th></th>\n",
              "    </tr>\n",
              "  </thead>\n",
              "  <tbody>\n",
              "    <tr>\n",
              "      <th>PRIMARIOS</th>\n",
              "      <td>467</td>\n",
              "    </tr>\n",
              "    <tr>\n",
              "      <th>PRIMARIOS SIN FINALIZAR</th>\n",
              "      <td>212</td>\n",
              "    </tr>\n",
              "    <tr>\n",
              "      <th>SECUNDARIOS</th>\n",
              "      <td>150</td>\n",
              "    </tr>\n",
              "    <tr>\n",
              "      <th>SIN ESTUDIOS</th>\n",
              "      <td>122</td>\n",
              "    </tr>\n",
              "    <tr>\n",
              "      <th>SUPERIORES</th>\n",
              "      <td>49</td>\n",
              "    </tr>\n",
              "  </tbody>\n",
              "</table>\n",
              "</div><br><label><b>dtype:</b> int64</label>"
            ]
          },
          "metadata": {},
          "execution_count": 29
        }
      ]
    },
    {
      "cell_type": "code",
      "source": [
        "orden_niveles_estudio=[\"SIN ESTUDIOS\", \"PRIMARIOS SIN FINALIZAR\",\"PRIMARIOS\", \"SECUNDARIOS\", \"SUPERIORES\"]\n",
        "\n",
        "# Convertir la columna 'nivel_ed' a tipo 'Categorical' con el orden especificado\n",
        "datos[\"nivel_ed\"] = pd.Categorical(datos['nivel_ed'], categories=orden_niveles_estudio, ordered=True)\n",
        "\n",
        "# Ordenar el DataFrame por la columna 'categoria'\n",
        "datos_ordenado_nivel_estudio = datos.sort_values('nivel_ed')\n",
        "\n",
        "#print(datos_ordenado_nivel_estudio) # muestra TODO el DataFrame\n",
        "datos_ordenado_nivel_estudio[\"nivel_ed\"].head()"
      ],
      "metadata": {
        "colab": {
          "base_uri": "https://localhost:8080/",
          "height": 241
        },
        "id": "H2ylecZ2zA2F",
        "outputId": "c4250324-9369-44f4-e6e8-58e54bc97968"
      },
      "execution_count": 33,
      "outputs": [
        {
          "output_type": "execute_result",
          "data": {
            "text/plain": [
              "88     SIN ESTUDIOS\n",
              "216    SIN ESTUDIOS\n",
              "629    SIN ESTUDIOS\n",
              "217    SIN ESTUDIOS\n",
              "219    SIN ESTUDIOS\n",
              "Name: nivel_ed, dtype: category\n",
              "Categories (5, object): ['SIN ESTUDIOS' < 'PRIMARIOS SIN FINALIZAR' < 'PRIMARIOS' < 'SECUNDARIOS' <\n",
              "                         'SUPERIORES']"
            ],
            "text/html": [
              "<div>\n",
              "<style scoped>\n",
              "    .dataframe tbody tr th:only-of-type {\n",
              "        vertical-align: middle;\n",
              "    }\n",
              "\n",
              "    .dataframe tbody tr th {\n",
              "        vertical-align: top;\n",
              "    }\n",
              "\n",
              "    .dataframe thead th {\n",
              "        text-align: right;\n",
              "    }\n",
              "</style>\n",
              "<table border=\"1\" class=\"dataframe\">\n",
              "  <thead>\n",
              "    <tr style=\"text-align: right;\">\n",
              "      <th></th>\n",
              "      <th>nivel_ed</th>\n",
              "    </tr>\n",
              "  </thead>\n",
              "  <tbody>\n",
              "    <tr>\n",
              "      <th>88</th>\n",
              "      <td>SIN ESTUDIOS</td>\n",
              "    </tr>\n",
              "    <tr>\n",
              "      <th>216</th>\n",
              "      <td>SIN ESTUDIOS</td>\n",
              "    </tr>\n",
              "    <tr>\n",
              "      <th>629</th>\n",
              "      <td>SIN ESTUDIOS</td>\n",
              "    </tr>\n",
              "    <tr>\n",
              "      <th>217</th>\n",
              "      <td>SIN ESTUDIOS</td>\n",
              "    </tr>\n",
              "    <tr>\n",
              "      <th>219</th>\n",
              "      <td>SIN ESTUDIOS</td>\n",
              "    </tr>\n",
              "  </tbody>\n",
              "</table>\n",
              "</div><br><label><b>dtype:</b> category</label>"
            ]
          },
          "metadata": {},
          "execution_count": 33
        }
      ]
    },
    {
      "cell_type": "code",
      "source": [
        "frecuencia_absoluta_ne.dtype"
      ],
      "metadata": {
        "colab": {
          "base_uri": "https://localhost:8080/"
        },
        "id": "eCeYa_FO3wnc",
        "outputId": "a95bfaad-1a4c-4ba1-e1f1-bf78f1d4c69e"
      },
      "execution_count": 28,
      "outputs": [
        {
          "output_type": "execute_result",
          "data": {
            "text/plain": [
              "dtype('int64')"
            ]
          },
          "metadata": {},
          "execution_count": 28
        }
      ]
    },
    {
      "cell_type": "code",
      "source": [
        "# Convertir la serie a tipo 'Categorical' con el orden especificado\n",
        "frecuencia_absoluta_ne_ordenada = pd.Categorical(frecuencia_absoluta_ne.index, categories=orden_niveles_estudio, ordered=True)\n",
        "\n",
        "# Ordenar la serie\n",
        "frecuencia_absoluta_ne_ordenada = frecuencia_absoluta_ne.sort_index()\n",
        "frecuencia_absoluta_ne_ordenada"
      ],
      "metadata": {
        "colab": {
          "base_uri": "https://localhost:8080/",
          "height": 272
        },
        "id": "Xzu3IepL213O",
        "outputId": "39ee9abf-e1a0-4aac-8430-5cb055f2f985"
      },
      "execution_count": 32,
      "outputs": [
        {
          "output_type": "execute_result",
          "data": {
            "text/plain": [
              "nivel_ed\n",
              "SIN ESTUDIOS               122\n",
              "PRIMARIOS SIN FINALIZAR    212\n",
              "PRIMARIOS                  467\n",
              "SECUNDARIOS                150\n",
              "SUPERIORES                  49\n",
              "Name: count, dtype: int64"
            ],
            "text/html": [
              "<div>\n",
              "<style scoped>\n",
              "    .dataframe tbody tr th:only-of-type {\n",
              "        vertical-align: middle;\n",
              "    }\n",
              "\n",
              "    .dataframe tbody tr th {\n",
              "        vertical-align: top;\n",
              "    }\n",
              "\n",
              "    .dataframe thead th {\n",
              "        text-align: right;\n",
              "    }\n",
              "</style>\n",
              "<table border=\"1\" class=\"dataframe\">\n",
              "  <thead>\n",
              "    <tr style=\"text-align: right;\">\n",
              "      <th></th>\n",
              "      <th>count</th>\n",
              "    </tr>\n",
              "    <tr>\n",
              "      <th>nivel_ed</th>\n",
              "      <th></th>\n",
              "    </tr>\n",
              "  </thead>\n",
              "  <tbody>\n",
              "    <tr>\n",
              "      <th>SIN ESTUDIOS</th>\n",
              "      <td>122</td>\n",
              "    </tr>\n",
              "    <tr>\n",
              "      <th>PRIMARIOS SIN FINALIZAR</th>\n",
              "      <td>212</td>\n",
              "    </tr>\n",
              "    <tr>\n",
              "      <th>PRIMARIOS</th>\n",
              "      <td>467</td>\n",
              "    </tr>\n",
              "    <tr>\n",
              "      <th>SECUNDARIOS</th>\n",
              "      <td>150</td>\n",
              "    </tr>\n",
              "    <tr>\n",
              "      <th>SUPERIORES</th>\n",
              "      <td>49</td>\n",
              "    </tr>\n",
              "  </tbody>\n",
              "</table>\n",
              "</div><br><label><b>dtype:</b> int64</label>"
            ]
          },
          "metadata": {},
          "execution_count": 32
        }
      ]
    },
    {
      "cell_type": "code",
      "source": [
        "# Convertir la serie a tipo 'Categorical' con el orden especificado\n",
        "frecuencia_relativa_ne_ordenada = pd.Categorical(frecuencia_relativa_ne.index, categories=orden_niveles_estudio, ordered=True)\n",
        "\n",
        "# Ordenar la serie\n",
        "frecuencia_relativa_ne_ordenada = frecuencia_relativa_ne.sort_index()\n",
        "frecuencia_relativa_ne_ordenada"
      ],
      "metadata": {
        "colab": {
          "base_uri": "https://localhost:8080/",
          "height": 272
        },
        "id": "dmbcoz8m2IvB",
        "outputId": "464f81c1-d5e9-45aa-b0f8-0019c475fe35"
      },
      "execution_count": 34,
      "outputs": [
        {
          "output_type": "execute_result",
          "data": {
            "text/plain": [
              "nivel_ed\n",
              "SIN ESTUDIOS               0.122\n",
              "PRIMARIOS SIN FINALIZAR    0.212\n",
              "PRIMARIOS                  0.467\n",
              "SECUNDARIOS                0.150\n",
              "SUPERIORES                 0.049\n",
              "Name: proportion, dtype: float64"
            ],
            "text/html": [
              "<div>\n",
              "<style scoped>\n",
              "    .dataframe tbody tr th:only-of-type {\n",
              "        vertical-align: middle;\n",
              "    }\n",
              "\n",
              "    .dataframe tbody tr th {\n",
              "        vertical-align: top;\n",
              "    }\n",
              "\n",
              "    .dataframe thead th {\n",
              "        text-align: right;\n",
              "    }\n",
              "</style>\n",
              "<table border=\"1\" class=\"dataframe\">\n",
              "  <thead>\n",
              "    <tr style=\"text-align: right;\">\n",
              "      <th></th>\n",
              "      <th>proportion</th>\n",
              "    </tr>\n",
              "    <tr>\n",
              "      <th>nivel_ed</th>\n",
              "      <th></th>\n",
              "    </tr>\n",
              "  </thead>\n",
              "  <tbody>\n",
              "    <tr>\n",
              "      <th>SIN ESTUDIOS</th>\n",
              "      <td>0.122</td>\n",
              "    </tr>\n",
              "    <tr>\n",
              "      <th>PRIMARIOS SIN FINALIZAR</th>\n",
              "      <td>0.212</td>\n",
              "    </tr>\n",
              "    <tr>\n",
              "      <th>PRIMARIOS</th>\n",
              "      <td>0.467</td>\n",
              "    </tr>\n",
              "    <tr>\n",
              "      <th>SECUNDARIOS</th>\n",
              "      <td>0.150</td>\n",
              "    </tr>\n",
              "    <tr>\n",
              "      <th>SUPERIORES</th>\n",
              "      <td>0.049</td>\n",
              "    </tr>\n",
              "  </tbody>\n",
              "</table>\n",
              "</div><br><label><b>dtype:</b> float64</label>"
            ]
          },
          "metadata": {},
          "execution_count": 34
        }
      ]
    },
    {
      "cell_type": "markdown",
      "source": [
        "Con un DataFrame ordenado por niveles de estudios, podemos hacer el cálculo de frecuencias acumuladas y relativas acumuladas."
      ],
      "metadata": {
        "id": "rhq3YUau0mpl"
      }
    },
    {
      "cell_type": "code",
      "source": [
        "# OJO USAMOS LAS FRECUENCIAS ORDENADAS!!\n",
        "frecuencia_acumulada_ne = frecuencia_absoluta_ne_ordenada.cumsum()\n",
        "frecuencia_relativa_acumulada_ne = frecuencia_relativa_ne_ordenada.cumsum()\n",
        "\n",
        "print(\"Tabla de frecuencias acumuladas:\\n\")\n",
        "print(frecuencia_acumulada_ne)\n",
        "\n",
        "print(\"\\nTabla de frecuencias relativas acumuladas:\\n\")\n",
        "print(frecuencia_relativa_acumulada_ne)"
      ],
      "metadata": {
        "colab": {
          "base_uri": "https://localhost:8080/"
        },
        "id": "vW_vv5RJyZ5A",
        "outputId": "e3b13aeb-9709-46e2-bfe7-6c01eab281e6"
      },
      "execution_count": 35,
      "outputs": [
        {
          "output_type": "stream",
          "name": "stdout",
          "text": [
            "Tabla de frecuencias acumuladas:\n",
            "\n",
            "nivel_ed\n",
            "SIN ESTUDIOS                122\n",
            "PRIMARIOS SIN FINALIZAR     334\n",
            "PRIMARIOS                   801\n",
            "SECUNDARIOS                 951\n",
            "SUPERIORES                 1000\n",
            "Name: count, dtype: int64\n",
            "\n",
            "Tabla de frecuencias relativas acumuladas:\n",
            "\n",
            "nivel_ed\n",
            "SIN ESTUDIOS               0.122\n",
            "PRIMARIOS SIN FINALIZAR    0.334\n",
            "PRIMARIOS                  0.801\n",
            "SECUNDARIOS                0.951\n",
            "SUPERIORES                 1.000\n",
            "Name: proportion, dtype: float64\n"
          ]
        }
      ]
    },
    {
      "cell_type": "markdown",
      "metadata": {
        "id": "yRatpvnvZdjG"
      },
      "source": [
        "### 5. Medida de centralización\n",
        "\n",
        "Para variables ordinales, la **mediana** puede usarse como medida de centralización."
      ]
    },
    {
      "cell_type": "code",
      "source": [
        "datos_ordenado_nivel_estudio['nivel_ed_num']"
      ],
      "metadata": {
        "colab": {
          "base_uri": "https://localhost:8080/",
          "height": 458
        },
        "id": "QGJSGZRi7Se-",
        "outputId": "67a543b4-065c-471b-f374-41e9534338b7"
      },
      "execution_count": 39,
      "outputs": [
        {
          "output_type": "execute_result",
          "data": {
            "text/plain": [
              "88     1\n",
              "789    1\n",
              "21     1\n",
              "839    1\n",
              "742    1\n",
              "      ..\n",
              "552    5\n",
              "567    5\n",
              "889    5\n",
              "166    5\n",
              "301    5\n",
              "Name: nivel_ed_num, Length: 1000, dtype: category\n",
              "Categories (5, int64): [1 < 2 < 3 < 4 < 5]"
            ],
            "text/html": [
              "<div>\n",
              "<style scoped>\n",
              "    .dataframe tbody tr th:only-of-type {\n",
              "        vertical-align: middle;\n",
              "    }\n",
              "\n",
              "    .dataframe tbody tr th {\n",
              "        vertical-align: top;\n",
              "    }\n",
              "\n",
              "    .dataframe thead th {\n",
              "        text-align: right;\n",
              "    }\n",
              "</style>\n",
              "<table border=\"1\" class=\"dataframe\">\n",
              "  <thead>\n",
              "    <tr style=\"text-align: right;\">\n",
              "      <th></th>\n",
              "      <th>nivel_ed_num</th>\n",
              "    </tr>\n",
              "  </thead>\n",
              "  <tbody>\n",
              "    <tr>\n",
              "      <th>88</th>\n",
              "      <td>1</td>\n",
              "    </tr>\n",
              "    <tr>\n",
              "      <th>789</th>\n",
              "      <td>1</td>\n",
              "    </tr>\n",
              "    <tr>\n",
              "      <th>21</th>\n",
              "      <td>1</td>\n",
              "    </tr>\n",
              "    <tr>\n",
              "      <th>839</th>\n",
              "      <td>1</td>\n",
              "    </tr>\n",
              "    <tr>\n",
              "      <th>742</th>\n",
              "      <td>1</td>\n",
              "    </tr>\n",
              "    <tr>\n",
              "      <th>...</th>\n",
              "      <td>...</td>\n",
              "    </tr>\n",
              "    <tr>\n",
              "      <th>552</th>\n",
              "      <td>5</td>\n",
              "    </tr>\n",
              "    <tr>\n",
              "      <th>567</th>\n",
              "      <td>5</td>\n",
              "    </tr>\n",
              "    <tr>\n",
              "      <th>889</th>\n",
              "      <td>5</td>\n",
              "    </tr>\n",
              "    <tr>\n",
              "      <th>166</th>\n",
              "      <td>5</td>\n",
              "    </tr>\n",
              "    <tr>\n",
              "      <th>301</th>\n",
              "      <td>5</td>\n",
              "    </tr>\n",
              "  </tbody>\n",
              "</table>\n",
              "<p>1000 rows × 1 columns</p>\n",
              "</div><br><label><b>dtype:</b> category</label>"
            ]
          },
          "metadata": {},
          "execution_count": 39
        }
      ]
    },
    {
      "cell_type": "code",
      "source": [],
      "metadata": {
        "colab": {
          "base_uri": "https://localhost:8080/"
        },
        "id": "qi4uGGQs7ilB",
        "outputId": "f5fd406d-0b78-4cf9-8cd3-a47f406061d5"
      },
      "execution_count": 41,
      "outputs": [
        {
          "output_type": "execute_result",
          "data": {
            "text/plain": [
              "2.0"
            ]
          },
          "metadata": {},
          "execution_count": 41
        }
      ]
    },
    {
      "cell_type": "code",
      "source": [
        "#datos_ordenado_nivel_estudio=datos_ordenado_nivel_estudio.sort_values('nivel_ed')\n",
        "\n",
        "# Asignar valores numéricos a las categorías (basado en el orden)\n",
        "mapeo_numerico = {'SIN ESTUDIOS': 1, 'PRIMARIOS SIN FINALIZAR': 2, 'PRIMARIOS': 3, 'SECUNDARIOS': 4, 'SUPERIORES': 5}\n",
        "datos_ordenado_nivel_estudio['nivel_ed_num'] = datos_ordenado_nivel_estudio['nivel_ed'].map(mapeo_numerico)\n",
        "\n",
        "# Calcular la mediana de la columna \"numérica\"\n",
        "datos_ordenado_nivel_estudio['nivel_ed_num']=datos_ordenado_nivel_estudio['nivel_ed_num'].cat.codes\n",
        "mediana_categoria=datos_ordenado_nivel_estudio['nivel_ed_num'].median()\n",
        "\n",
        "print(mediana_categoria)  # Output: 2.0"
      ],
      "metadata": {
        "colab": {
          "base_uri": "https://localhost:8080/"
        },
        "id": "s_tAvhPX5qGQ",
        "outputId": "b47aeeed-0fdf-4482-c87e-d0598050a979"
      },
      "execution_count": 42,
      "outputs": [
        {
          "output_type": "stream",
          "name": "stdout",
          "text": [
            "2.0\n"
          ]
        }
      ]
    },
    {
      "cell_type": "markdown",
      "source": [
        "La medida de centralización (mediana) es: PRIMARIOS"
      ],
      "metadata": {
        "id": "MvDzN8zY8QVU"
      }
    },
    {
      "cell_type": "markdown",
      "metadata": {
        "id": "32AiFj23ZpOF"
      },
      "source": [
        "### 6. Representación gráfica\n",
        "\n",
        "Usaremos un **gráfico de barras** para representar las frecuencias absolutas."
      ]
    },
    {
      "cell_type": "code",
      "source": [
        "# Crear el diagrama de barras\n",
        "# agregar hue para eliminar el aviso de deprecated!\n",
        "sns.barplot(x=frecuencia_absoluta_ne.index.tolist(), y=frecuencia_absoluta_ne, palette='tab10')\n",
        "\n",
        "# Personalizar el gráfico (opcional)\n",
        "plt.title(\"Frecuencias Absolutas de Nivel de Estudios\")\n",
        "plt.xlabel(\"Nivel de Estudios\")\n",
        "plt.ylabel(\"Frecuencias\")\n",
        "#plt.xticks(rotation=45)  # Rotar las etiquetas 45 grados\n",
        "\n",
        "# Mostrar el gráfico\n",
        "plt.show()"
      ],
      "metadata": {
        "colab": {
          "base_uri": "https://localhost:8080/",
          "height": 559
        },
        "id": "BIAgou4Q8qlH",
        "outputId": "692a2a87-1077-4287-f79a-c2e7e2aba47e"
      },
      "execution_count": 44,
      "outputs": [
        {
          "output_type": "stream",
          "name": "stderr",
          "text": [
            "<ipython-input-44-5bab869a1fa0>:3: FutureWarning: \n",
            "\n",
            "Passing `palette` without assigning `hue` is deprecated and will be removed in v0.14.0. Assign the `x` variable to `hue` and set `legend=False` for the same effect.\n",
            "\n",
            "  sns.barplot(x=frecuencia_absoluta_ne.index.tolist(), y=frecuencia_absoluta_ne, palette='tab10')\n"
          ]
        },
        {
          "output_type": "display_data",
          "data": {
            "text/plain": [
              "<Figure size 640x480 with 1 Axes>"
            ],
            "image/png": "[encoded data removed]"
          },
          "metadata": {}
        }
      ]
    }
  ],
  "metadata": {
    "colab": {
      "provenance": [],
      "toc_visible": true
    },
    "kernelspec": {
      "display_name": "Python 3",
      "name": "python3"
    },
    "language_info": {
      "name": "R"
    }
  },
  "nbformat": 4,
  "nbformat_minor": 0
}